{
 "cells": [
  {
   "cell_type": "code",
   "execution_count": 1,
   "metadata": {},
   "outputs": [],
   "source": [
    "import pandas as pd\n",
    "import numpy as np\n",
    "from matplotlib import pyplot as plt\n",
    "import os"
   ]
  },
  {
   "cell_type": "code",
   "execution_count": 2,
   "metadata": {},
   "outputs": [
    {
     "name": "stdout",
     "output_type": "stream",
     "text": [
      "<class 'pandas.core.frame.DataFrame'>\n",
      "RangeIndex: 83414 entries, 0 to 83413\n",
      "Data columns (total 37 columns):\n",
      " #   Column                    Non-Null Count  Dtype  \n",
      "---  ------                    --------------  -----  \n",
      " 0   Unnamed: 0                83414 non-null  int64  \n",
      " 1   Unnamed: 0.1              83414 non-null  int64  \n",
      " 2   dt                        83414 non-null  object \n",
      " 3   weekday                   83414 non-null  int64  \n",
      " 4   year                      83414 non-null  int64  \n",
      " 5   id_driver                 83414 non-null  int64  \n",
      " 6   id_carrier_number         83414 non-null  object \n",
      " 7   dim_carrier_type          83414 non-null  object \n",
      " 8   dim_carrier_company_name  83367 non-null  object \n",
      " 9   home_base_city            83370 non-null  object \n",
      " 10  home_base_state           83370 non-null  object \n",
      " 11  carrier_trucks            83414 non-null  object \n",
      " 12  num_trucks                83344 non-null  float64\n",
      " 13  interested_in_drayage     83414 non-null  object \n",
      " 14  port_qualified            83414 non-null  object \n",
      " 15  signup_source             83414 non-null  object \n",
      " 16  ts_signup                 83414 non-null  object \n",
      " 17  ts_first_approved         71128 non-null  object \n",
      " 18  days_signup_to_approval   71128 non-null  float64\n",
      " 19  driver_with_twic          83414 non-null  object \n",
      " 20  dim_preferred_lanes       3413 non-null   object \n",
      " 21  first_load_date           83414 non-null  object \n",
      " 22  most_recent_load_date     83414 non-null  object \n",
      " 23  load_day                  83414 non-null  object \n",
      " 24  loads                     83414 non-null  int64  \n",
      " 25  marketplace_loads_otr     83414 non-null  int64  \n",
      " 26  marketplace_loads_atlas   83414 non-null  int64  \n",
      " 27  marketplace_loads         83414 non-null  int64  \n",
      " 28  brokerage_loads_otr       83414 non-null  int64  \n",
      " 29  brokerage_loads_atlas     83414 non-null  int64  \n",
      " 30  brokerage_loads           83414 non-null  int64  \n",
      " 31  total_loads               83414 non-null  int64  \n",
      " 32  date                      83414 non-null  object \n",
      " 33  period                    83414 non-null  int64  \n",
      " 34  recent_date               83414 non-null  object \n",
      " 35  test                      83414 non-null  int64  \n",
      " 36  label                     83414 non-null  int64  \n",
      "dtypes: float64(2), int64(16), object(19)\n",
      "memory usage: 23.5+ MB\n"
     ]
    }
   ],
   "source": [
    "# load data\n",
    "data_path = \".\"\n",
    "data_name = \"training_dataset.csv\"\n",
    "df_raw = pd.read_csv(os.path.join(data_path, data_name))\n",
    "df_raw.info()"
   ]
  },
  {
   "cell_type": "code",
   "execution_count": 3,
   "metadata": {},
   "outputs": [
    {
     "data": {
      "text/plain": [
       "dt                          1907\n",
       "weekday                        7\n",
       "year                           7\n",
       "id_driver                   5285\n",
       "id_carrier_number           2575\n",
       "dim_carrier_type               2\n",
       "dim_carrier_company_name    2493\n",
       "home_base_city               518\n",
       "home_base_state               40\n",
       "carrier_trucks                16\n",
       "num_trucks                    30\n",
       "interested_in_drayage          2\n",
       "port_qualified                 2\n",
       "signup_source                  2\n",
       "ts_signup                   2575\n",
       "ts_first_approved           1883\n",
       "days_signup_to_approval      674\n",
       "driver_with_twic               2\n",
       "dim_preferred_lanes           53\n",
       "first_load_date             1455\n",
       "most_recent_load_date       1415\n",
       "load_day                    1907\n",
       "loads                         67\n",
       "marketplace_loads_otr        108\n",
       "marketplace_loads_atlas      196\n",
       "marketplace_loads            228\n",
       "brokerage_loads_otr          216\n",
       "brokerage_loads_atlas        101\n",
       "brokerage_loads              241\n",
       "total_loads                  331\n",
       "date                        1907\n",
       "period                         2\n",
       "recent_date                 1415\n",
       "dtype: int64"
      ]
     },
     "execution_count": 3,
     "metadata": {},
     "output_type": "execute_result"
    }
   ],
   "source": [
    "# get rid of extraneous features\n",
    "df_raw.drop([\"Unnamed: 0\", \"Unnamed: 0.1\", \"test\", \"label\"], axis=1, inplace=True, errors='ignore')\n",
    "df_raw.nunique()"
   ]
  },
  {
   "cell_type": "code",
   "execution_count": 4,
   "metadata": {},
   "outputs": [
    {
     "data": {
      "text/plain": [
       "dt                          1720\n",
       "weekday                     1720\n",
       "year                        1720\n",
       "id_driver                   1720\n",
       "id_carrier_number           1720\n",
       "dim_carrier_type            1720\n",
       "dim_carrier_company_name    1719\n",
       "home_base_city              1715\n",
       "home_base_state             1715\n",
       "carrier_trucks              1720\n",
       "num_trucks                  1688\n",
       "interested_in_drayage       1720\n",
       "port_qualified              1720\n",
       "signup_source               1720\n",
       "ts_signup                   1720\n",
       "ts_first_approved           1209\n",
       "days_signup_to_approval     1209\n",
       "driver_with_twic            1720\n",
       "dim_preferred_lanes           66\n",
       "first_load_date             1720\n",
       "most_recent_load_date       1720\n",
       "load_day                    1720\n",
       "loads                       1720\n",
       "marketplace_loads_otr       1720\n",
       "marketplace_loads_atlas     1720\n",
       "marketplace_loads           1720\n",
       "brokerage_loads_otr         1720\n",
       "brokerage_loads_atlas       1720\n",
       "brokerage_loads             1720\n",
       "total_loads                 1720\n",
       "date                        1720\n",
       "period                      1720\n",
       "recent_date                 1720\n",
       "dtype: int64"
      ]
     },
     "execution_count": 4,
     "metadata": {},
     "output_type": "execute_result"
    }
   ],
   "source": [
    "df_raw[df_raw[\"total_loads\"] == df_raw[\"loads\"]].count()"
   ]
  }
 ],
 "metadata": {
  "kernelspec": {
   "display_name": "Python 3",
   "language": "python",
   "name": "python3"
  },
  "language_info": {
   "codemirror_mode": {
    "name": "ipython",
    "version": 3
   },
   "file_extension": ".py",
   "mimetype": "text/x-python",
   "name": "python",
   "nbconvert_exporter": "python",
   "pygments_lexer": "ipython3",
   "version": "3.9.1"
  }
 },
 "nbformat": 4,
 "nbformat_minor": 4
}
