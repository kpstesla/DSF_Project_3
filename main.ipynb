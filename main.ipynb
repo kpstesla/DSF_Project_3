{
 "cells": [
  {
   "cell_type": "markdown",
   "id": "verified-confidentiality",
   "metadata": {},
   "source": [
    "# Augmentation Methodology\n",
    "The following describes the methodology used to augment the driver information, given that we are going to collapse the data into a frame with single rows per driver. Since we will be inherently losing information by collapsing all of the rows, we will need to supplement the dataset with new columns.\n",
    "\n",
    "## Temporal Data\n",
    "Most of the temporal information will be lost when we collapse the rows, so we will need additional columns that summarize that info:\n",
    "\n",
    "- Start date (first load)\n",
    "- End date (most recent load)\n",
    "- Longevity (how long the driver has been employed, according to this dataset)\n",
    "- Trip Frequency (standard deviation or some measure of variance between trips)\n",
    "- Load Delta (some standard measure of how many days between each load)\n",
    "- Preferred weekday (the mode of the `weekday` column\n",
    "- Normal weekday (the mean or median of the `weekday` column\n",
    "- Weekday distribution (are the weekdays consistent?)\n",
    "\n",
    "## Location Data\n",
    "\n",
    "- Roaming (does the driver have more than one reported `home_base_city` or `home_base_state`?\n",
    "- Preferred Trip Distance (Possibly use `interested_in_dryage` and `carrier_trucks` to determine a measure of how far the driver prefers to drive)\n",
    "\n",
    "## Boolean Features\n",
    "\n",
    "- Indecision (did this person apply to become a driver more than once?)\n",
    "\n",
    "---\n",
    "\n",
    "# Transformation Methodology\n",
    "\n",
    "## Converting categoricals to boolean\n",
    "\n",
    "The following columns have only two unique values, which are easily turned into boolean features:\n",
    "\n",
    "- `dim_carrier_type` (corresponds to \"is this a self-owned driver?\", **0: Fleet, 1: Owner Operator**)\n",
    "- `interested_in_drayage` (corresponds to \"is this driver willing/able to complete drayage shipments?\", **0: not specified, 1: yes**)\n",
    "- `port_qualified` (corresponds to \"is this driver qualified to handle port shipments?\", **0: no, 1: yes**)\n",
    "- `signup_source` (corresponds to \"did this driver sign up on a mobile device?\", **0: Other, 1: Mobile**)\n",
    "- `driver_with_twic` (corresponds to \"does this driver have TWIC insurance?\" **0: no, 1: yes**)\n",
    "\n",
    "## One Hot Encoding Categoricals\n",
    "\n",
    "The following columns have a limited number of unique categorical values that would work well with one-hot encoding\n",
    "\n",
    "- `carrier_trucks` (16 unique arrangements of trucks)\n",
    "- `weekday` (**possible** -- pro: maintain all information for day of week, con: 7 extra columns, most of which will be sparse)\n",
    "- `dim_preferred_lanes` (**possible** -- 53 unique values -- pro: this might actually mean something, con: it might mean absolutely nothing and will double the number of columns)"
   ]
  },
  {
   "cell_type": "code",
   "execution_count": 1,
   "id": "floral-guarantee",
   "metadata": {},
   "outputs": [],
   "source": [
    "import numpy as np\n",
    "import pandas as pd\n",
    "import matplotlib\n",
    "import matplotlib.pyplot as plt\n",
    "import sklearn\n",
    "import seaborn as sn\n",
    "import datetime\n",
    "import random\n",
    "from datetime import date\n",
    "from pprint import pprint\n",
    "from sklearn.preprocessing import LabelEncoder, OneHotEncoder\n",
    "import statistics \n",
    "from statistics import mode"
   ]
  },
  {
   "cell_type": "code",
   "execution_count": 2,
   "id": "stainless-gnome",
   "metadata": {},
   "outputs": [],
   "source": [
    "def aggregate_rows_by_driver_id(dataframe):\n",
    "    '''\n",
    "    Returns a new dataframe indexed by Driver ID using an optimal set of aggregations per column.\n",
    "    This method will return a dataframe that only contains the columns listed below.\n",
    "    Note: duplicate columns are inherently pruned (simply by not adding them below), so it is \n",
    "        safe to pass in the full dataframe and expect a pruned version in return. \n",
    "        Also note that the `id_driver` will now be the index of the dataframe and NOT its own column.\n",
    "    '''\n",
    "    minimum = 'min'\n",
    "    maximum = 'max'\n",
    "    median = 'median'\n",
    "    random_mode = lambda x: random.choice(pd.Series.mode(x if isinstance(x, list) else list(x)))\n",
    "\n",
    "    aggregation = {\n",
    "        'dt': maximum,\n",
    "        'weekday': random_mode,\n",
    "        'id_carrier_number': random_mode,\n",
    "        'dim_carrier_type': random_mode,\n",
    "        'dim_carrier_company_name': mode,\n",
    "        'home_base_city': mode,\n",
    "        'home_base_state': mode,\n",
    "        'carrier_trucks': mode,\n",
    "        'num_trucks': maximum,\n",
    "        'interested_in_drayage': random_mode,\n",
    "        'port_qualified': random_mode,\n",
    "        'signup_source': random_mode,\n",
    "        'ts_signup': maximum,\n",
    "        'ts_first_approved': minimum,\n",
    "        'days_signup_to_approval': maximum,\n",
    "        'driver_with_twic': mode,\n",
    "        'dim_preferred_lanes': mode,\n",
    "        'first_load_date': minimum,\n",
    "        'most_recent_load_date': maximum,\n",
    "        'loads': random_mode,\n",
    "        'marketplace_loads_otr': maximum,\n",
    "        'marketplace_loads_atlas': maximum,\n",
    "        'marketplace_loads': maximum,\n",
    "        'brokerage_loads_otr': maximum,\n",
    "        'brokerage_loads_atlas': maximum,\n",
    "        'brokerage_loads': maximum,\n",
    "        'total_loads': maximum\n",
    "    }\n",
    "\n",
    "    return dataframe.groupby(['id_driver']).agg(aggregation)"
   ]
  },
  {
   "cell_type": "code",
   "execution_count": 3,
   "id": "destroyed-remains",
   "metadata": {},
   "outputs": [
    {
     "data": {
      "text/plain": [
       "(83414, 31)"
      ]
     },
     "execution_count": 3,
     "metadata": {},
     "output_type": "execute_result"
    }
   ],
   "source": [
    "df = pd.read_csv('training_dataset_V3.csv')\n",
    "df.shape"
   ]
  },
  {
   "cell_type": "code",
   "execution_count": 4,
   "id": "contrary-guidance",
   "metadata": {},
   "outputs": [],
   "source": [
    "df2 = aggregate_rows_by_driver_id(df)"
   ]
  },
  {
   "cell_type": "code",
   "execution_count": 5,
   "id": "raised-twins",
   "metadata": {},
   "outputs": [
    {
     "name": "stdout",
     "output_type": "stream",
     "text": [
      "<class 'pandas.core.frame.DataFrame'>\n",
      "Int64Index: 5291 entries, 20 to 38125\n",
      "Data columns (total 27 columns):\n",
      " #   Column                    Non-Null Count  Dtype  \n",
      "---  ------                    --------------  -----  \n",
      " 0   dt                        5291 non-null   object \n",
      " 1   weekday                   5291 non-null   object \n",
      " 2   id_carrier_number         5291 non-null   object \n",
      " 3   dim_carrier_type          5291 non-null   object \n",
      " 4   dim_carrier_company_name  5284 non-null   object \n",
      " 5   home_base_city            5279 non-null   object \n",
      " 6   home_base_state           5279 non-null   object \n",
      " 7   carrier_trucks            5291 non-null   object \n",
      " 8   num_trucks                5249 non-null   float64\n",
      " 9   interested_in_drayage     5291 non-null   object \n",
      " 10  port_qualified            5291 non-null   object \n",
      " 11  signup_source             5291 non-null   object \n",
      " 12  ts_signup                 5291 non-null   object \n",
      " 13  ts_first_approved         3962 non-null   object \n",
      " 14  days_signup_to_approval   3962 non-null   float64\n",
      " 15  driver_with_twic          5291 non-null   object \n",
      " 16  dim_preferred_lanes       194 non-null    object \n",
      " 17  first_load_date           5291 non-null   object \n",
      " 18  most_recent_load_date     5291 non-null   object \n",
      " 19  loads                     5291 non-null   int64  \n",
      " 20  marketplace_loads_otr     5291 non-null   int64  \n",
      " 21  marketplace_loads_atlas   5291 non-null   int64  \n",
      " 22  marketplace_loads         5291 non-null   int64  \n",
      " 23  brokerage_loads_otr       5291 non-null   int64  \n",
      " 24  brokerage_loads_atlas     5291 non-null   int64  \n",
      " 25  brokerage_loads           5291 non-null   int64  \n",
      " 26  total_loads               5291 non-null   int64  \n",
      "dtypes: float64(2), int64(8), object(17)\n",
      "memory usage: 1.1+ MB\n"
     ]
    }
   ],
   "source": [
    "df2.info()"
   ]
  },
  {
   "cell_type": "code",
   "execution_count": 6,
   "id": "expired-dayton",
   "metadata": {},
   "outputs": [
    {
     "data": {
      "text/plain": [
       "dt                          1418\n",
       "weekday                        7\n",
       "id_carrier_number           2572\n",
       "dim_carrier_type               2\n",
       "dim_carrier_company_name    2491\n",
       "home_base_city               520\n",
       "home_base_state               40\n",
       "carrier_trucks                16\n",
       "num_trucks                    30\n",
       "interested_in_drayage          2\n",
       "port_qualified                 2\n",
       "signup_source                  2\n",
       "ts_signup                   2573\n",
       "ts_first_approved           1880\n",
       "days_signup_to_approval      674\n",
       "driver_with_twic               2\n",
       "dim_preferred_lanes           53\n",
       "first_load_date             1458\n",
       "most_recent_load_date       1418\n",
       "loads                         13\n",
       "marketplace_loads_otr        108\n",
       "marketplace_loads_atlas      196\n",
       "marketplace_loads            228\n",
       "brokerage_loads_otr          216\n",
       "brokerage_loads_atlas        101\n",
       "brokerage_loads              241\n",
       "total_loads                  331\n",
       "dtype: int64"
      ]
     },
     "execution_count": 6,
     "metadata": {},
     "output_type": "execute_result"
    }
   ],
   "source": [
    "df2.nunique()"
   ]
  },
  {
   "cell_type": "code",
   "execution_count": null,
   "id": "powerful-county",
   "metadata": {},
   "outputs": [],
   "source": []
  }
 ],
 "metadata": {
  "kernelspec": {
   "display_name": "Python 3",
   "language": "python",
   "name": "python3"
  },
  "language_info": {
   "codemirror_mode": {
    "name": "ipython",
    "version": 3
   },
   "file_extension": ".py",
   "mimetype": "text/x-python",
   "name": "python",
   "nbconvert_exporter": "python",
   "pygments_lexer": "ipython3",
   "version": "3.8.5"
  }
 },
 "nbformat": 4,
 "nbformat_minor": 5
}
