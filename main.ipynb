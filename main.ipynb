{
 "cells": [
  {
   "cell_type": "markdown",
   "id": "three-stake",
   "metadata": {},
   "source": [
    "# Augmentation Methodology\n",
    "The following describes the methodology used to augment the driver information, given that we are going to collapse the data into a frame with single rows per driver. Since we will be inherently losing information by collapsing all of the rows, we will need to supplement the dataset with new columns.\n",
    "\n",
    "## Temporal Data\n",
    "Most of the temporal information will be lost when we collapse the rows, so we will need additional columns that summarize that info:\n",
    "\n",
    "- Start date (first load)\n",
    "- End date (most recent load)\n",
    "- Longevity (how long the driver has been employed, according to this dataset)\n",
    "- Trip Frequency (standard deviation or some measure of variance between trips)\n",
    "- Load Delta (some standard measure of how many days between each load)\n",
    "- Preferred weekday (the mode of the `weekday` column\n",
    "- Normal weekday (the mean or median of the `weekday` column\n",
    "- Weekday distribution (are the weekdays consistent?)\n",
    "\n",
    "## Location Data\n",
    "\n",
    "- Roaming (does the driver have more than one reported `home_base_city` or `home_base_state`?\n",
    "- Preferred Trip Distance (Possibly use `interested_in_dryage` and `carrier_trucks` to determine a measure of how far the driver prefers to drive)\n",
    "\n",
    "## Boolean Features\n",
    "\n",
    "- Indecision (did this person apply to become a driver more than once?)\n",
    "\n",
    "---\n",
    "\n",
    "# Transformation Methodology\n",
    "\n",
    "## Converting categoricals to boolean\n",
    "\n",
    "The following columns have only two unique values, which are easily turned into boolean features:\n",
    "\n",
    "- `dim_carrier_type` (**already implemented** corresponds to \"is this a self-owned driver?\", **0: Fleet, 1: Owner Operator**)\n",
    "- `interested_in_drayage` (**already implemented** corresponds to \"is this driver willing/able to complete drayage shipments?\", **0: not specified, 1: yes**)\n",
    "- `port_qualified` (**already implemented** corresponds to \"is this driver qualified to handle port shipments?\", **0: no, 1: yes**)\n",
    "- `signup_source` (**already implemented** corresponds to \"did this driver sign up on a mobile device?\", **0: Other, 1: Mobile**)\n",
    "- `driver_with_twic` (**already implemented** corresponds to \"does this driver have TWIC insurance?\" **0: no, 1: yes**)\n",
    "\n",
    "## New boolean columns\n",
    "- `dim_preferred_lanes` (**already implemented** corresponds to \"does this driver have a route preference?\" **0: null, 1: any**)\n",
    "- `approved` (**not implemented yet** use `ts_first_approved` and/or `days_signup_to_approval` to determine if the driver was approved)\n",
    "\n",
    "## One Hot Encoding Categoricals\n",
    "\n",
    "The following columns have a limited number of unique categorical values that would work well with one-hot encoding\n",
    "\n",
    "- `carrier_trucks` (**already implemented** 16 unique arrangements of trucks)\n",
    "- `weekday` (**already implemented** -- pro: maintain all information for day of week, con: 7 extra columns, most of which will be sparse)\n",
    "- `dim_preferred_lanes` (**not implemented yet** -- 53 unique values -- pro: this might actually mean something, con: it might mean absolutely nothing and will double the number of columns)"
   ]
  },
  {
   "cell_type": "code",
   "execution_count": 1,
   "id": "configured-portable",
   "metadata": {},
   "outputs": [],
   "source": [
    "import numpy as np\n",
    "import pandas as pd\n",
    "import matplotlib\n",
    "import matplotlib.pyplot as plt\n",
    "import sklearn\n",
    "import seaborn as sn\n",
    "import datetime\n",
    "import random\n",
    "from datetime import date\n",
    "from pprint import pprint\n",
    "from sklearn.preprocessing import LabelEncoder, OneHotEncoder, OrdinalEncoder\n",
    "import statistics \n",
    "from statistics import mode"
   ]
  },
  {
   "cell_type": "code",
   "execution_count": 2,
   "id": "hearing-parks",
   "metadata": {},
   "outputs": [],
   "source": [
    "def convert_strings_to_dates(dataframe):\n",
    "    frame = dataframe.copy()\n",
    "    frame.dt = [date.fromisoformat(d) for d in frame.dt]\n",
    "    frame.most_recent_load_date = [date.fromisoformat(d) for d in frame.most_recent_load_date]\n",
    "    return frame"
   ]
  },
  {
   "cell_type": "code",
   "execution_count": 30,
   "id": "architectural-gravity",
   "metadata": {},
   "outputs": [],
   "source": [
    "def aggregate_rows_by_driver_id(dataframe):\n",
    "    '''\n",
    "    Returns a new dataframe indexed by Driver ID using an optimal set of aggregations per column.\n",
    "    This method will return a dataframe that only contains the columns listed below.\n",
    "    Note: duplicate columns are inherently pruned (simply by not adding them below), so it is \n",
    "        safe to pass in the full dataframe and expect a pruned version in return. \n",
    "        Also note that the `id_driver` will now be the index of the dataframe and NOT its own column.\n",
    "    '''\n",
    "    minimum = 'min'\n",
    "    maximum = 'max'\n",
    "    median = 'median'\n",
    "    random_mode = lambda x: random.choice(pd.Series.mode(x if isinstance(x, list) else list(x)))\n",
    "    average = lambda x: pd.Series.mean(x)\n",
    "\n",
    "    aggregation = {\n",
    "        'dt': maximum,\n",
    "        'weekday': random_mode,\n",
    "        'id_carrier_number': random_mode,\n",
    "        'dim_carrier_type': random_mode,\n",
    "        'dim_carrier_company_name': mode,\n",
    "        'home_base_city': mode,\n",
    "        'home_base_state': mode,\n",
    "        'carrier_trucks': mode,\n",
    "        'num_trucks': maximum,\n",
    "        'interested_in_drayage': random_mode,\n",
    "        'port_qualified': random_mode,\n",
    "        'signup_source': random_mode,\n",
    "        'ts_signup': maximum,\n",
    "        'ts_first_approved': minimum,\n",
    "        'days_signup_to_approval': maximum,\n",
    "        'driver_with_twic': mode,\n",
    "        'dim_preferred_lanes': mode,\n",
    "        'first_load_date': minimum,\n",
    "#         'most_recent_load_date': maximum,\n",
    "        'loads': random_mode,\n",
    "        'marketplace_loads_otr': maximum,\n",
    "        'marketplace_loads_atlas': maximum,\n",
    "        'marketplace_loads': maximum,\n",
    "        'brokerage_loads_otr': maximum,\n",
    "        'brokerage_loads_atlas': maximum,\n",
    "        'brokerage_loads': maximum,\n",
    "#         'total_loads': maximum,\n",
    "        'label': random_mode\n",
    "    }\n",
    "\n",
    "    return dataframe.groupby(['id_driver']).agg(aggregation)"
   ]
  },
  {
   "cell_type": "code",
   "execution_count": 4,
   "id": "preliminary-prince",
   "metadata": {},
   "outputs": [],
   "source": [
    "def augment_boolean_columns(dataframe):\n",
    "    frame = dataframe.copy()\n",
    "    label_encoder = LabelEncoder()\n",
    "    \n",
    "    # Replacement (no new columns needed, just transform strings to 0 or 1)\n",
    "    frame['interested_in_drayage'] = label_encoder.fit_transform(df2.interested_in_drayage)\n",
    "    frame['port_qualified'] = label_encoder.fit_transform(df2.port_qualified)\n",
    "    frame['driver_with_twic'] = label_encoder.fit_transform(df2.driver_with_twic)\n",
    "    \n",
    "    # Create new columns with more appropriate names, delete the old columns\n",
    "    frame['self_owned'] = label_encoder.fit_transform(df2.dim_carrier_type)\n",
    "    frame['mobile_signup'] = np.logical_xor(label_encoder.fit_transform(df2.signup_source), 1).astype(int)\n",
    "    frame.drop(columns=['dim_carrier_type', 'signup_source'], inplace=True)\n",
    "    \n",
    "    # Create new columns with appropriate names, do not delete old columns\n",
    "    frame['has_route_preference'] = label_encoder.fit_transform(~frame.dim_preferred_lanes.isnull())\n",
    "    frame['approved'] = label_encoder.fit_transform(~frame.days_signup_to_approval.isnull() & ~frame.ts_first_approved.isnull())\n",
    "    \n",
    "    return frame"
   ]
  },
  {
   "cell_type": "code",
   "execution_count": 5,
   "id": "naval-parker",
   "metadata": {},
   "outputs": [],
   "source": [
    "def encode_categorical_columns(dataframe):\n",
    "    frame = dataframe.copy()\n",
    "\n",
    "    # Encode various truck types\n",
    "    trucks = pd.get_dummies(frame.carrier_trucks)\n",
    "    trucks.columns = ['truck-' + c.replace('[', '').replace(']', '').replace('\"', '').replace(',', '').replace(' ', '-') for c in trucks.columns]\n",
    "    \n",
    "    # Encode the 7 different days of the week\n",
    "    weekdays = pd.get_dummies(frame.weekday)\n",
    "    weekdays.columns = [f'prefers-{x}'.lower() for x in weekdays.columns]\n",
    "    \n",
    "#     Encode ~53 unique preferred routes (not sure if we want to keep this or not)\n",
    "#     preferred_lanes = pd.get_dummies(df4.dim_preferred_lanes)\n",
    "#     preferred_lanes.columns = [f'route-{x}' for x in range(len(preferred_lanes.columns))]\n",
    "#     preferred_lanes\n",
    "    \n",
    "    # Drop the originals since they are no longer needed.\n",
    "    frame.drop(columns=['carrier_trucks', 'weekday'], inplace=True)\n",
    "    \n",
    "    # Concatenate various new frames with the original and return\n",
    "    result = pd.concat([frame, trucks, weekdays], axis=1)\n",
    "    return result"
   ]
  },
  {
   "cell_type": "code",
   "execution_count": 27,
   "id": "iraqi-sleep",
   "metadata": {},
   "outputs": [],
   "source": [
    "def generate_labels(dataframe, loads_percentile, most_recent_percentile):\n",
    "    label_encoder = LabelEncoder()\n",
    "    frame = dataframe.copy()\n",
    "    labels = (dataframe.total_loads >= loads_percentile) & (dataframe.most_recent_load_date >= most_recent_percentile)\n",
    "    frame['label'] = label_encoder.fit_transform(labels)\n",
    "    frame.drop(columns=['total_loads', 'most_recent_load_date'], inplace=True)\n",
    "    return frame"
   ]
  },
  {
   "cell_type": "markdown",
   "id": "streaming-doctrine",
   "metadata": {},
   "source": [
    "## Load CSV to DataFrame"
   ]
  },
  {
   "cell_type": "code",
   "execution_count": 7,
   "id": "wrapped-broadcast",
   "metadata": {},
   "outputs": [
    {
     "name": "stdout",
     "output_type": "stream",
     "text": [
      "<class 'pandas.core.frame.DataFrame'>\n",
      "RangeIndex: 83414 entries, 0 to 83413\n",
      "Data columns (total 31 columns):\n",
      " #   Column                    Non-Null Count  Dtype  \n",
      "---  ------                    --------------  -----  \n",
      " 0   Unnamed: 0                83414 non-null  int64  \n",
      " 1   dt                        83414 non-null  object \n",
      " 2   weekday                   83414 non-null  object \n",
      " 3   year                      83414 non-null  int64  \n",
      " 4   id_driver                 83414 non-null  int64  \n",
      " 5   id_carrier_number         83414 non-null  object \n",
      " 6   dim_carrier_type          83414 non-null  object \n",
      " 7   dim_carrier_company_name  83365 non-null  object \n",
      " 8   home_base_city            83369 non-null  object \n",
      " 9   home_base_state           83369 non-null  object \n",
      " 10  carrier_trucks            83414 non-null  object \n",
      " 11  num_trucks                83344 non-null  float64\n",
      " 12  interested_in_drayage     83414 non-null  object \n",
      " 13  port_qualified            83414 non-null  object \n",
      " 14  signup_source             83414 non-null  object \n",
      " 15  ts_signup                 83414 non-null  object \n",
      " 16  ts_first_approved         71124 non-null  object \n",
      " 17  days_signup_to_approval   71124 non-null  float64\n",
      " 18  driver_with_twic          83414 non-null  object \n",
      " 19  dim_preferred_lanes       3412 non-null   object \n",
      " 20  first_load_date           83414 non-null  object \n",
      " 21  most_recent_load_date     83414 non-null  object \n",
      " 22  load_day                  83414 non-null  object \n",
      " 23  loads                     83414 non-null  int64  \n",
      " 24  marketplace_loads_otr     83414 non-null  int64  \n",
      " 25  marketplace_loads_atlas   83414 non-null  int64  \n",
      " 26  marketplace_loads         83414 non-null  int64  \n",
      " 27  brokerage_loads_otr       83414 non-null  int64  \n",
      " 28  brokerage_loads_atlas     83414 non-null  int64  \n",
      " 29  brokerage_loads           83414 non-null  int64  \n",
      " 30  total_loads               83414 non-null  int64  \n",
      "dtypes: float64(2), int64(11), object(18)\n",
      "memory usage: 19.7+ MB\n"
     ]
    }
   ],
   "source": [
    "df = pd.read_csv('training_dataset_V3.csv')\n",
    "df.info()"
   ]
  },
  {
   "cell_type": "markdown",
   "id": "unlikely-monday",
   "metadata": {},
   "source": [
    "**Verify that no columns are duplicates**"
   ]
  },
  {
   "cell_type": "code",
   "execution_count": 8,
   "id": "ongoing-corps",
   "metadata": {},
   "outputs": [
    {
     "name": "stdout",
     "output_type": "stream",
     "text": [
      "dt is equal to load_day\n",
      "load_day is equal to dt\n"
     ]
    }
   ],
   "source": [
    "for (columnName1, columnData1) in df.iteritems():\n",
    "    for (columnName2, columnData2) in df.iteritems():\n",
    "        if columnData1.equals(columnData2) and columnName1 is not columnName2:\n",
    "            print(f'{columnName1} is equal to {columnName2}')"
   ]
  },
  {
   "cell_type": "markdown",
   "id": "physical-arlington",
   "metadata": {},
   "source": [
    "**Drops duplicates and unwanted columns**"
   ]
  },
  {
   "cell_type": "code",
   "execution_count": 9,
   "id": "incoming-leone",
   "metadata": {},
   "outputs": [],
   "source": [
    "df.drop(columns=['Unnamed: 0', 'load_day'], inplace=True)"
   ]
  },
  {
   "cell_type": "markdown",
   "id": "crazy-seeker",
   "metadata": {},
   "source": [
    "**Convert strings to dates for easier processing**"
   ]
  },
  {
   "cell_type": "code",
   "execution_count": 10,
   "id": "official-hunter",
   "metadata": {},
   "outputs": [],
   "source": [
    "df = convert_strings_to_dates(df)"
   ]
  },
  {
   "cell_type": "markdown",
   "id": "floating-disco",
   "metadata": {},
   "source": [
    "## Collapse DataFrame into single rows per driver"
   ]
  },
  {
   "cell_type": "code",
   "execution_count": 11,
   "id": "temporal-stream",
   "metadata": {},
   "outputs": [],
   "source": [
    "df2 = df.groupby(['id_driver']).agg('max')"
   ]
  },
  {
   "cell_type": "code",
   "execution_count": 12,
   "id": "separate-restoration",
   "metadata": {},
   "outputs": [
    {
     "name": "stdout",
     "output_type": "stream",
     "text": [
      "<class 'pandas.core.frame.DataFrame'>\n",
      "Int64Index: 5291 entries, 20 to 38125\n",
      "Data columns (total 28 columns):\n",
      " #   Column                    Non-Null Count  Dtype  \n",
      "---  ------                    --------------  -----  \n",
      " 0   dt                        5291 non-null   object \n",
      " 1   weekday                   5291 non-null   object \n",
      " 2   year                      5291 non-null   int64  \n",
      " 3   id_carrier_number         5291 non-null   object \n",
      " 4   dim_carrier_type          5291 non-null   object \n",
      " 5   dim_carrier_company_name  5284 non-null   object \n",
      " 6   home_base_city            5279 non-null   object \n",
      " 7   home_base_state           5279 non-null   object \n",
      " 8   carrier_trucks            5291 non-null   object \n",
      " 9   num_trucks                5249 non-null   float64\n",
      " 10  interested_in_drayage     5291 non-null   object \n",
      " 11  port_qualified            5291 non-null   object \n",
      " 12  signup_source             5291 non-null   object \n",
      " 13  ts_signup                 5291 non-null   object \n",
      " 14  ts_first_approved         3962 non-null   object \n",
      " 15  days_signup_to_approval   3962 non-null   float64\n",
      " 16  driver_with_twic          5291 non-null   object \n",
      " 17  dim_preferred_lanes       194 non-null    object \n",
      " 18  first_load_date           5291 non-null   object \n",
      " 19  most_recent_load_date     5291 non-null   object \n",
      " 20  loads                     5291 non-null   int64  \n",
      " 21  marketplace_loads_otr     5291 non-null   int64  \n",
      " 22  marketplace_loads_atlas   5291 non-null   int64  \n",
      " 23  marketplace_loads         5291 non-null   int64  \n",
      " 24  brokerage_loads_otr       5291 non-null   int64  \n",
      " 25  brokerage_loads_atlas     5291 non-null   int64  \n",
      " 26  brokerage_loads           5291 non-null   int64  \n",
      " 27  total_loads               5291 non-null   int64  \n",
      "dtypes: float64(2), int64(9), object(17)\n",
      "memory usage: 1.2+ MB\n"
     ]
    }
   ],
   "source": [
    "df2.info()"
   ]
  },
  {
   "cell_type": "markdown",
   "id": "prompt-cargo",
   "metadata": {},
   "source": [
    "# Label Generation - Two Methods\n",
    "\n",
    "There are (at least) two methods we can use to generate the target labels. One would consider the data *before* it has been collapsed, and the other would consider the data *after* it has been collapsed.\n",
    "\n",
    "It seems to make sense to collapse the data before taking the 75th percentile of the `total_loads`, because otherwise you will be counting a bunch of drivers many times (as many times as they have rows in the dataset, since `total_loads` is cumulative, and the same value for each row for any given driver) and ignoring others.\n",
    "\n",
    "In my opinion, using `most_recent_load_date` to determine a high-performance driver doesn't make that much sense, since clearly a driver can perform well and not have delivered a load within the last week or so. If we look at the original dateset, the 75th percentile of `most_recent_load_date` is 2021-02-14, which is just three days before the latest date, 2021-02-17. This means if a person happened to take a few days off, they would not be considered high-performing. However, if we use the *collapsed* dataset, then we're looking at 2020-05-19 as the 75th percentile. This is also problematic because it means that a driver might not have driven for nearly 9 months but would still be considered high-performance.\n",
    "\n",
    "## 1 - Use the original dataset"
   ]
  },
  {
   "cell_type": "code",
   "execution_count": 13,
   "id": "romance-layer",
   "metadata": {},
   "outputs": [
    {
     "name": "stdout",
     "output_type": "stream",
     "text": [
      "The top 75th percentile of total_loads is >= 325.0\n"
     ]
    },
    {
     "data": {
      "image/png": "[encoded data removed]",
      "text/plain": [
       "<Figure size 864x288 with 1 Axes>"
      ]
     },
     "metadata": {
      "needs_background": "light"
     },
     "output_type": "display_data"
    }
   ],
   "source": [
    "plt.figure(figsize=(12,4))\n",
    "df.total_loads.hist(bins=100)\n",
    "plt.title('Total Loads Distribution from Original Dataset')\n",
    "top_loads = df.total_loads.quantile(0.75)\n",
    "print(f'The top 75th percentile of total_loads is >= {top_loads}')"
   ]
  },
  {
   "cell_type": "code",
   "execution_count": 14,
   "id": "minute-brush",
   "metadata": {},
   "outputs": [
    {
     "name": "stdout",
     "output_type": "stream",
     "text": [
      "The top 75th percentile of most_recent_load_date falls on 2021-02-14\n"
     ]
    },
    {
     "data": {
      "image/png": "[encoded data removed]",
      "text/plain": [
       "<Figure size 864x288 with 1 Axes>"
      ]
     },
     "metadata": {
      "needs_background": "light"
     },
     "output_type": "display_data"
    }
   ],
   "source": [
    "plt.figure(figsize=(12,4))\n",
    "df.most_recent_load_date.hist(bins=100)\n",
    "plt.title('Most Recent Load Date Distribution from Original Dataset')\n",
    "top_most_recent = df.most_recent_load_date.quantile(0.75)\n",
    "print(f'The top 75th percentile of most_recent_load_date falls on {top_most_recent}')"
   ]
  },
  {
   "cell_type": "markdown",
   "id": "focal-architecture",
   "metadata": {},
   "source": [
    "## 2 - Use the collapsed dataset"
   ]
  },
  {
   "cell_type": "code",
   "execution_count": 15,
   "id": "moral-following",
   "metadata": {},
   "outputs": [
    {
     "name": "stdout",
     "output_type": "stream",
     "text": [
      "The top 75th percentile of total_loads is >= 17.0\n"
     ]
    },
    {
     "data": {
      "image/png": "[encoded data removed]",
      "text/plain": [
       "<Figure size 864x288 with 1 Axes>"
      ]
     },
     "metadata": {
      "needs_background": "light"
     },
     "output_type": "display_data"
    }
   ],
   "source": [
    "plt.figure(figsize=(12,4))\n",
    "df2.total_loads.hist(bins=100)\n",
    "plt.title('Total Loads Distribution from Collapsed Dataset')\n",
    "top_loads = df2.total_loads.quantile(0.75)\n",
    "print(f'The top 75th percentile of total_loads is >= {top_loads}')"
   ]
  },
  {
   "cell_type": "code",
   "execution_count": 16,
   "id": "universal-mobile",
   "metadata": {},
   "outputs": [
    {
     "name": "stdout",
     "output_type": "stream",
     "text": [
      "The top 75th percentile of most_recent_load_date falls on 2020-05-19\n"
     ]
    },
    {
     "data": {
      "image/png": "[encoded data removed]",
      "text/plain": [
       "<Figure size 864x288 with 1 Axes>"
      ]
     },
     "metadata": {
      "needs_background": "light"
     },
     "output_type": "display_data"
    }
   ],
   "source": [
    "plt.figure(figsize=(12,4))\n",
    "df2.most_recent_load_date.hist(bins=100)\n",
    "plt.title('Most Recent Load Date Distribution from Collapsed Dataset')\n",
    "top_most_recent = df2.most_recent_load_date.quantile(0.75)\n",
    "print(f'The top 75th percentile of most_recent_load_date falls on {top_most_recent}')"
   ]
  },
  {
   "cell_type": "markdown",
   "id": "successful-tunnel",
   "metadata": {},
   "source": [
    "# Let's run some tests...\n",
    "\n",
    "- Method 1: `total_loads` from original, `most_recent_load_date` from original\n",
    "- Method 2: `total_loads` from original, `most_recent_load_date` from collapsed\n",
    "- Method 3: `total_loads` from collapsed, `most_recent_load_date` from original\n",
    "- Method 4: `total_loads` from collapsed, `most_recent_load_date` from collapsed"
   ]
  },
  {
   "cell_type": "code",
   "execution_count": 17,
   "id": "broadband-bloom",
   "metadata": {},
   "outputs": [],
   "source": [
    "df2 = df.groupby('id_driver').agg('max')"
   ]
  },
  {
   "cell_type": "code",
   "execution_count": 18,
   "id": "extra-sewing",
   "metadata": {},
   "outputs": [
    {
     "data": {
      "text/plain": [
       "(325.0, 17.0, datetime.date(2021, 2, 14), datetime.date(2020, 5, 19))"
      ]
     },
     "execution_count": 18,
     "metadata": {},
     "output_type": "execute_result"
    }
   ],
   "source": [
    "top_loads1 = df.total_loads.quantile(0.75)\n",
    "top_loads2 = df2.total_loads.quantile(0.75)\n",
    "\n",
    "top_most_recent1 = df.most_recent_load_date.quantile(0.75)\n",
    "top_most_recent2 = df2.most_recent_load_date.quantile(0.75)\n",
    "\n",
    "top_loads1, top_loads2, top_most_recent1, top_most_recent2"
   ]
  },
  {
   "cell_type": "code",
   "execution_count": 19,
   "id": "chinese-prompt",
   "metadata": {},
   "outputs": [],
   "source": [
    "top1 = df[(df.total_loads >= top_loads1) & (df.most_recent_load_date >= top_most_recent1)]\n",
    "top2 = df[(df.total_loads >= top_loads1) & (df.most_recent_load_date >= top_most_recent2)]\n",
    "top3 = df[(df.total_loads >= top_loads2) & (df.most_recent_load_date >= top_most_recent1)]\n",
    "top4 = df[(df.total_loads >= top_loads2) & (df.most_recent_load_date >= top_most_recent2)]"
   ]
  },
  {
   "cell_type": "code",
   "execution_count": 20,
   "id": "protected-omega",
   "metadata": {},
   "outputs": [
    {
     "name": "stdout",
     "output_type": "stream",
     "text": [
      "12.46% of samples considered high-performance using method 1 (10393 rows)\n",
      "19.57% of samples considered high-performance using method 2 (16326 rows)\n",
      "25.07% of samples considered high-performance using method 3 (20910 rows)\n",
      "52.10% of samples considered high-performance using method 4 (43460 rows)\n"
     ]
    }
   ],
   "source": [
    "n_datapoints = df.shape[0]\n",
    "data1, data2, data3, data4 = top1.shape[0], top2.shape[0], top3.shape[0], top4.shape[0]\n",
    "print(f'{(data1 / n_datapoints) * 100:.2f}% of samples considered high-performance using method 1 ({data1} rows)')\n",
    "print(f'{(data2 / n_datapoints) * 100:.2f}% of samples considered high-performance using method 2 ({data2} rows)')\n",
    "print(f'{(data3 / n_datapoints) * 100:.2f}% of samples considered high-performance using method 3 ({data3} rows)')\n",
    "print(f'{(data4 / n_datapoints) * 100:.2f}% of samples considered high-performance using method 4 ({data4} rows)')"
   ]
  },
  {
   "cell_type": "code",
   "execution_count": 21,
   "id": "yellow-concept",
   "metadata": {},
   "outputs": [],
   "source": [
    "rows1 = top1.groupby(['id_driver']).agg('max').shape[0]\n",
    "rows2 = top2.groupby(['id_driver']).agg('max').shape[0]\n",
    "rows3 = top3.groupby(['id_driver']).agg('max').shape[0]\n",
    "rows4 = top4.groupby(['id_driver']).agg('max').shape[0]"
   ]
  },
  {
   "cell_type": "code",
   "execution_count": 22,
   "id": "super-sierra",
   "metadata": {},
   "outputs": [
    {
     "name": "stdout",
     "output_type": "stream",
     "text": [
      "1.04% of drivers considered high-performance using method 1 (55 drivers)\n",
      "1.68% of drivers considered high-performance using method 2 (89 drivers)\n",
      "5.27% of drivers considered high-performance using method 3 (279 drivers)\n",
      "13.36% of drivers considered high-performance using method 4 (707 drivers)\n"
     ]
    }
   ],
   "source": [
    "n_drivers = df2.shape[0]\n",
    "print(f'{(rows1 / n_drivers) * 100:.2f}% of drivers considered high-performance using method 1 ({rows1} drivers)')\n",
    "print(f'{(rows2 / n_drivers) * 100:.2f}% of drivers considered high-performance using method 2 ({rows2} drivers)')\n",
    "print(f'{(rows3 / n_drivers) * 100:.2f}% of drivers considered high-performance using method 3 ({rows3} drivers)')\n",
    "print(f'{(rows4 / n_drivers) * 100:.2f}% of drivers considered high-performance using method 4 ({rows4} drivers)')"
   ]
  },
  {
   "cell_type": "markdown",
   "id": "promising-trainer",
   "metadata": {},
   "source": [
    "# Results\n",
    "\n",
    "- Method 1: Labels 12.5% of the data but only 1.04% of drivers\n",
    "- Method 2: Labels 19.57% of the data but only 1.68% of drivers\n",
    "- **Method 3: Labels 25% of the data and 5.27% of drivers**\n",
    "- Method 4: Labels 52% of the data and 13.36% of drivers"
   ]
  },
  {
   "cell_type": "markdown",
   "id": "delayed-gamma",
   "metadata": {},
   "source": [
    "# Generate Labels"
   ]
  },
  {
   "cell_type": "code",
   "execution_count": 40,
   "id": "stainless-affect",
   "metadata": {},
   "outputs": [],
   "source": [
    "labeled_df = generate_labels(df, top_loads2, top_most_recent1)"
   ]
  },
  {
   "cell_type": "code",
   "execution_count": 41,
   "id": "neither-claim",
   "metadata": {},
   "outputs": [],
   "source": [
    "df3 = aggregate_rows_by_driver_id(labeled_df)"
   ]
  },
  {
   "cell_type": "code",
   "execution_count": 42,
   "id": "failing-honolulu",
   "metadata": {},
   "outputs": [],
   "source": [
    "df4 = augment_boolean_columns(df3)"
   ]
  },
  {
   "cell_type": "code",
   "execution_count": 43,
   "id": "psychological-magnet",
   "metadata": {},
   "outputs": [],
   "source": [
    "df5 = encode_categorical_columns(df4)"
   ]
  },
  {
   "cell_type": "code",
   "execution_count": 47,
   "id": "exempt-indicator",
   "metadata": {},
   "outputs": [
    {
     "data": {
      "text/plain": [
       "array([[<AxesSubplot:title={'center':'year'}>,\n",
       "        <AxesSubplot:title={'center':'id_driver'}>,\n",
       "        <AxesSubplot:title={'center':'num_trucks'}>],\n",
       "       [<AxesSubplot:title={'center':'days_signup_to_approval'}>,\n",
       "        <AxesSubplot:title={'center':'loads'}>,\n",
       "        <AxesSubplot:title={'center':'marketplace_loads_otr'}>],\n",
       "       [<AxesSubplot:title={'center':'marketplace_loads_atlas'}>,\n",
       "        <AxesSubplot:title={'center':'marketplace_loads'}>,\n",
       "        <AxesSubplot:title={'center':'brokerage_loads_otr'}>],\n",
       "       [<AxesSubplot:title={'center':'brokerage_loads_atlas'}>,\n",
       "        <AxesSubplot:title={'center':'brokerage_loads'}>,\n",
       "        <AxesSubplot:title={'center':'label'}>]], dtype=object)"
      ]
     },
     "execution_count": 47,
     "metadata": {},
     "output_type": "execute_result"
    },
    {
     "data": {
      "image/png": "[encoded data removed]",
      "text/plain": [
       "<Figure size 1440x864 with 12 Axes>"
      ]
     },
     "metadata": {
      "needs_background": "light"
     },
     "output_type": "display_data"
    }
   ],
   "source": [
    "labeled_df.hist(figsize=(20,12))"
   ]
  },
  {
   "cell_type": "markdown",
   "id": "touched-grant",
   "metadata": {},
   "source": [
    "# 4 - Pipeline"
   ]
  },
  {
   "cell_type": "code",
   "execution_count": null,
   "id": "fallen-effort",
   "metadata": {},
   "outputs": [],
   "source": []
  },
  {
   "cell_type": "markdown",
   "id": "seeing-stuart",
   "metadata": {},
   "source": [
    "# 5 - Linear Regression"
   ]
  },
  {
   "cell_type": "code",
   "execution_count": null,
   "id": "fatty-palestine",
   "metadata": {},
   "outputs": [],
   "source": []
  },
  {
   "cell_type": "markdown",
   "id": "separated-sampling",
   "metadata": {},
   "source": [
    "# 6 - PCA"
   ]
  },
  {
   "cell_type": "code",
   "execution_count": null,
   "id": "federal-april",
   "metadata": {},
   "outputs": [],
   "source": []
  },
  {
   "cell_type": "markdown",
   "id": "alert-madagascar",
   "metadata": {},
   "source": [
    "# 7 - Ensemble Method"
   ]
  },
  {
   "cell_type": "code",
   "execution_count": null,
   "id": "short-structure",
   "metadata": {},
   "outputs": [],
   "source": []
  },
  {
   "cell_type": "markdown",
   "id": "interstate-transportation",
   "metadata": {},
   "source": [
    "# 8 - Neural Network"
   ]
  },
  {
   "cell_type": "code",
   "execution_count": null,
   "id": "emerging-booth",
   "metadata": {},
   "outputs": [],
   "source": []
  },
  {
   "cell_type": "markdown",
   "id": "chinese-liberal",
   "metadata": {},
   "source": [
    "# 9 - Cross Validation"
   ]
  },
  {
   "cell_type": "code",
   "execution_count": null,
   "id": "exposed-necessity",
   "metadata": {},
   "outputs": [],
   "source": []
  },
  {
   "cell_type": "markdown",
   "id": "further-volume",
   "metadata": {},
   "source": [
    "# 10 - Custom Model"
   ]
  },
  {
   "cell_type": "code",
   "execution_count": null,
   "id": "artistic-generic",
   "metadata": {},
   "outputs": [],
   "source": []
  }
 ],
 "metadata": {
  "kernelspec": {
   "display_name": "Python 3",
   "language": "python",
   "name": "python3"
  },
  "language_info": {
   "codemirror_mode": {
    "name": "ipython",
    "version": 3
   },
   "file_extension": ".py",
   "mimetype": "text/x-python",
   "name": "python",
   "nbconvert_exporter": "python",
   "pygments_lexer": "ipython3",
   "version": "3.8.5"
  }
 },
 "nbformat": 4,
 "nbformat_minor": 5
}
