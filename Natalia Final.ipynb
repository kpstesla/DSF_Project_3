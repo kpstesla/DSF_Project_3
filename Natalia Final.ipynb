{
 "cells": [
  {
   "cell_type": "code",
   "execution_count": 1,
   "metadata": {},
   "outputs": [],
   "source": [
    "import numpy as np\n",
    "import pandas as pd\n",
    "import matplotlib\n",
    "import matplotlib.pyplot as plt\n",
    "import sklearn\n",
    "import seaborn as sn\n",
    "import datetime\n",
    "import random\n",
    "from datetime import date\n",
    "from pprint import pprint\n",
    "from sklearn.preprocessing import LabelEncoder, OneHotEncoder, OrdinalEncoder, StandardScaler\n",
    "from sklearn.impute import SimpleImputer\n",
    "import statistics \n",
    "from statistics import mode\n",
    "from sklearn.model_selection import train_test_split\n",
    "from sklearn.svm import SVC\n",
    "from sklearn.linear_model import LinearRegression, Ridge, Lasso, RidgeClassifier, LogisticRegression\n",
    "from sklearn.ensemble import RandomForestClassifier, AdaBoostClassifier\n",
    "from sklearn.naive_bayes import GaussianNB\n",
    "from sklearn.neural_network import MLPClassifier\n",
    "from sklearn.tree import DecisionTreeClassifier"
   ]
  },
  {
   "cell_type": "code",
   "execution_count": 2,
   "metadata": {},
   "outputs": [],
   "source": [
    "def convert_strings_to_dates(dataframe, testset=False):\n",
    "    frame = dataframe.copy()\n",
    "    if testset:\n",
    "        frame.dt = [date.fromisoformat(d) for d in frame.dt]\n",
    "        frame.first_load_date = [date.fromisoformat(d) for d in frame.first_load_date]\n",
    "        frame.ts_signup = [datetime.datetime.strptime(d, '%Y-%m-%d %H:%M:%S+00:00') for d in frame.ts_signup]\n",
    "        frame.ts_signup = [date(year=d.year, month=d.month, day=d.day) for d in frame.ts_signup]\n",
    "    else:\n",
    "        frame.dt = [date.fromisoformat(d) for d in frame.dt]\n",
    "        frame.first_load_date = [date.fromisoformat(d) for d in frame.first_load_date]\n",
    "        frame.most_recent_load_date = [date.fromisoformat(d) for d in frame.most_recent_load_date]\n",
    "        frame.ts_signup = [datetime.datetime.strptime(d, '%Y-%m-%d %H:%M:%S+00:00') for d in frame.ts_signup]\n",
    "        frame.ts_signup = [date(year=d.year, month=d.month, day=d.day) for d in frame.ts_signup]\n",
    "    return frame"
   ]
  },
  {
   "cell_type": "code",
   "execution_count": 3,
   "metadata": {},
   "outputs": [],
   "source": [
    "def convert_date_to_int(dataframe, columns):\n",
    "    frame = dataframe.copy()\n",
    "    conversion = lambda dt_time: 10000*dt_time.year + 100*dt_time.month + dt_time.day\n",
    "    \n",
    "    for col in columns:\n",
    "        frame[f'{col}'] = [conversion(d) for d in frame[f'{col}']]\n",
    "\n",
    "    return frame"
   ]
  },
  {
   "cell_type": "code",
   "execution_count": 4,
   "metadata": {},
   "outputs": [],
   "source": [
    "def aggregate_rows_by_driver_id(dataframe):\n",
    "    '''\n",
    "    Returns a new dataframe indexed by Driver ID using an optimal set of aggregations per column.\n",
    "    This method will return a dataframe that only contains the columns listed below.\n",
    "    Note: duplicate columns are inherently pruned (simply by not adding them below), so it is \n",
    "        safe to pass in the full dataframe and expect a pruned version in return. \n",
    "        Also note that the `id_driver` will now be the index of the dataframe and NOT its own column.\n",
    "    '''\n",
    "    minimum = 'min'\n",
    "    maximum = 'max'\n",
    "    median = 'median'\n",
    "    random_mode = lambda x: random.choice(pd.Series.mode(x if isinstance(x, list) else list(x)))\n",
    "    average = lambda x: pd.Series.mean(x)\n",
    "\n",
    "    aggregation = {\n",
    "        'dt': maximum,\n",
    "        'weekday': random_mode,\n",
    "        'dim_carrier_type': random_mode,\n",
    "        'carrier_trucks': mode,\n",
    "        'num_trucks': maximum,\n",
    "        'interested_in_drayage': random_mode,\n",
    "        'port_qualified': random_mode,\n",
    "        'signup_source': random_mode,\n",
    "        'ts_signup': maximum,\n",
    "        'days_signup_to_approval': maximum,\n",
    "        'driver_with_twic': mode,\n",
    "        'dim_preferred_lanes': mode,\n",
    "        'first_load_date': minimum,\n",
    "        'loads': random_mode,\n",
    "        'marketplace_loads_otr': maximum,\n",
    "        'marketplace_loads_atlas': maximum,\n",
    "        'marketplace_loads': maximum,\n",
    "        'brokerage_loads_otr': maximum,\n",
    "        'brokerage_loads_atlas': maximum,\n",
    "        'brokerage_loads': maximum,\n",
    "        'label': random_mode\n",
    "    }\n",
    "\n",
    "    return dataframe.groupby(['id_driver']).agg(aggregation)"
   ]
  },
  {
   "cell_type": "code",
   "execution_count": 5,
   "metadata": {},
   "outputs": [],
   "source": [
    "def augment_boolean_columns(dataframe):\n",
    "    frame = dataframe.copy()\n",
    "    label_encoder = LabelEncoder()\n",
    "    \n",
    "    # Replacement (no new columns needed, just transform strings to 0 or 1)\n",
    "    frame['interested_in_drayage'] = label_encoder.fit_transform(frame.interested_in_drayage)\n",
    "    frame['port_qualified'] = label_encoder.fit_transform(frame.port_qualified)\n",
    "    frame['driver_with_twic'] = label_encoder.fit_transform(frame.driver_with_twic)\n",
    "    \n",
    "    # Create new columns with more appropriate names, delete the old columns\n",
    "    frame['self_owned'] = label_encoder.fit_transform(frame.dim_carrier_type)\n",
    "    frame['mobile_signup'] = np.logical_xor(label_encoder.fit_transform(frame.signup_source), 1).astype(int)\n",
    "    frame['has_route_preference'] = label_encoder.fit_transform(~frame.dim_preferred_lanes.isnull())\n",
    "    frame.drop(columns=['dim_carrier_type', 'signup_source', 'dim_preferred_lanes'], inplace=True)\n",
    "    \n",
    "    return frame"
   ]
  },
  {
   "cell_type": "code",
   "execution_count": 6,
   "metadata": {},
   "outputs": [],
   "source": [
    "def encode_categorical_columns(dataframe):\n",
    "    frame = dataframe.copy()\n",
    "\n",
    "    # Encode various truck types\n",
    "    trucks = pd.get_dummies(frame.carrier_trucks)\n",
    "    trucks.columns = ['truck-' + c.replace('[', '').replace(']', '').replace('\"', '').replace(',', '').replace(' ', '-') for c in trucks.columns]\n",
    "    \n",
    "    # Encode the 7 different days of the week\n",
    "    weekdays = pd.get_dummies(frame.weekday)\n",
    "    weekdays.columns = [f'prefers-{x}'.lower() for x in weekdays.columns]\n",
    "    \n",
    "    # Drop the originals since they are no longer needed.\n",
    "    frame.drop(columns=['carrier_trucks', 'weekday'], inplace=True)\n",
    "    \n",
    "    # Concatenate various new frames with the original and return\n",
    "    result = pd.concat([frame, trucks, weekdays], axis=1)\n",
    "    return result"
   ]
  },
  {
   "cell_type": "code",
   "execution_count": 7,
   "metadata": {},
   "outputs": [],
   "source": [
    "def standardize_numericals(dataframe, columns=None):    \n",
    "    scaler = StandardScaler()\n",
    "    frame = None\n",
    "    \n",
    "    if columns:\n",
    "        frame = dataframe[columns].copy()\n",
    "    else:\n",
    "        frame = dataframe.copy()\n",
    "    \n",
    "    x = scaler.fit_transform(frame)\n",
    "    scaled_df = pd.DataFrame(x)\n",
    "    scaled_df.columns = frame.columns\n",
    "\n",
    "    \n",
    "    if columns:\n",
    "        frame = dataframe.copy()\n",
    "        frame[columns] = scaled_df.values\n",
    "    else:\n",
    "        frame = scaled_df.copy()\n",
    "    \n",
    "    return frame"
   ]
  },
  {
   "cell_type": "code",
   "execution_count": 8,
   "metadata": {},
   "outputs": [],
   "source": [
    "def impute_numericals(dataframe, columns, strategy='most_frequent', testset=False):\n",
    "    frame = dataframe.copy()\n",
    "    imp = SimpleImputer(missing_values=np.nan, strategy=strategy)\n",
    "    \n",
    "    for col in columns:\n",
    "        imp.fit(frame[f'{col}'].values.reshape(-1, 1))\n",
    "        frame[f'{col}'] = imp.transform(frame[f'{col}'].values.reshape(-1, 1))\n",
    "    \n",
    "    return frame"
   ]
  },
  {
   "cell_type": "code",
   "execution_count": 9,
   "metadata": {},
   "outputs": [],
   "source": [
    "def generate_labels(dataframe, loads_percentile, most_recent_percentile):\n",
    "    label_encoder = LabelEncoder()\n",
    "    frame = dataframe.copy()\n",
    "    \n",
    "    labels = (frame.total_loads >= loads_percentile) & (frame.most_recent_load_date >= most_recent_percentile)\n",
    "    frame['label'] = label_encoder.fit_transform(labels)\n",
    "    frame.drop(columns=['total_loads', 'most_recent_load_date'], inplace=True)\n",
    "    \n",
    "    return frame"
   ]
  },
  {
   "cell_type": "code",
   "execution_count": 10,
   "metadata": {},
   "outputs": [],
   "source": [
    "def get_Xy(dataframe, aggregate=False, standardize=False, testdata=False):\n",
    "    frame = dataframe.copy()\n",
    "    scaler = StandardScaler()\n",
    "    loads_75th_percentile = 17\n",
    "    most_recent_75th_percentile = date(year=2021, month=2, day=10)\n",
    "\n",
    "\n",
    "    if testdata:\n",
    "        frame = convert_strings_to_dates(frame, testset=True)\n",
    "        frame = augment_boolean_columns(frame)\n",
    "        frame = encode_categorical_columns(frame)\n",
    "        frame = convert_date_to_int(frame, columns=['dt', 'ts_signup', 'first_load_date'])\n",
    "\n",
    "        # The only columns not in the new frame should be booleans that are safely set to 0\n",
    "        for col in dataframe.columns:\n",
    "            if col not in frame.columns:\n",
    "                frame[f'{col}'] = 0\n",
    "\n",
    "        frame.drop(columns=['weekday'], inplace=True)\n",
    "        frame = impute_numericals(frame, ['days_signup_to_approval'])\n",
    "\n",
    "        if standardize:\n",
    "            frame = standardize_numericals(frame)\n",
    "\n",
    "        frame.sort_index(axis=1, inplace=True)\n",
    "        return frame, None\n",
    "    \n",
    "    \n",
    "    frame = convert_strings_to_dates(frame)\n",
    "    \n",
    "    if aggregate:\n",
    "        frame = generate_labels(frame, loads_75th_percentile, most_recent_75th_percentile)\n",
    "        frame = aggregate_rows_by_driver_id(frame)\n",
    "        frame = augment_boolean_columns(frame)\n",
    "        frame = encode_categorical_columns(frame)\n",
    "        frame = convert_date_to_int(frame, columns=['dt', 'ts_signup', 'first_load_date'])\n",
    "\n",
    "        labels = frame.label.copy()\n",
    "        frame.drop(columns=['label'], inplace=True)\n",
    "        \n",
    "        if standardize:\n",
    "            frame = standardize_numericals(frame)\n",
    "\n",
    "        frame.sort_index(axis=1, inplace=True)\n",
    "        \n",
    "        return frame, labels\n",
    "    else:\n",
    "        frame = generate_labels(frame, loads_75th_percentile, most_recent_75th_percentile)\n",
    "        frame = augment_boolean_columns(frame)\n",
    "        frame = encode_categorical_columns(frame)\n",
    "        frame = convert_date_to_int(frame, columns=['dt', 'ts_signup', 'first_load_date'])\n",
    "\n",
    "        labels = frame.label.copy()\n",
    "        frame.drop(columns=['label'], inplace=True)\n",
    "        \n",
    "        if standardize:\n",
    "            frame = standardize_numericals(frame)\n",
    "\n",
    "        frame.sort_index(axis=1, inplace=True)\n",
    "        \n",
    "        return frame, labels"
   ]
  },
  {
   "cell_type": "markdown",
   "metadata": {},
   "source": [
    "## Load CSV to DataFrame"
   ]
  },
  {
   "cell_type": "code",
   "execution_count": 11,
   "metadata": {},
   "outputs": [],
   "source": [
    "train_df = pd.read_csv('training_dataset_V3.csv')\n",
    "test_df = pd.read_csv('score_V3.csv')"
   ]
  },
  {
   "cell_type": "markdown",
   "metadata": {},
   "source": [
    "**Drops duplicates and unwanted columns**"
   ]
  },
  {
   "cell_type": "code",
   "execution_count": 12,
   "metadata": {},
   "outputs": [],
   "source": [
    "train_Ids = train_df['Unnamed: 0']\n",
    "train_df.drop(columns=['Unnamed: 0', 'load_day', 'ts_first_approved', 'dim_carrier_company_name', 'home_base_city', 'home_base_state', 'id_carrier_number', 'year'], inplace=True)\n",
    "train_df.dropna(subset=['days_signup_to_approval', 'num_trucks'], inplace=True)\n",
    "\n",
    "test_Ids = test_df['Unnamed: 0']\n",
    "test_df.drop(columns=['Unnamed: 0', 'load_day', 'ts_first_approved', 'dim_carrier_company_name', 'home_base_city', 'home_base_state', 'id_carrier_number', 'year'], inplace=True)"
   ]
  },
  {
   "cell_type": "markdown",
   "metadata": {},
   "source": [
    "---\n",
    "\n",
    "# 1 - Generate Labels and 4 - Pipeline"
   ]
  },
  {
   "cell_type": "code",
   "execution_count": 13,
   "metadata": {},
   "outputs": [],
   "source": [
    "# Use this when you want to generate output for Kaggle\n",
    "X_train, y_train = get_Xy(train_df, standardize=True, aggregate=False, testdata=False)\n",
    "X_test, _ = get_Xy(test_df, standardize=True, aggregate=False, testdata=True)"
   ]
  },
  {
   "cell_type": "code",
   "execution_count": 15,
   "metadata": {},
   "outputs": [],
   "source": [
    "# Use this for training/testing your model\n",
    "#X, y = get_Xy(train_df, standardize=True, aggregate=False, testdata=False)\n",
    "#X_train, X_test, y_train, y_test = train_test_split(X, y, test_size=0.20, random_state=42)"
   ]
  },
  {
   "cell_type": "code",
   "execution_count": 16,
   "metadata": {},
   "outputs": [
    {
     "data": {
      "text/plain": [
       "((71072, 40), (71072,))"
      ]
     },
     "execution_count": 16,
     "metadata": {},
     "output_type": "execute_result"
    }
   ],
   "source": [
    "X_train.shape, y_train.shape"
   ]
  },
  {
   "cell_type": "code",
   "execution_count": 17,
   "metadata": {},
   "outputs": [
    {
     "name": "stdout",
     "output_type": "stream",
     "text": [
      "<class 'pandas.core.frame.DataFrame'>\n",
      "RangeIndex: 71072 entries, 0 to 71071\n",
      "Data columns (total 40 columns):\n",
      " #   Column                           Non-Null Count  Dtype  \n",
      "---  ------                           --------------  -----  \n",
      " 0   brokerage_loads                  71072 non-null  float64\n",
      " 1   brokerage_loads_atlas            71072 non-null  float64\n",
      " 2   brokerage_loads_otr              71072 non-null  float64\n",
      " 3   days_signup_to_approval          71072 non-null  float64\n",
      " 4   driver_with_twic                 71072 non-null  float64\n",
      " 5   dt                               71072 non-null  float64\n",
      " 6   first_load_date                  71072 non-null  float64\n",
      " 7   has_route_preference             71072 non-null  float64\n",
      " 8   id_driver                        71072 non-null  float64\n",
      " 9   interested_in_drayage            71072 non-null  float64\n",
      " 10  loads                            71072 non-null  float64\n",
      " 11  marketplace_loads                71072 non-null  float64\n",
      " 12  marketplace_loads_atlas          71072 non-null  float64\n",
      " 13  marketplace_loads_otr            71072 non-null  float64\n",
      " 14  mobile_signup                    71072 non-null  float64\n",
      " 15  num_trucks                       71072 non-null  float64\n",
      " 16  port_qualified                   71072 non-null  float64\n",
      " 17  prefers-friday                   71072 non-null  float64\n",
      " 18  prefers-monday                   71072 non-null  float64\n",
      " 19  prefers-saturday                 71072 non-null  float64\n",
      " 20  prefers-sunday                   71072 non-null  float64\n",
      " 21  prefers-thursday                 71072 non-null  float64\n",
      " 22  prefers-tuesday                  71072 non-null  float64\n",
      " 23  prefers-wednesday                71072 non-null  float64\n",
      " 24  self_owned                       71072 non-null  float64\n",
      " 25  truck-boxtruck                   71072 non-null  float64\n",
      " 26  truck-dryvan                     71072 non-null  float64\n",
      " 27  truck-dryvan-boxtruck            71072 non-null  float64\n",
      " 28  truck-dryvan-boxtruck-poweronly  71072 non-null  float64\n",
      " 29  truck-dryvan-flatbed-poweronly   71072 non-null  float64\n",
      " 30  truck-dryvan-poweronly           71072 non-null  float64\n",
      " 31  truck-dryvan-reefer              71072 non-null  float64\n",
      " 32  truck-flatbed                    71072 non-null  float64\n",
      " 33  truck-poweronly                  71072 non-null  float64\n",
      " 34  truck-poweronly-boxtruck         71072 non-null  float64\n",
      " 35  truck-poweronly-dryvan           71072 non-null  float64\n",
      " 36  truck-reefer                     71072 non-null  float64\n",
      " 37  truck-reefer-dryvan              71072 non-null  float64\n",
      " 38  truck-reefer-poweronly           71072 non-null  float64\n",
      " 39  ts_signup                        71072 non-null  float64\n",
      "dtypes: float64(40)\n",
      "memory usage: 21.7 MB\n"
     ]
    }
   ],
   "source": [
    "X_train.info()"
   ]
  },
  {
   "cell_type": "code",
   "execution_count": 19,
   "metadata": {},
   "outputs": [
    {
     "data": {
      "text/plain": [
       "(1000, 40)"
      ]
     },
     "execution_count": 19,
     "metadata": {},
     "output_type": "execute_result"
    }
   ],
   "source": [
    "X_test.shape #y_test.shape"
   ]
  },
  {
   "cell_type": "markdown",
   "metadata": {},
   "source": [
    "# 3 - Statistical Analysis"
   ]
  },
  {
   "cell_type": "code",
   "execution_count": null,
   "metadata": {},
   "outputs": [],
   "source": []
  },
  {
   "cell_type": "markdown",
   "metadata": {},
   "source": [
    "# 5 - Linear Regression"
   ]
  },
  {
   "cell_type": "code",
   "execution_count": null,
   "metadata": {},
   "outputs": [],
   "source": []
  },
  {
   "cell_type": "markdown",
   "metadata": {},
   "source": [
    "# 6 - PCA"
   ]
  },
  {
   "cell_type": "code",
   "execution_count": null,
   "metadata": {},
   "outputs": [],
   "source": []
  },
  {
   "cell_type": "markdown",
   "metadata": {},
   "source": [
    "# 7 - Ensemble Method"
   ]
  },
  {
   "cell_type": "code",
   "execution_count": 20,
   "metadata": {},
   "outputs": [],
   "source": [
    "from sklearn.tree import DecisionTreeClassifier\n",
    "from sklearn.ensemble import AdaBoostRegressor\n",
    "from sklearn.ensemble import RandomForestClassifier\n",
    "from sklearn import metrics"
   ]
  },
  {
   "cell_type": "markdown",
   "metadata": {},
   "source": [
    "# Ada Boost"
   ]
  },
  {
   "cell_type": "code",
   "execution_count": 21,
   "metadata": {},
   "outputs": [
    {
     "data": {
      "text/plain": [
       "array([1., 1., 1., 1., 1.])"
      ]
     },
     "execution_count": 21,
     "metadata": {},
     "output_type": "execute_result"
    },
    {
     "data": {
      "image/png": "[encoded data removed]",
      "text/plain": [
       "<Figure size 432x288 with 1 Axes>"
      ]
     },
     "metadata": {
      "needs_background": "light"
     },
     "output_type": "display_data"
    }
   ],
   "source": [
    "ntrees = [10, 50, 100, 250, 500]\n",
    "iterations = []\n",
    "test_accuracy = []\n",
    "\n",
    "for n in ntrees:\n",
    "    ada = AdaBoostClassifier(base_estimator=DecisionTreeClassifier(max_depth=1), n_estimators=n, learning_rate=1.0)\n",
    "    ada.fit(X_train, y_train)\n",
    "    predictions = ada.predict(X_test)\n",
    "    test_accuracy = np.append(test_accuracy, ada.score(X_test, predictions))\n",
    "    \n",
    "plt.plot(ntrees, test_accuracy)\n",
    "plt.xlabel(\"N_Estimators\")\n",
    "plt.ylabel(\"Test Accuracy\")\n",
    "plt.title(\"AdaBoost\")\n",
    "test_accuracy"
   ]
  },
  {
   "cell_type": "code",
   "execution_count": 22,
   "metadata": {
    "scrolled": true
   },
   "outputs": [
    {
     "ename": "NameError",
     "evalue": "name 'y_test' is not defined",
     "output_type": "error",
     "traceback": [
      "\u001b[0;31m---------------------------------------------------------------------------\u001b[0m",
      "\u001b[0;31mNameError\u001b[0m                                 Traceback (most recent call last)",
      "\u001b[0;32m<ipython-input-22-f24610d7f05f>\u001b[0m in \u001b[0;36m<module>\u001b[0;34m\u001b[0m\n\u001b[1;32m      8\u001b[0m     \u001b[0mpredictions\u001b[0m \u001b[0;34m=\u001b[0m \u001b[0mada\u001b[0m\u001b[0;34m.\u001b[0m\u001b[0mpredict\u001b[0m\u001b[0;34m(\u001b[0m\u001b[0mX_test\u001b[0m\u001b[0;34m)\u001b[0m\u001b[0;34m\u001b[0m\u001b[0;34m\u001b[0m\u001b[0m\n\u001b[1;32m      9\u001b[0m     \u001b[0miterations\u001b[0m \u001b[0;34m=\u001b[0m \u001b[0mnp\u001b[0m\u001b[0;34m.\u001b[0m\u001b[0mappend\u001b[0m\u001b[0;34m(\u001b[0m\u001b[0miterations\u001b[0m\u001b[0;34m,\u001b[0m \u001b[0mi\u001b[0m\u001b[0;34m)\u001b[0m\u001b[0;34m\u001b[0m\u001b[0;34m\u001b[0m\u001b[0m\n\u001b[0;32m---> 10\u001b[0;31m     \u001b[0mtest_accuracy\u001b[0m \u001b[0;34m=\u001b[0m \u001b[0mnp\u001b[0m\u001b[0;34m.\u001b[0m\u001b[0mappend\u001b[0m\u001b[0;34m(\u001b[0m\u001b[0mtest_accuracy\u001b[0m\u001b[0;34m,\u001b[0m \u001b[0mada\u001b[0m\u001b[0;34m.\u001b[0m\u001b[0mscore\u001b[0m\u001b[0;34m(\u001b[0m\u001b[0mX_test\u001b[0m\u001b[0;34m,\u001b[0m \u001b[0my_test\u001b[0m\u001b[0;34m)\u001b[0m\u001b[0;34m)\u001b[0m\u001b[0;34m\u001b[0m\u001b[0;34m\u001b[0m\u001b[0m\n\u001b[0m\u001b[1;32m     11\u001b[0m \u001b[0;34m\u001b[0m\u001b[0m\n\u001b[1;32m     12\u001b[0m \u001b[0mplt\u001b[0m\u001b[0;34m.\u001b[0m\u001b[0mplot\u001b[0m\u001b[0;34m(\u001b[0m\u001b[0miterations\u001b[0m\u001b[0;34m,\u001b[0m \u001b[0mtest_accuracy\u001b[0m\u001b[0;34m)\u001b[0m\u001b[0;34m\u001b[0m\u001b[0;34m\u001b[0m\u001b[0m\n",
      "\u001b[0;31mNameError\u001b[0m: name 'y_test' is not defined"
     ]
    }
   ],
   "source": [
    "ntrees = 100\n",
    "iterations = []\n",
    "test_accuracy = []\n",
    "\n",
    "for i in range(50, 100):\n",
    "    ada = AdaBoostClassifier(base_estimator=DecisionTreeClassifier(max_depth=1), n_estimators=i, learning_rate=1.0)\n",
    "    ada.fit(X_train, y_train)\n",
    "    predictions = ada.predict(X_test)\n",
    "    iterations = np.append(iterations, i)\n",
    "    test_accuracy = np.append(test_accuracy, ada.score(X_test, y_test))\n",
    "    \n",
    "plt.plot(iterations, test_accuracy)\n",
    "plt.xlabel(\"Number of Iterations\")\n",
    "plt.ylabel(\"Test Accuracy\")\n",
    "plt.title(\"AdaBoost\")\n",
    "test_accuracy"
   ]
  },
  {
   "cell_type": "code",
   "execution_count": 105,
   "metadata": {
    "scrolled": true
   },
   "outputs": [
    {
     "data": {
      "text/plain": [
       "<matplotlib.axes._subplots.AxesSubplot at 0x7ffec60585e0>"
      ]
     },
     "execution_count": 105,
     "metadata": {},
     "output_type": "execute_result"
    },
    {
     "data": {
      "image/png": "[encoded data removed]",
      "text/plain": [
       "<Figure size 720x720 with 1 Axes>"
      ]
     },
     "metadata": {
      "needs_background": "light"
     },
     "output_type": "display_data"
    }
   ],
   "source": [
    "# get importance, n_estimators = 100\n",
    "pd.Series(ada.feature_importances_,index=list(X_train)).sort_values().plot(kind=\"barh\", figsize=(10,10))"
   ]
  },
  {
   "cell_type": "code",
   "execution_count": 106,
   "metadata": {},
   "outputs": [
    {
     "name": "stdout",
     "output_type": "stream",
     "text": [
      "Predictor: 0, Score: 0.06150\n",
      "Predictor: 1, Score: 0.01943\n",
      "Predictor: 2, Score: 0.03509\n",
      "Predictor: 3, Score: 0.01133\n",
      "Predictor: 4, Score: 0.03378\n",
      "Predictor: 5, Score: 0.37322\n",
      "Predictor: 6, Score: 0.13833\n",
      "Predictor: 7, Score: 0.00000\n",
      "Predictor: 8, Score: 0.04650\n",
      "Predictor: 9, Score: 0.00259\n",
      "Predictor: 10, Score: 0.00047\n",
      "Predictor: 11, Score: 0.08248\n",
      "Predictor: 12, Score: 0.03151\n",
      "Predictor: 13, Score: 0.02658\n",
      "Predictor: 14, Score: 0.00000\n",
      "Predictor: 15, Score: 0.01014\n",
      "Predictor: 16, Score: 0.07187\n",
      "Predictor: 17, Score: 0.00000\n",
      "Predictor: 18, Score: 0.00000\n",
      "Predictor: 19, Score: 0.00000\n",
      "Predictor: 20, Score: 0.00000\n",
      "Predictor: 21, Score: 0.00000\n",
      "Predictor: 22, Score: 0.00000\n",
      "Predictor: 23, Score: 0.00000\n",
      "Predictor: 24, Score: 0.00076\n",
      "Predictor: 25, Score: 0.00018\n",
      "Predictor: 26, Score: 0.00068\n",
      "Predictor: 27, Score: 0.00000\n",
      "Predictor: 28, Score: 0.00000\n",
      "Predictor: 29, Score: 0.00000\n",
      "Predictor: 30, Score: 0.00470\n",
      "Predictor: 31, Score: 0.00000\n",
      "Predictor: 32, Score: 0.00000\n",
      "Predictor: 33, Score: 0.00046\n",
      "Predictor: 34, Score: 0.00024\n",
      "Predictor: 35, Score: 0.00144\n",
      "Predictor: 36, Score: 0.00000\n",
      "Predictor: 37, Score: 0.00000\n",
      "Predictor: 38, Score: 0.00000\n",
      "Predictor: 39, Score: 0.04671\n"
     ]
    }
   ],
   "source": [
    "# get importance\n",
    "importance = ada.feature_importances_\n",
    "# summarize feature importance\n",
    "for i,v in enumerate(importance):\n",
    "    print('Predictor: %0d, Score: %.5f' % (i,v))"
   ]
  },
  {
   "cell_type": "markdown",
   "metadata": {},
   "source": [
    "# K-Fold Cross Validation"
   ]
  },
  {
   "cell_type": "code",
   "execution_count": 108,
   "metadata": {},
   "outputs": [
    {
     "name": "stdout",
     "output_type": "stream",
     "text": [
      "Accuracy: 0.930 (0.003)\n"
     ]
    }
   ],
   "source": [
    "# evaluate adaboost (n_estimators: 100) for classification\n",
    "from numpy import mean\n",
    "from numpy import std\n",
    "from sklearn.datasets import make_classification\n",
    "from sklearn.model_selection import cross_val_score\n",
    "from sklearn.model_selection import StratifiedShuffleSplit\n",
    "# evaluate the model\n",
    "cv = StratifiedShuffleSplit(n_splits=10, random_state=1)\n",
    "n_scores = cross_val_score(ada, X_test, y_test, scoring='accuracy', cv=cv, n_jobs=-1, error_score='raise')\n",
    "# report performance\n",
    "print('Accuracy: %.3f (%.3f)' % (mean(n_scores), std(n_scores)))"
   ]
  },
  {
   "cell_type": "code",
   "execution_count": null,
   "metadata": {},
   "outputs": [],
   "source": []
  },
  {
   "cell_type": "markdown",
   "metadata": {},
   "source": [
    "# Random Forest"
   ]
  },
  {
   "cell_type": "code",
   "execution_count": 115,
   "metadata": {},
   "outputs": [
    {
     "name": "stdout",
     "output_type": "stream",
     "text": [
      "OG Data Score: 0.8590221596904678\n"
     ]
    }
   ],
   "source": [
    "rf = RandomForestClassifier(n_estimators = 100, max_depth=3, max_features=13)\n",
    "rf.fit(X_train, y_train)\n",
    "score = rf.score(X_test, y_test)\n",
    "print(\"OG Data Score: \" + str(score))"
   ]
  },
  {
   "cell_type": "code",
   "execution_count": 116,
   "metadata": {},
   "outputs": [
    {
     "data": {
      "text/plain": [
       "<matplotlib.axes._subplots.AxesSubplot at 0x7ffec61228b0>"
      ]
     },
     "execution_count": 116,
     "metadata": {},
     "output_type": "execute_result"
    },
    {
     "data": {
      "image/png": "[encoded data removed]",
      "text/plain": [
       "<Figure size 720x720 with 1 Axes>"
      ]
     },
     "metadata": {
      "needs_background": "light"
     },
     "output_type": "display_data"
    }
   ],
   "source": [
    "# get importance, n_estimators = 100\n",
    "pd.Series(rf.feature_importances_,index=list(X_train)).sort_values().plot(kind=\"barh\", figsize=(10,10))"
   ]
  },
  {
   "cell_type": "code",
   "execution_count": 117,
   "metadata": {},
   "outputs": [
    {
     "name": "stdout",
     "output_type": "stream",
     "text": [
      "Predictor: 0, Score: 0.06393\n",
      "Predictor: 1, Score: 0.01899\n",
      "Predictor: 2, Score: 0.02839\n",
      "Predictor: 3, Score: 0.01022\n",
      "Predictor: 4, Score: 0.03979\n",
      "Predictor: 5, Score: 0.34753\n",
      "Predictor: 6, Score: 0.13639\n",
      "Predictor: 7, Score: 0.00000\n",
      "Predictor: 8, Score: 0.06140\n",
      "Predictor: 9, Score: 0.00097\n",
      "Predictor: 10, Score: 0.00063\n",
      "Predictor: 11, Score: 0.06338\n",
      "Predictor: 12, Score: 0.03542\n",
      "Predictor: 13, Score: 0.03816\n",
      "Predictor: 14, Score: 0.00000\n",
      "Predictor: 15, Score: 0.01353\n",
      "Predictor: 16, Score: 0.08504\n",
      "Predictor: 17, Score: 0.00000\n",
      "Predictor: 18, Score: 0.00000\n",
      "Predictor: 19, Score: 0.00000\n",
      "Predictor: 20, Score: 0.00000\n",
      "Predictor: 21, Score: 0.00000\n",
      "Predictor: 22, Score: 0.00000\n",
      "Predictor: 23, Score: 0.00000\n",
      "Predictor: 24, Score: 0.00000\n",
      "Predictor: 25, Score: 0.00000\n",
      "Predictor: 26, Score: 0.00052\n",
      "Predictor: 27, Score: 0.00000\n",
      "Predictor: 28, Score: 0.00000\n",
      "Predictor: 29, Score: 0.00000\n",
      "Predictor: 30, Score: 0.00483\n",
      "Predictor: 31, Score: 0.00000\n",
      "Predictor: 32, Score: 0.00000\n",
      "Predictor: 33, Score: 0.00033\n",
      "Predictor: 34, Score: 0.00060\n",
      "Predictor: 35, Score: 0.00430\n",
      "Predictor: 36, Score: 0.00000\n",
      "Predictor: 37, Score: 0.00000\n",
      "Predictor: 38, Score: 0.00000\n",
      "Predictor: 39, Score: 0.04564\n"
     ]
    }
   ],
   "source": [
    "# get importance\n",
    "importance = rf.feature_importances_\n",
    "# summarize feature importance\n",
    "for i,v in enumerate(importance):\n",
    "    print('Predictor: %0d, Score: %.5f' % (i,v))"
   ]
  },
  {
   "cell_type": "markdown",
   "metadata": {},
   "source": [
    "# K-Fold Cross Validation"
   ]
  },
  {
   "cell_type": "code",
   "execution_count": 112,
   "metadata": {},
   "outputs": [
    {
     "name": "stdout",
     "output_type": "stream",
     "text": [
      "Accuracy: 0.855 (0.013)\n"
     ]
    }
   ],
   "source": [
    "# evaluate adaboost algorithm for classification\n",
    "from numpy import mean\n",
    "from numpy import std\n",
    "from sklearn.datasets import make_classification\n",
    "from sklearn.model_selection import cross_val_score\n",
    "from sklearn.model_selection import StratifiedShuffleSplit\n",
    "# evaluate the model\n",
    "cv = StratifiedShuffleSplit(n_splits=10, random_state=1)\n",
    "n_scores = cross_val_score(rf, X_test, y_test, scoring='accuracy', cv=cv, n_jobs=-1, error_score='raise')\n",
    "# report performance\n",
    "print('Accuracy: %.3f (%.3f)' % (mean(n_scores), std(n_scores)))"
   ]
  },
  {
   "cell_type": "markdown",
   "metadata": {},
   "source": [
    "# 8 - Neural Network"
   ]
  },
  {
   "cell_type": "code",
   "execution_count": null,
   "metadata": {},
   "outputs": [],
   "source": []
  },
  {
   "cell_type": "markdown",
   "metadata": {},
   "source": [
    "# 9 - Cross Validation"
   ]
  },
  {
   "cell_type": "code",
   "execution_count": null,
   "metadata": {},
   "outputs": [],
   "source": []
  },
  {
   "cell_type": "markdown",
   "metadata": {},
   "source": [
    "# 10 - Custom Model"
   ]
  },
  {
   "cell_type": "code",
   "execution_count": null,
   "metadata": {},
   "outputs": [],
   "source": []
  },
  {
   "cell_type": "code",
   "execution_count": 17,
   "metadata": {},
   "outputs": [
    {
     "data": {
      "text/plain": [
       "0.9866338374956032"
      ]
     },
     "execution_count": 17,
     "metadata": {},
     "output_type": "execute_result"
    }
   ],
   "source": [
    "clf = MLPClassifier()\n",
    "clf.fit(X_train, y_train)\n",
    "clf.score(X_test, y_test)"
   ]
  },
  {
   "cell_type": "code",
   "execution_count": null,
   "metadata": {},
   "outputs": [],
   "source": []
  }
 ],
 "metadata": {
  "kernelspec": {
   "display_name": "Python 3",
   "language": "python",
   "name": "python3"
  },
  "language_info": {
   "codemirror_mode": {
    "name": "ipython",
    "version": 3
   },
   "file_extension": ".py",
   "mimetype": "text/x-python",
   "name": "python",
   "nbconvert_exporter": "python",
   "pygments_lexer": "ipython3",
   "version": "3.8.3"
  }
 },
 "nbformat": 4,
 "nbformat_minor": 5
}
