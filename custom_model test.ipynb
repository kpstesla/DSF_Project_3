{
 "cells": [
  {
   "cell_type": "markdown",
   "metadata": {},
   "source": [
    "# Augmentation Methodology\n",
    "The following describes the methodology used to augment the driver information, given that we are going to collapse the data into a frame with single rows per driver. Since we will be inherently losing information by collapsing all of the rows, we will need to supplement the dataset with new columns.\n",
    "\n",
    "## Temporal Data\n",
    "Most of the temporal information will be lost when we collapse the rows, so we will need additional columns that summarize that info:\n",
    "\n",
    "- Start date (first load)\n",
    "- End date (most recent load)\n",
    "- Longevity (how long the driver has been employed, according to this dataset)\n",
    "- Trip Frequency (standard deviation or some measure of variance between trips)\n",
    "- Load Delta (some standard measure of how many days between each load)\n",
    "- Preferred weekday (the mode of the `weekday` column\n",
    "- Normal weekday (the mean or median of the `weekday` column\n",
    "- Weekday distribution (are the weekdays consistent?)\n",
    "\n",
    "## Location Data\n",
    "\n",
    "- Roaming (does the driver have more than one reported `home_base_city` or `home_base_state`?\n",
    "- Preferred Trip Distance (Possibly use `interested_in_dryage` and `carrier_trucks` to determine a measure of how far the driver prefers to drive)\n",
    "\n",
    "## Boolean Features\n",
    "\n",
    "- Indecision (did this person apply to become a driver more than once?)\n",
    "\n",
    "---\n",
    "\n",
    "# Transformation Methodology\n",
    "\n",
    "## Converting categoricals to boolean\n",
    "\n",
    "The following columns have only two unique values, which are easily turned into boolean features:\n",
    "\n",
    "- `dim_carrier_type` (**already implemented** corresponds to \"is this a self-owned driver?\", **0: Fleet, 1: Owner Operator**)\n",
    "- `interested_in_drayage` (**already implemented** corresponds to \"is this driver willing/able to complete drayage shipments?\", **0: not specified, 1: yes**)\n",
    "- `port_qualified` (**already implemented** corresponds to \"is this driver qualified to handle port shipments?\", **0: no, 1: yes**)\n",
    "- `signup_source` (**already implemented** corresponds to \"did this driver sign up on a mobile device?\", **0: Other, 1: Mobile**)\n",
    "- `driver_with_twic` (**already implemented** corresponds to \"does this driver have TWIC insurance?\" **0: no, 1: yes**)\n",
    "\n",
    "## New boolean columns\n",
    "- `dim_preferred_lanes` (**already implemented** corresponds to \"does this driver have a route preference?\" **0: null, 1: any**)\n",
    "\n",
    "## One Hot Encoding Categoricals\n",
    "\n",
    "The following columns have a limited number of unique categorical values that would work well with one-hot encoding\n",
    "\n",
    "- `carrier_trucks` (**already implemented** 16 unique arrangements of trucks)\n",
    "- `weekday` (**already implemented** -- pro: maintain all information for day of week, con: 7 extra columns, most of which will be sparse)\n",
    "- `dim_preferred_lanes` (**not implemented yet** -- 53 unique values -- pro: this might actually mean something, con: it might mean absolutely nothing and will double the number of columns)"
   ]
  },
  {
   "cell_type": "code",
   "execution_count": 1,
   "metadata": {},
   "outputs": [],
   "source": [
    "import numpy as np\n",
    "import pandas as pd\n",
    "import matplotlib\n",
    "import matplotlib.pyplot as plt\n",
    "import sklearn\n",
    "import seaborn as sn\n",
    "import datetime\n",
    "import random\n",
    "from datetime import date\n",
    "from pprint import pprint\n",
    "from sklearn.preprocessing import LabelEncoder, OneHotEncoder, OrdinalEncoder, StandardScaler\n",
    "from sklearn.impute import SimpleImputer\n",
    "import statistics \n",
    "from statistics import mode\n",
    "from sklearn.model_selection import train_test_split\n",
    "from sklearn.svm import SVC\n",
    "from sklearn.linear_model import LinearRegression, Ridge, Lasso"
   ]
  },
  {
   "cell_type": "code",
   "execution_count": 2,
   "metadata": {},
   "outputs": [],
   "source": [
    "def convert_strings_to_dates(dataframe):\n",
    "    frame = dataframe.copy()\n",
    "    frame.dt = [date.fromisoformat(d) for d in frame.dt]\n",
    "    frame.first_load_date = [date.fromisoformat(d) for d in frame.first_load_date]\n",
    "    frame.most_recent_load_date = [date.fromisoformat(d) for d in frame.most_recent_load_date]\n",
    "    frame.ts_signup = [datetime.datetime.strptime(d, '%Y-%m-%d %H:%M:%S+00:00') for d in frame.ts_signup]\n",
    "    frame.ts_signup = [date(year=d.year, month=d.month, day=d.day) for d in frame.ts_signup]\n",
    "    return frame"
   ]
  },
  {
   "cell_type": "code",
   "execution_count": 3,
   "metadata": {},
   "outputs": [],
   "source": [
    "def convert_date_to_int(dataframe):\n",
    "    frame = dataframe.copy()\n",
    "    conversion = lambda dt_time: 10000*dt_time.year + 100*dt_time.month + dt_time.day\n",
    "    frame.dt = [conversion(d) for d in frame.dt]\n",
    "    frame.ts_signup = [conversion(d) for d in frame.ts_signup]\n",
    "    frame.first_load_date = [conversion(d) for d in frame.first_load_date]\n",
    "    frame.most_recent_load_date = [conversion(d) for d in frame.most_recent_load_date]\n",
    "    return frame"
   ]
  },
  {
   "cell_type": "code",
   "execution_count": 4,
   "metadata": {},
   "outputs": [],
   "source": [
    "def aggregate_rows_by_driver_id(dataframe):\n",
    "    '''\n",
    "    Returns a new dataframe indexed by Driver ID using an optimal set of aggregations per column.\n",
    "    This method will return a dataframe that only contains the columns listed below.\n",
    "    Note: duplicate columns are inherently pruned (simply by not adding them below), so it is \n",
    "        safe to pass in the full dataframe and expect a pruned version in return. \n",
    "        Also note that the `id_driver` will now be the index of the dataframe and NOT its own column.\n",
    "    '''\n",
    "    minimum = 'min'\n",
    "    maximum = 'max'\n",
    "    median = 'median'\n",
    "    random_mode = lambda x: random.choice(pd.Series.mode(x if isinstance(x, list) else list(x)))\n",
    "    average = lambda x: pd.Series.mean(x)\n",
    "\n",
    "    aggregation = {\n",
    "        'dt': maximum,\n",
    "        'weekday': random_mode,\n",
    "        'dim_carrier_type': random_mode,\n",
    "        'carrier_trucks': mode,\n",
    "        'num_trucks': maximum,\n",
    "        'interested_in_drayage': random_mode,\n",
    "        'port_qualified': random_mode,\n",
    "        'signup_source': random_mode,\n",
    "        'ts_signup': maximum,\n",
    "        'days_signup_to_approval': maximum,\n",
    "        'driver_with_twic': mode,\n",
    "        'dim_preferred_lanes': mode,\n",
    "        'first_load_date': minimum,\n",
    "        'most_recent_load_date': maximum,\n",
    "        'loads': random_mode,\n",
    "        'marketplace_loads_otr': maximum,\n",
    "        'marketplace_loads_atlas': maximum,\n",
    "        'marketplace_loads': maximum,\n",
    "        'brokerage_loads_otr': maximum,\n",
    "        'brokerage_loads_atlas': maximum,\n",
    "        'brokerage_loads': maximum,\n",
    "        'label': random_mode\n",
    "    }\n",
    "\n",
    "    return dataframe.groupby(['id_driver']).agg(aggregation)"
   ]
  },
  {
   "cell_type": "code",
   "execution_count": 5,
   "metadata": {},
   "outputs": [],
   "source": [
    "def augment_boolean_columns(dataframe):\n",
    "    frame = dataframe.copy()\n",
    "    label_encoder = LabelEncoder()\n",
    "    \n",
    "    # Replacement (no new columns needed, just transform strings to 0 or 1)\n",
    "    frame['interested_in_drayage'] = label_encoder.fit_transform(frame.interested_in_drayage)\n",
    "    frame['port_qualified'] = label_encoder.fit_transform(frame.port_qualified)\n",
    "    frame['driver_with_twic'] = label_encoder.fit_transform(frame.driver_with_twic)\n",
    "    \n",
    "    # Create new columns with more appropriate names, delete the old columns\n",
    "    frame['self_owned'] = label_encoder.fit_transform(frame.dim_carrier_type)\n",
    "    frame['mobile_signup'] = np.logical_xor(label_encoder.fit_transform(frame.signup_source), 1).astype(int)\n",
    "    frame['has_route_preference'] = label_encoder.fit_transform(~frame.dim_preferred_lanes.isnull())\n",
    "    frame.drop(columns=['dim_carrier_type', 'signup_source', 'dim_preferred_lanes'], inplace=True)\n",
    "    \n",
    "    return frame"
   ]
  },
  {
   "cell_type": "code",
   "execution_count": 6,
   "metadata": {},
   "outputs": [],
   "source": [
    "def encode_categorical_columns(dataframe):\n",
    "    frame = dataframe.copy()\n",
    "\n",
    "    # Encode various truck types\n",
    "    trucks = pd.get_dummies(frame.carrier_trucks)\n",
    "    trucks.columns = ['truck-' + c.replace('[', '').replace(']', '').replace('\"', '').replace(',', '').replace(' ', '-') for c in trucks.columns]\n",
    "    \n",
    "    # Encode the 7 different days of the week\n",
    "    weekdays = pd.get_dummies(frame.weekday)\n",
    "    weekdays.columns = [f'prefers-{x}'.lower() for x in weekdays.columns]\n",
    "    \n",
    "    # Drop the originals since they are no longer needed.\n",
    "    frame.drop(columns=['carrier_trucks', 'weekday'], inplace=True)\n",
    "    \n",
    "    # Concatenate various new frames with the original and return\n",
    "    result = pd.concat([frame, trucks, weekdays], axis=1)\n",
    "    return result"
   ]
  },
  {
   "cell_type": "code",
   "execution_count": null,
   "metadata": {},
   "outputs": [],
   "source": [
    "    "
   ]
  },
  {
   "cell_type": "code",
   "execution_count": 7,
   "metadata": {},
   "outputs": [],
   "source": [
    "def generate_labels(dataframe, loads_percentile, most_recent_percentile):\n",
    "    label_encoder = LabelEncoder()\n",
    "    frame = dataframe.copy()\n",
    "    labels = (frame.total_loads >= loads_percentile) & (frame.most_recent_load_date >= most_recent_percentile)\n",
    "    frame['label'] = label_encoder.fit_transform(labels)\n",
    "#     frame.drop(columns=['total_loads', 'most_recent_load_date'], inplace=True)\n",
    "    return frame"
   ]
  },
  {
   "cell_type": "markdown",
   "metadata": {},
   "source": [
    "## Load CSV to DataFrame"
   ]
  },
  {
   "cell_type": "code",
   "execution_count": 8,
   "metadata": {},
   "outputs": [
    {
     "name": "stdout",
     "output_type": "stream",
     "text": [
      "<class 'pandas.core.frame.DataFrame'>\n",
      "RangeIndex: 83414 entries, 0 to 83413\n",
      "Data columns (total 31 columns):\n",
      " #   Column                    Non-Null Count  Dtype  \n",
      "---  ------                    --------------  -----  \n",
      " 0   Unnamed: 0                83414 non-null  int64  \n",
      " 1   dt                        83414 non-null  object \n",
      " 2   weekday                   83414 non-null  object \n",
      " 3   year                      83414 non-null  int64  \n",
      " 4   id_driver                 83414 non-null  int64  \n",
      " 5   id_carrier_number         83414 non-null  object \n",
      " 6   dim_carrier_type          83414 non-null  object \n",
      " 7   dim_carrier_company_name  83365 non-null  object \n",
      " 8   home_base_city            83369 non-null  object \n",
      " 9   home_base_state           83369 non-null  object \n",
      " 10  carrier_trucks            83414 non-null  object \n",
      " 11  num_trucks                83344 non-null  float64\n",
      " 12  interested_in_drayage     83414 non-null  object \n",
      " 13  port_qualified            83414 non-null  object \n",
      " 14  signup_source             83414 non-null  object \n",
      " 15  ts_signup                 83414 non-null  object \n",
      " 16  ts_first_approved         71124 non-null  object \n",
      " 17  days_signup_to_approval   71124 non-null  float64\n",
      " 18  driver_with_twic          83414 non-null  object \n",
      " 19  dim_preferred_lanes       3412 non-null   object \n",
      " 20  first_load_date           83414 non-null  object \n",
      " 21  most_recent_load_date     83414 non-null  object \n",
      " 22  load_day                  83414 non-null  object \n",
      " 23  loads                     83414 non-null  int64  \n",
      " 24  marketplace_loads_otr     83414 non-null  int64  \n",
      " 25  marketplace_loads_atlas   83414 non-null  int64  \n",
      " 26  marketplace_loads         83414 non-null  int64  \n",
      " 27  brokerage_loads_otr       83414 non-null  int64  \n",
      " 28  brokerage_loads_atlas     83414 non-null  int64  \n",
      " 29  brokerage_loads           83414 non-null  int64  \n",
      " 30  total_loads               83414 non-null  int64  \n",
      "dtypes: float64(2), int64(11), object(18)\n",
      "memory usage: 19.7+ MB\n"
     ]
    }
   ],
   "source": [
    "df = pd.read_csv('training_dataset_V3.csv')\n",
    "df.info()"
   ]
  },
  {
   "cell_type": "markdown",
   "metadata": {},
   "source": [
    "**Verify that no columns are duplicates**"
   ]
  },
  {
   "cell_type": "code",
   "execution_count": 9,
   "metadata": {},
   "outputs": [
    {
     "name": "stdout",
     "output_type": "stream",
     "text": [
      "dt is equal to load_day\n",
      "load_day is equal to dt\n"
     ]
    }
   ],
   "source": [
    "for (columnName1, columnData1) in df.iteritems():\n",
    "    for (columnName2, columnData2) in df.iteritems():\n",
    "        if columnData1.equals(columnData2) and columnName1 is not columnName2:\n",
    "            print(f'{columnName1} is equal to {columnName2}')"
   ]
  },
  {
   "cell_type": "markdown",
   "metadata": {},
   "source": [
    "**Drops duplicates and unwanted columns**"
   ]
  },
  {
   "cell_type": "code",
   "execution_count": 10,
   "metadata": {},
   "outputs": [],
   "source": [
    "df.drop(columns=['Unnamed: 0', 'load_day', 'ts_first_approved', 'dim_carrier_company_name', 'home_base_city', 'home_base_state', 'id_carrier_number', 'year'], inplace=True)\n",
    "df.dropna(subset=['days_signup_to_approval', 'num_trucks'], inplace=True)"
   ]
  },
  {
   "cell_type": "markdown",
   "metadata": {},
   "source": [
    "**Convert strings to dates for easier processing**"
   ]
  },
  {
   "cell_type": "code",
   "execution_count": 11,
   "metadata": {},
   "outputs": [],
   "source": [
    "df = convert_strings_to_dates(df)"
   ]
  },
  {
   "cell_type": "markdown",
   "metadata": {},
   "source": [
    "## Collapse DataFrame into single rows per driver"
   ]
  },
  {
   "cell_type": "code",
   "execution_count": 12,
   "metadata": {},
   "outputs": [],
   "source": [
    "df2 = df.groupby(['id_driver']).agg('max')"
   ]
  },
  {
   "cell_type": "code",
   "execution_count": 13,
   "metadata": {},
   "outputs": [
    {
     "name": "stdout",
     "output_type": "stream",
     "text": [
      "<class 'pandas.core.frame.DataFrame'>\n",
      "Int64Index: 3936 entries, 30 to 38125\n",
      "Data columns (total 22 columns):\n",
      " #   Column                   Non-Null Count  Dtype  \n",
      "---  ------                   --------------  -----  \n",
      " 0   dt                       3936 non-null   object \n",
      " 1   weekday                  3936 non-null   object \n",
      " 2   dim_carrier_type         3936 non-null   object \n",
      " 3   carrier_trucks           3936 non-null   object \n",
      " 4   num_trucks               3936 non-null   float64\n",
      " 5   interested_in_drayage    3936 non-null   object \n",
      " 6   port_qualified           3936 non-null   object \n",
      " 7   signup_source            3936 non-null   object \n",
      " 8   ts_signup                3936 non-null   object \n",
      " 9   days_signup_to_approval  3936 non-null   float64\n",
      " 10  driver_with_twic         3936 non-null   object \n",
      " 11  dim_preferred_lanes      175 non-null    object \n",
      " 12  first_load_date          3936 non-null   object \n",
      " 13  most_recent_load_date    3936 non-null   object \n",
      " 14  loads                    3936 non-null   int64  \n",
      " 15  marketplace_loads_otr    3936 non-null   int64  \n",
      " 16  marketplace_loads_atlas  3936 non-null   int64  \n",
      " 17  marketplace_loads        3936 non-null   int64  \n",
      " 18  brokerage_loads_otr      3936 non-null   int64  \n",
      " 19  brokerage_loads_atlas    3936 non-null   int64  \n",
      " 20  brokerage_loads          3936 non-null   int64  \n",
      " 21  total_loads              3936 non-null   int64  \n",
      "dtypes: float64(2), int64(8), object(12)\n",
      "memory usage: 707.2+ KB\n"
     ]
    }
   ],
   "source": [
    "df2.info()"
   ]
  },
  {
   "cell_type": "markdown",
   "metadata": {},
   "source": [
    "# Label Generation - Two Methods\n",
    "\n",
    "There are (at least) two methods we can use to generate the target labels. One would consider the data *before* it has been collapsed, and the other would consider the data *after* it has been collapsed.\n",
    "\n",
    "It seems to make sense to collapse the data before taking the 75th percentile of the `total_loads`, because otherwise you will be counting a bunch of drivers many times (as many times as they have rows in the dataset, since `total_loads` is cumulative, and the same value for each row for any given driver) and ignoring others.\n",
    "\n",
    "In my opinion, using `most_recent_load_date` to determine a high-performance driver doesn't make that much sense, since clearly a driver can perform well and not have delivered a load within the last week or so. If we look at the original dateset, the 75th percentile of `most_recent_load_date` is 2021-02-14, which is just three days before the latest date, 2021-02-17. This means if a person happened to take a few days off, they would not be considered high-performing. However, if we use the *collapsed* dataset, then we're looking at 2020-05-19 as the 75th percentile. This is also problematic because it means that a driver might not have driven for nearly 9 months but would still be considered high-performance.\n",
    "\n",
    "## 1 - Use the original dataset"
   ]
  },
  {
   "cell_type": "code",
   "execution_count": 14,
   "metadata": {},
   "outputs": [
    {
     "name": "stdout",
     "output_type": "stream",
     "text": [
      "The top 75th percentile of total_loads is >= 320.0\n"
     ]
    },
    {
     "data": {
      "image/png": "[encoded data removed]",
      "text/plain": [
       "<Figure size 864x288 with 1 Axes>"
      ]
     },
     "metadata": {
      "needs_background": "light"
     },
     "output_type": "display_data"
    }
   ],
   "source": [
    "plt.figure(figsize=(12,4))\n",
    "df.total_loads.hist(bins=100)\n",
    "plt.title('Total Loads Distribution from Original Dataset')\n",
    "top_loads = df.total_loads.quantile(0.75)\n",
    "print(f'The top 75th percentile of total_loads is >= {top_loads}')"
   ]
  },
  {
   "cell_type": "code",
   "execution_count": 15,
   "metadata": {},
   "outputs": [
    {
     "ename": "TypeError",
     "evalue": "unsupported operand type(s) for *: 'datetime.date' and 'float'",
     "output_type": "error",
     "traceback": [
      "\u001b[0;31m---------------------------------------------------------------------------\u001b[0m",
      "\u001b[0;31mTypeError\u001b[0m                                 Traceback (most recent call last)",
      "\u001b[0;32m<ipython-input-15-d67ce7b90d47>\u001b[0m in \u001b[0;36m<module>\u001b[0;34m\u001b[0m\n\u001b[1;32m      2\u001b[0m \u001b[0mdf\u001b[0m\u001b[0;34m.\u001b[0m\u001b[0mmost_recent_load_date\u001b[0m\u001b[0;34m.\u001b[0m\u001b[0mhist\u001b[0m\u001b[0;34m(\u001b[0m\u001b[0mbins\u001b[0m\u001b[0;34m=\u001b[0m\u001b[0;36m100\u001b[0m\u001b[0;34m)\u001b[0m\u001b[0;34m\u001b[0m\u001b[0;34m\u001b[0m\u001b[0m\n\u001b[1;32m      3\u001b[0m \u001b[0mplt\u001b[0m\u001b[0;34m.\u001b[0m\u001b[0mtitle\u001b[0m\u001b[0;34m(\u001b[0m\u001b[0;34m'Most Recent Load Date Distribution from Original Dataset'\u001b[0m\u001b[0;34m)\u001b[0m\u001b[0;34m\u001b[0m\u001b[0;34m\u001b[0m\u001b[0m\n\u001b[0;32m----> 4\u001b[0;31m \u001b[0mtop_most_recent\u001b[0m \u001b[0;34m=\u001b[0m \u001b[0mdf\u001b[0m\u001b[0;34m.\u001b[0m\u001b[0mmost_recent_load_date\u001b[0m\u001b[0;34m.\u001b[0m\u001b[0mquantile\u001b[0m\u001b[0;34m(\u001b[0m\u001b[0;36m0.75\u001b[0m\u001b[0;34m)\u001b[0m\u001b[0;34m\u001b[0m\u001b[0;34m\u001b[0m\u001b[0m\n\u001b[0m\u001b[1;32m      5\u001b[0m \u001b[0mprint\u001b[0m\u001b[0;34m(\u001b[0m\u001b[0;34mf'The top 75th percentile of most_recent_load_date falls on {top_most_recent}'\u001b[0m\u001b[0;34m)\u001b[0m\u001b[0;34m\u001b[0m\u001b[0;34m\u001b[0m\u001b[0m\n",
      "\u001b[0;32m/Library/Frameworks/Python.framework/Versions/3.9/lib/python3.9/site-packages/pandas/core/series.py\u001b[0m in \u001b[0;36mquantile\u001b[0;34m(self, q, interpolation)\u001b[0m\n\u001b[1;32m   2265\u001b[0m         \u001b[0mdf\u001b[0m \u001b[0;34m=\u001b[0m \u001b[0mself\u001b[0m\u001b[0;34m.\u001b[0m\u001b[0mto_frame\u001b[0m\u001b[0;34m(\u001b[0m\u001b[0;34m)\u001b[0m\u001b[0;34m\u001b[0m\u001b[0;34m\u001b[0m\u001b[0m\n\u001b[1;32m   2266\u001b[0m \u001b[0;34m\u001b[0m\u001b[0m\n\u001b[0;32m-> 2267\u001b[0;31m         \u001b[0mresult\u001b[0m \u001b[0;34m=\u001b[0m \u001b[0mdf\u001b[0m\u001b[0;34m.\u001b[0m\u001b[0mquantile\u001b[0m\u001b[0;34m(\u001b[0m\u001b[0mq\u001b[0m\u001b[0;34m=\u001b[0m\u001b[0mq\u001b[0m\u001b[0;34m,\u001b[0m \u001b[0minterpolation\u001b[0m\u001b[0;34m=\u001b[0m\u001b[0minterpolation\u001b[0m\u001b[0;34m,\u001b[0m \u001b[0mnumeric_only\u001b[0m\u001b[0;34m=\u001b[0m\u001b[0;32mFalse\u001b[0m\u001b[0;34m)\u001b[0m\u001b[0;34m\u001b[0m\u001b[0;34m\u001b[0m\u001b[0m\n\u001b[0m\u001b[1;32m   2268\u001b[0m         \u001b[0;32mif\u001b[0m \u001b[0mresult\u001b[0m\u001b[0;34m.\u001b[0m\u001b[0mndim\u001b[0m \u001b[0;34m==\u001b[0m \u001b[0;36m2\u001b[0m\u001b[0;34m:\u001b[0m\u001b[0;34m\u001b[0m\u001b[0;34m\u001b[0m\u001b[0m\n\u001b[1;32m   2269\u001b[0m             \u001b[0mresult\u001b[0m \u001b[0;34m=\u001b[0m \u001b[0mresult\u001b[0m\u001b[0;34m.\u001b[0m\u001b[0miloc\u001b[0m\u001b[0;34m[\u001b[0m\u001b[0;34m:\u001b[0m\u001b[0;34m,\u001b[0m \u001b[0;36m0\u001b[0m\u001b[0;34m]\u001b[0m\u001b[0;34m\u001b[0m\u001b[0;34m\u001b[0m\u001b[0m\n",
      "\u001b[0;32m/Library/Frameworks/Python.framework/Versions/3.9/lib/python3.9/site-packages/pandas/core/frame.py\u001b[0m in \u001b[0;36mquantile\u001b[0;34m(self, q, axis, numeric_only, interpolation)\u001b[0m\n\u001b[1;32m   9262\u001b[0m             \u001b[0;32mreturn\u001b[0m \u001b[0mself\u001b[0m\u001b[0;34m.\u001b[0m\u001b[0m_constructor_sliced\u001b[0m\u001b[0;34m(\u001b[0m\u001b[0;34m[\u001b[0m\u001b[0;34m]\u001b[0m\u001b[0;34m,\u001b[0m \u001b[0mindex\u001b[0m\u001b[0;34m=\u001b[0m\u001b[0mcols\u001b[0m\u001b[0;34m,\u001b[0m \u001b[0mname\u001b[0m\u001b[0;34m=\u001b[0m\u001b[0mq\u001b[0m\u001b[0;34m,\u001b[0m \u001b[0mdtype\u001b[0m\u001b[0;34m=\u001b[0m\u001b[0mnp\u001b[0m\u001b[0;34m.\u001b[0m\u001b[0mfloat64\u001b[0m\u001b[0;34m)\u001b[0m\u001b[0;34m\u001b[0m\u001b[0;34m\u001b[0m\u001b[0m\n\u001b[1;32m   9263\u001b[0m \u001b[0;34m\u001b[0m\u001b[0m\n\u001b[0;32m-> 9264\u001b[0;31m         result = data._mgr.quantile(\n\u001b[0m\u001b[1;32m   9265\u001b[0m             \u001b[0mqs\u001b[0m\u001b[0;34m=\u001b[0m\u001b[0mq\u001b[0m\u001b[0;34m,\u001b[0m \u001b[0maxis\u001b[0m\u001b[0;34m=\u001b[0m\u001b[0;36m1\u001b[0m\u001b[0;34m,\u001b[0m \u001b[0minterpolation\u001b[0m\u001b[0;34m=\u001b[0m\u001b[0minterpolation\u001b[0m\u001b[0;34m,\u001b[0m \u001b[0mtransposed\u001b[0m\u001b[0;34m=\u001b[0m\u001b[0mis_transposed\u001b[0m\u001b[0;34m\u001b[0m\u001b[0;34m\u001b[0m\u001b[0m\n\u001b[1;32m   9266\u001b[0m         )\n",
      "\u001b[0;32m/Library/Frameworks/Python.framework/Versions/3.9/lib/python3.9/site-packages/pandas/core/internals/managers.py\u001b[0m in \u001b[0;36mquantile\u001b[0;34m(self, axis, consolidate, transposed, interpolation, qs, numeric_only)\u001b[0m\n\u001b[1;32m    489\u001b[0m         \u001b[0maxes\u001b[0m\u001b[0;34m,\u001b[0m \u001b[0mblocks\u001b[0m \u001b[0;34m=\u001b[0m \u001b[0;34m[\u001b[0m\u001b[0;34m]\u001b[0m\u001b[0;34m,\u001b[0m \u001b[0;34m[\u001b[0m\u001b[0;34m]\u001b[0m\u001b[0;34m\u001b[0m\u001b[0;34m\u001b[0m\u001b[0m\n\u001b[1;32m    490\u001b[0m         \u001b[0;32mfor\u001b[0m \u001b[0mb\u001b[0m \u001b[0;32min\u001b[0m \u001b[0mself\u001b[0m\u001b[0;34m.\u001b[0m\u001b[0mblocks\u001b[0m\u001b[0;34m:\u001b[0m\u001b[0;34m\u001b[0m\u001b[0;34m\u001b[0m\u001b[0m\n\u001b[0;32m--> 491\u001b[0;31m             \u001b[0mblock\u001b[0m \u001b[0;34m=\u001b[0m \u001b[0mb\u001b[0m\u001b[0;34m.\u001b[0m\u001b[0mquantile\u001b[0m\u001b[0;34m(\u001b[0m\u001b[0maxis\u001b[0m\u001b[0;34m=\u001b[0m\u001b[0maxis\u001b[0m\u001b[0;34m,\u001b[0m \u001b[0mqs\u001b[0m\u001b[0;34m=\u001b[0m\u001b[0mqs\u001b[0m\u001b[0;34m,\u001b[0m \u001b[0minterpolation\u001b[0m\u001b[0;34m=\u001b[0m\u001b[0minterpolation\u001b[0m\u001b[0;34m)\u001b[0m\u001b[0;34m\u001b[0m\u001b[0;34m\u001b[0m\u001b[0m\n\u001b[0m\u001b[1;32m    492\u001b[0m \u001b[0;34m\u001b[0m\u001b[0m\n\u001b[1;32m    493\u001b[0m             \u001b[0maxe\u001b[0m \u001b[0;34m=\u001b[0m \u001b[0mget_axe\u001b[0m\u001b[0;34m(\u001b[0m\u001b[0mb\u001b[0m\u001b[0;34m,\u001b[0m \u001b[0mqs\u001b[0m\u001b[0;34m,\u001b[0m \u001b[0maxes\u001b[0m\u001b[0;34m=\u001b[0m\u001b[0mself\u001b[0m\u001b[0;34m.\u001b[0m\u001b[0maxes\u001b[0m\u001b[0;34m)\u001b[0m\u001b[0;34m\u001b[0m\u001b[0;34m\u001b[0m\u001b[0m\n",
      "\u001b[0;32m/Library/Frameworks/Python.framework/Versions/3.9/lib/python3.9/site-packages/pandas/core/internals/blocks.py\u001b[0m in \u001b[0;36mquantile\u001b[0;34m(self, qs, interpolation, axis)\u001b[0m\n\u001b[1;32m   1580\u001b[0m             \u001b[0;31m# asarray needed for Sparse, see GH#24600\u001b[0m\u001b[0;34m\u001b[0m\u001b[0;34m\u001b[0m\u001b[0;34m\u001b[0m\u001b[0m\n\u001b[1;32m   1581\u001b[0m             \u001b[0mmask\u001b[0m \u001b[0;34m=\u001b[0m \u001b[0mnp\u001b[0m\u001b[0;34m.\u001b[0m\u001b[0masarray\u001b[0m\u001b[0;34m(\u001b[0m\u001b[0misna\u001b[0m\u001b[0;34m(\u001b[0m\u001b[0mvalues\u001b[0m\u001b[0;34m)\u001b[0m\u001b[0;34m)\u001b[0m\u001b[0;34m\u001b[0m\u001b[0;34m\u001b[0m\u001b[0m\n\u001b[0;32m-> 1582\u001b[0;31m             result = nanpercentile(\n\u001b[0m\u001b[1;32m   1583\u001b[0m                 \u001b[0mvalues\u001b[0m\u001b[0;34m,\u001b[0m\u001b[0;34m\u001b[0m\u001b[0;34m\u001b[0m\u001b[0m\n\u001b[1;32m   1584\u001b[0m                 \u001b[0mnp\u001b[0m\u001b[0;34m.\u001b[0m\u001b[0marray\u001b[0m\u001b[0;34m(\u001b[0m\u001b[0mqs\u001b[0m\u001b[0;34m)\u001b[0m \u001b[0;34m*\u001b[0m \u001b[0;36m100\u001b[0m\u001b[0;34m,\u001b[0m\u001b[0;34m\u001b[0m\u001b[0;34m\u001b[0m\u001b[0m\n",
      "\u001b[0;32m/Library/Frameworks/Python.framework/Versions/3.9/lib/python3.9/site-packages/pandas/core/nanops.py\u001b[0m in \u001b[0;36mnanpercentile\u001b[0;34m(values, q, axis, na_value, mask, ndim, interpolation)\u001b[0m\n\u001b[1;32m   1671\u001b[0m             \u001b[0;32mreturn\u001b[0m \u001b[0mresult\u001b[0m\u001b[0;34m\u001b[0m\u001b[0;34m\u001b[0m\u001b[0m\n\u001b[1;32m   1672\u001b[0m     \u001b[0;32melse\u001b[0m\u001b[0;34m:\u001b[0m\u001b[0;34m\u001b[0m\u001b[0;34m\u001b[0m\u001b[0m\n\u001b[0;32m-> 1673\u001b[0;31m         \u001b[0;32mreturn\u001b[0m \u001b[0mnp\u001b[0m\u001b[0;34m.\u001b[0m\u001b[0mpercentile\u001b[0m\u001b[0;34m(\u001b[0m\u001b[0mvalues\u001b[0m\u001b[0;34m,\u001b[0m \u001b[0mq\u001b[0m\u001b[0;34m,\u001b[0m \u001b[0maxis\u001b[0m\u001b[0;34m=\u001b[0m\u001b[0maxis\u001b[0m\u001b[0;34m,\u001b[0m \u001b[0minterpolation\u001b[0m\u001b[0;34m=\u001b[0m\u001b[0minterpolation\u001b[0m\u001b[0;34m)\u001b[0m\u001b[0;34m\u001b[0m\u001b[0;34m\u001b[0m\u001b[0m\n\u001b[0m\u001b[1;32m   1674\u001b[0m \u001b[0;34m\u001b[0m\u001b[0m\n\u001b[1;32m   1675\u001b[0m \u001b[0;34m\u001b[0m\u001b[0m\n",
      "\u001b[0;32m<__array_function__ internals>\u001b[0m in \u001b[0;36mpercentile\u001b[0;34m(*args, **kwargs)\u001b[0m\n",
      "\u001b[0;32m/Library/Frameworks/Python.framework/Versions/3.9/lib/python3.9/site-packages/numpy/lib/function_base.py\u001b[0m in \u001b[0;36mpercentile\u001b[0;34m(a, q, axis, out, overwrite_input, interpolation, keepdims)\u001b[0m\n\u001b[1;32m   3730\u001b[0m     \u001b[0;32mif\u001b[0m \u001b[0;32mnot\u001b[0m \u001b[0m_quantile_is_valid\u001b[0m\u001b[0;34m(\u001b[0m\u001b[0mq\u001b[0m\u001b[0;34m)\u001b[0m\u001b[0;34m:\u001b[0m\u001b[0;34m\u001b[0m\u001b[0;34m\u001b[0m\u001b[0m\n\u001b[1;32m   3731\u001b[0m         \u001b[0;32mraise\u001b[0m \u001b[0mValueError\u001b[0m\u001b[0;34m(\u001b[0m\u001b[0;34m\"Percentiles must be in the range [0, 100]\"\u001b[0m\u001b[0;34m)\u001b[0m\u001b[0;34m\u001b[0m\u001b[0;34m\u001b[0m\u001b[0m\n\u001b[0;32m-> 3732\u001b[0;31m     return _quantile_unchecked(\n\u001b[0m\u001b[1;32m   3733\u001b[0m         a, q, axis, out, overwrite_input, interpolation, keepdims)\n\u001b[1;32m   3734\u001b[0m \u001b[0;34m\u001b[0m\u001b[0m\n",
      "\u001b[0;32m/Library/Frameworks/Python.framework/Versions/3.9/lib/python3.9/site-packages/numpy/lib/function_base.py\u001b[0m in \u001b[0;36m_quantile_unchecked\u001b[0;34m(a, q, axis, out, overwrite_input, interpolation, keepdims)\u001b[0m\n\u001b[1;32m   3849\u001b[0m                         interpolation='linear', keepdims=False):\n\u001b[1;32m   3850\u001b[0m     \u001b[0;34m\"\"\"Assumes that q is in [0, 1], and is an ndarray\"\"\"\u001b[0m\u001b[0;34m\u001b[0m\u001b[0;34m\u001b[0m\u001b[0m\n\u001b[0;32m-> 3851\u001b[0;31m     r, k = _ureduce(a, func=_quantile_ureduce_func, q=q, axis=axis, out=out,\n\u001b[0m\u001b[1;32m   3852\u001b[0m                     \u001b[0moverwrite_input\u001b[0m\u001b[0;34m=\u001b[0m\u001b[0moverwrite_input\u001b[0m\u001b[0;34m,\u001b[0m\u001b[0;34m\u001b[0m\u001b[0;34m\u001b[0m\u001b[0m\n\u001b[1;32m   3853\u001b[0m                     interpolation=interpolation)\n",
      "\u001b[0;32m/Library/Frameworks/Python.framework/Versions/3.9/lib/python3.9/site-packages/numpy/lib/function_base.py\u001b[0m in \u001b[0;36m_ureduce\u001b[0;34m(a, func, **kwargs)\u001b[0m\n\u001b[1;32m   3427\u001b[0m         \u001b[0mkeepdim\u001b[0m \u001b[0;34m=\u001b[0m \u001b[0;34m(\u001b[0m\u001b[0;36m1\u001b[0m\u001b[0;34m,\u001b[0m\u001b[0;34m)\u001b[0m \u001b[0;34m*\u001b[0m \u001b[0ma\u001b[0m\u001b[0;34m.\u001b[0m\u001b[0mndim\u001b[0m\u001b[0;34m\u001b[0m\u001b[0;34m\u001b[0m\u001b[0m\n\u001b[1;32m   3428\u001b[0m \u001b[0;34m\u001b[0m\u001b[0m\n\u001b[0;32m-> 3429\u001b[0;31m     \u001b[0mr\u001b[0m \u001b[0;34m=\u001b[0m \u001b[0mfunc\u001b[0m\u001b[0;34m(\u001b[0m\u001b[0ma\u001b[0m\u001b[0;34m,\u001b[0m \u001b[0;34m**\u001b[0m\u001b[0mkwargs\u001b[0m\u001b[0;34m)\u001b[0m\u001b[0;34m\u001b[0m\u001b[0;34m\u001b[0m\u001b[0m\n\u001b[0m\u001b[1;32m   3430\u001b[0m     \u001b[0;32mreturn\u001b[0m \u001b[0mr\u001b[0m\u001b[0;34m,\u001b[0m \u001b[0mkeepdim\u001b[0m\u001b[0;34m\u001b[0m\u001b[0;34m\u001b[0m\u001b[0m\n\u001b[1;32m   3431\u001b[0m \u001b[0;34m\u001b[0m\u001b[0m\n",
      "\u001b[0;32m/Library/Frameworks/Python.framework/Versions/3.9/lib/python3.9/site-packages/numpy/lib/function_base.py\u001b[0m in \u001b[0;36m_quantile_ureduce_func\u001b[0;34m(a, q, axis, out, overwrite_input, interpolation, keepdims)\u001b[0m\n\u001b[1;32m   3965\u001b[0m             \u001b[0mn\u001b[0m \u001b[0;34m=\u001b[0m \u001b[0mnp\u001b[0m\u001b[0;34m.\u001b[0m\u001b[0misnan\u001b[0m\u001b[0;34m(\u001b[0m\u001b[0map\u001b[0m\u001b[0;34m[\u001b[0m\u001b[0;34m-\u001b[0m\u001b[0;36m1\u001b[0m\u001b[0;34m:\u001b[0m\u001b[0;34m,\u001b[0m \u001b[0;34m...\u001b[0m\u001b[0;34m]\u001b[0m\u001b[0;34m)\u001b[0m\u001b[0;34m\u001b[0m\u001b[0;34m\u001b[0m\u001b[0m\n\u001b[1;32m   3966\u001b[0m \u001b[0;34m\u001b[0m\u001b[0m\n\u001b[0;32m-> 3967\u001b[0;31m         \u001b[0mx1\u001b[0m \u001b[0;34m=\u001b[0m \u001b[0mtake\u001b[0m\u001b[0;34m(\u001b[0m\u001b[0map\u001b[0m\u001b[0;34m,\u001b[0m \u001b[0mindices_below\u001b[0m\u001b[0;34m,\u001b[0m \u001b[0maxis\u001b[0m\u001b[0;34m=\u001b[0m\u001b[0maxis\u001b[0m\u001b[0;34m)\u001b[0m \u001b[0;34m*\u001b[0m \u001b[0mweights_below\u001b[0m\u001b[0;34m\u001b[0m\u001b[0;34m\u001b[0m\u001b[0m\n\u001b[0m\u001b[1;32m   3968\u001b[0m         \u001b[0mx2\u001b[0m \u001b[0;34m=\u001b[0m \u001b[0mtake\u001b[0m\u001b[0;34m(\u001b[0m\u001b[0map\u001b[0m\u001b[0;34m,\u001b[0m \u001b[0mindices_above\u001b[0m\u001b[0;34m,\u001b[0m \u001b[0maxis\u001b[0m\u001b[0;34m=\u001b[0m\u001b[0maxis\u001b[0m\u001b[0;34m)\u001b[0m \u001b[0;34m*\u001b[0m \u001b[0mweights_above\u001b[0m\u001b[0;34m\u001b[0m\u001b[0;34m\u001b[0m\u001b[0m\n\u001b[1;32m   3969\u001b[0m \u001b[0;34m\u001b[0m\u001b[0m\n",
      "\u001b[0;31mTypeError\u001b[0m: unsupported operand type(s) for *: 'datetime.date' and 'float'"
     ]
    },
    {
     "data": {
      "image/png": "[encoded data removed]",
      "text/plain": [
       "<Figure size 864x288 with 1 Axes>"
      ]
     },
     "metadata": {
      "needs_background": "light"
     },
     "output_type": "display_data"
    }
   ],
   "source": [
    "plt.figure(figsize=(12,4))\n",
    "df.most_recent_load_date.hist(bins=100)\n",
    "plt.title('Most Recent Load Date Distribution from Original Dataset')\n",
    "top_most_recent = df.most_recent_load_date.quantile(0.75)\n",
    "print(f'The top 75th percentile of most_recent_load_date falls on {top_most_recent}')"
   ]
  },
  {
   "cell_type": "markdown",
   "metadata": {},
   "source": [
    "## 2 - Use the collapsed dataset"
   ]
  },
  {
   "cell_type": "code",
   "execution_count": null,
   "metadata": {},
   "outputs": [],
   "source": [
    "plt.figure(figsize=(12,4))\n",
    "df2.total_loads.hist(bins=100)\n",
    "plt.title('Total Loads Distribution from Collapsed Dataset')\n",
    "top_loads = df2.total_loads.quantile(0.75)\n",
    "print(f'The top 75th percentile of total_loads is >= {top_loads}')"
   ]
  },
  {
   "cell_type": "code",
   "execution_count": null,
   "metadata": {},
   "outputs": [],
   "source": [
    "plt.figure(figsize=(12,4))\n",
    "df2.most_recent_load_date.hist(bins=100)\n",
    "plt.title('Most Recent Load Date Distribution from Collapsed Dataset')\n",
    "top_most_recent = df2.most_recent_load_date.quantile(0.75)\n",
    "print(f'The top 75th percentile of most_recent_load_date falls on {top_most_recent}')"
   ]
  },
  {
   "cell_type": "markdown",
   "metadata": {},
   "source": [
    "# Let's run some tests...\n",
    "\n",
    "- Method 1: `total_loads` from original, `most_recent_load_date` from original\n",
    "- Method 2: `total_loads` from original, `most_recent_load_date` from collapsed\n",
    "- Method 3: `total_loads` from collapsed, `most_recent_load_date` from original\n",
    "- Method 4: `total_loads` from collapsed, `most_recent_load_date` from collapsed"
   ]
  },
  {
   "cell_type": "code",
   "execution_count": null,
   "metadata": {},
   "outputs": [],
   "source": [
    "df2 = df.groupby('id_driver').agg('max')"
   ]
  },
  {
   "cell_type": "code",
   "execution_count": null,
   "metadata": {},
   "outputs": [],
   "source": [
    "top_loads1 = df.total_loads.quantile(0.75)\n",
    "top_loads2 = df2.total_loads.quantile(0.75)\n",
    "\n",
    "top_most_recent1 = df.most_recent_load_date.quantile(0.75)\n",
    "top_most_recent2 = df2.most_recent_load_date.quantile(0.75)\n",
    "\n",
    "top_loads1, top_loads2, top_most_recent1, top_most_recent2"
   ]
  },
  {
   "cell_type": "code",
   "execution_count": null,
   "metadata": {},
   "outputs": [],
   "source": [
    "top1 = df[(df.total_loads >= top_loads1) & (df.most_recent_load_date >= top_most_recent1)]\n",
    "top2 = df[(df.total_loads >= top_loads1) & (df.most_recent_load_date >= top_most_recent2)]\n",
    "top3 = df[(df.total_loads >= top_loads2) & (df.most_recent_load_date >= top_most_recent1)]\n",
    "top4 = df[(df.total_loads >= top_loads2) & (df.most_recent_load_date >= top_most_recent2)]"
   ]
  },
  {
   "cell_type": "code",
   "execution_count": null,
   "metadata": {},
   "outputs": [],
   "source": [
    "n_datapoints = df.shape[0]\n",
    "data1, data2, data3, data4 = top1.shape[0], top2.shape[0], top3.shape[0], top4.shape[0]\n",
    "print(f'{(data1 / n_datapoints) * 100:.2f}% of samples considered high-performance using method 1 ({data1} rows)')\n",
    "print(f'{(data2 / n_datapoints) * 100:.2f}% of samples considered high-performance using method 2 ({data2} rows)')\n",
    "print(f'{(data3 / n_datapoints) * 100:.2f}% of samples considered high-performance using method 3 ({data3} rows)')\n",
    "print(f'{(data4 / n_datapoints) * 100:.2f}% of samples considered high-performance using method 4 ({data4} rows)')"
   ]
  },
  {
   "cell_type": "code",
   "execution_count": null,
   "metadata": {},
   "outputs": [],
   "source": [
    "rows1 = top1.groupby(['id_driver']).agg('max').shape[0]\n",
    "rows2 = top2.groupby(['id_driver']).agg('max').shape[0]\n",
    "rows3 = top3.groupby(['id_driver']).agg('max').shape[0]\n",
    "rows4 = top4.groupby(['id_driver']).agg('max').shape[0]"
   ]
  },
  {
   "cell_type": "code",
   "execution_count": null,
   "metadata": {},
   "outputs": [],
   "source": [
    "n_drivers = df2.shape[0]\n",
    "print(f'{(rows1 / n_drivers) * 100:.2f}% of drivers considered high-performance using method 1 ({rows1} drivers)')\n",
    "print(f'{(rows2 / n_drivers) * 100:.2f}% of drivers considered high-performance using method 2 ({rows2} drivers)')\n",
    "print(f'{(rows3 / n_drivers) * 100:.2f}% of drivers considered high-performance using method 3 ({rows3} drivers)')\n",
    "print(f'{(rows4 / n_drivers) * 100:.2f}% of drivers considered high-performance using method 4 ({rows4} drivers)')"
   ]
  },
  {
   "cell_type": "markdown",
   "metadata": {},
   "source": [
    "# Results\n",
    "\n",
    "- Method 1: Labels 12% of the data but only 1% of drivers\n",
    "- Method 2: Labels 21% of the data but only 2% of drivers\n",
    "- **Method 3: Labels 25% of the data and 6% of drivers**\n",
    "- Method 4: Labels 53% of the data and 14.5% of drivers"
   ]
  },
  {
   "cell_type": "markdown",
   "metadata": {},
   "source": [
    "---\n",
    "\n",
    "# 1 - Generate Labels and 4 - Pipeline\n",
    "\n",
    "`original_df` == Original data, labeled, with `total_loads` and `most_recent_load_date` removed.\n",
    "\n",
    "`collapsed_df` == `original_df` aggregated by Driver ID"
   ]
  },
  {
   "cell_type": "code",
   "execution_count": null,
   "metadata": {},
   "outputs": [],
   "source": [
    "loads_75th_percentile = 22\n",
    "most_recent_75th_percentile = date(year=2021, month=2, day=10)\n",
    "scaler = StandardScaler()"
   ]
  },
  {
   "cell_type": "code",
   "execution_count": null,
   "metadata": {},
   "outputs": [],
   "source": [
    "original_df = generate_labels(df, top_loads2, top_most_recent1)\n",
    "original_df = augment_boolean_columns(original_df)\n",
    "original_df = encode_categorical_columns(original_df)\n",
    "original_df = convert_date_to_int(original_df)\n",
    "\n",
    "original_labels = original_df.label\n",
    "original_df_stats = original_df.copy()\n",
    "original_df.drop(columns=['label'], inplace=True)\n",
    "\n",
    "new_df = pd.DataFrame(scaler.fit_transform(original_df))\n",
    "new_df.columns = original_df.columns\n",
    "original_df = new_df\n",
    "\n",
    "print(original_df.shape)\n",
    "original_df.info()"
   ]
  },
  {
   "cell_type": "code",
   "execution_count": null,
   "metadata": {},
   "outputs": [],
   "source": [
    "driver_id_df = generate_labels(df, top_loads2, top_most_recent1)\n",
    "driver_id_df = aggregate_rows_by_driver_id(driver_id_df)\n",
    "driver_id_df = augment_boolean_columns(driver_id_df)\n",
    "driver_id_df = encode_categorical_columns(driver_id_df)\n",
    "driver_id_df = convert_date_to_int(driver_id_df)\n",
    "\n",
    "driver_id_labels = driver_id_df.label\n",
    "driver_id_stats = driver_id_df.copy()\n",
    "driver_id_df.drop(columns=['label'], inplace=True)\n",
    "\n",
    "new_df = pd.DataFrame(scaler.fit_transform(driver_id_df))\n",
    "new_df.columns = driver_id_df.columns\n",
    "driver_id_df = new_df\n",
    "\n",
    "print(driver_id_df.shape)\n",
    "driver_id_df.info()"
   ]
  },
  {
   "cell_type": "markdown",
   "metadata": {},
   "source": [
    "# 3 - Statistical Analysis"
   ]
  },
  {
   "cell_type": "code",
   "execution_count": null,
   "metadata": {},
   "outputs": [],
   "source": [
    "original_df_stats.describe()"
   ]
  },
  {
   "cell_type": "code",
   "execution_count": null,
   "metadata": {},
   "outputs": [],
   "source": [
    "driver_id_stats.describe()"
   ]
  },
  {
   "cell_type": "code",
   "execution_count": null,
   "metadata": {},
   "outputs": [],
   "source": [
    "plt.figure(figsize=(30,25))\n",
    "sn.heatmap(original_df_stats.corr(), annot=True, fmt=\".2f\")\n",
    "plt.show()"
   ]
  },
  {
   "cell_type": "code",
   "execution_count": null,
   "metadata": {},
   "outputs": [],
   "source": [
    "plt.figure(figsize=(30,25))\n",
    "sn.heatmap(driver_id_stats.corr(), annot=True, fmt=\".2f\")\n",
    "plt.show()"
   ]
  },
  {
   "cell_type": "code",
   "execution_count": null,
   "metadata": {},
   "outputs": [],
   "source": [
    "X_train_og, X_test_og, y_train_og, y_test_og = train_test_split(original_df, original_labels, test_size=0.20, random_state=42)\n",
    "X_train_driver, X_test_driver, y_train_driver, y_test_driver = train_test_split(driver_id_df, driver_id_labels, test_size=0.20, random_state=42)"
   ]
  },
  {
   "cell_type": "markdown",
   "metadata": {},
   "source": [
    "# 5 - Linear Regression"
   ]
  },
  {
   "cell_type": "code",
   "execution_count": null,
   "metadata": {},
   "outputs": [],
   "source": [
    "clf = LinearRegression(normalize=True)\n",
    "clf.fit(X_train_og, y_train_og)\n",
    "pred = clf.predict(X_test_og)\n",
    "score = clf.score(X_test_og, y_test_og)\n",
    "print(score)"
   ]
  },
  {
   "cell_type": "code",
   "execution_count": null,
   "metadata": {},
   "outputs": [],
   "source": [
    "clf = LinearRegression()\n",
    "clf.fit(X_train_driver, y_train_driver)\n",
    "pred = clf.predict(X_test_driver)\n",
    "score = clf.score(X_test_driver, y_test_driver)\n",
    "print(score)"
   ]
  },
  {
   "cell_type": "markdown",
   "metadata": {},
   "source": [
    "# 6 - PCA"
   ]
  },
  {
   "cell_type": "code",
   "execution_count": null,
   "metadata": {},
   "outputs": [],
   "source": []
  },
  {
   "cell_type": "markdown",
   "metadata": {},
   "source": [
    "# 7 - Ensemble Method"
   ]
  },
  {
   "cell_type": "code",
   "execution_count": null,
   "metadata": {},
   "outputs": [],
   "source": []
  },
  {
   "cell_type": "markdown",
   "metadata": {},
   "source": [
    "# 8 - Neural Network"
   ]
  },
  {
   "cell_type": "code",
   "execution_count": null,
   "metadata": {},
   "outputs": [],
   "source": []
  },
  {
   "cell_type": "markdown",
   "metadata": {},
   "source": [
    "# 9 - Cross Validation"
   ]
  },
  {
   "cell_type": "code",
   "execution_count": null,
   "metadata": {},
   "outputs": [],
   "source": []
  },
  {
   "cell_type": "markdown",
   "metadata": {},
   "source": [
    "# 10 - Custom Model"
   ]
  },
  {
   "cell_type": "code",
   "execution_count": 18,
   "metadata": {},
   "outputs": [
    {
     "ename": "SyntaxError",
     "evalue": "invalid syntax (<ipython-input-18-adefb9dec183>, line 45)",
     "output_type": "error",
     "traceback": [
      "\u001b[0;36m  File \u001b[0;32m\"<ipython-input-18-adefb9dec183>\"\u001b[0;36m, line \u001b[0;32m45\u001b[0m\n\u001b[0;31m    if i in self.driver_ids_df\u001b[0m\n\u001b[0m                              ^\u001b[0m\n\u001b[0;31mSyntaxError\u001b[0m\u001b[0;31m:\u001b[0m invalid syntax\n"
     ]
    }
   ],
   "source": [
    "# leverages the fact that the labels are based on the drivers (not the rows)\n",
    "# and the fact that 97% of the drivers in the score dataset are also in the train dataset with labels\n",
    "# whoops!\n",
    "class DumbModel():\n",
    "    \n",
    "    def __init__(self):\n",
    "        self.driver_ids_df = None\n",
    "        self.labels = None\n",
    "    \n",
    "    def fit(self, driver_ids_df, labels):\n",
    "        '''\n",
    "        fits the model to the driver ids list and labels\n",
    "\n",
    "        Parameters:\n",
    "\n",
    "        driver_ids_df -> the array/df containing the driver ids\n",
    "        labels -> the array/df containing the labels in the same order as the driver ids\n",
    "\n",
    "        Returns:\n",
    "\n",
    "        nothing\n",
    "        '''\n",
    "        if not (len(driver_ids_df) == len(labels)):\n",
    "            raise Exception(\"Those inputs are different shapes\")\n",
    "\n",
    "        self.driver_ids_df = driver_ids_df\n",
    "        self.labels = labels\n",
    "    \n",
    "    def predict(self, X, id_col=\"id_driver\"):\n",
    "        '''\n",
    "        returns a prediction of each instance in X\n",
    "\n",
    "        Parameters:\n",
    "\n",
    "        X -> pandas.Dataframe containing the features and driver ids in id_col\n",
    "        id_col -> the name of the column containing the driver ids\n",
    "        '''\n",
    "\n",
    "        if not self.driver_ids_df or not self.labels:\n",
    "            raise Exception(\"Please fit the model first\")\n",
    "\n",
    "        preds = []\n",
    "\n",
    "        for i in X[id_col]:\n",
    "            if i in self.driver_ids_df:\n",
    "                preds.append(self.labels[])\n",
    "    \n",
    "        "
   ]
  }
 ],
 "metadata": {
  "kernelspec": {
   "display_name": "Python 3",
   "language": "python",
   "name": "python3"
  },
  "language_info": {
   "codemirror_mode": {
    "name": "ipython",
    "version": 3
   },
   "file_extension": ".py",
   "mimetype": "text/x-python",
   "name": "python",
   "nbconvert_exporter": "python",
   "pygments_lexer": "ipython3",
   "version": "3.9.2"
  }
 },
 "nbformat": 4,
 "nbformat_minor": 5
}
