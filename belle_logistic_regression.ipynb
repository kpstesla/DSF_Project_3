{
 "cells": [
  {
   "cell_type": "markdown",
   "metadata": {},
   "source": [
    "# Augmentation Methodology\n",
    "The following describes the methodology used to augment the driver information, given that we are going to collapse the data into a frame with single rows per driver. Since we will be inherently losing information by collapsing all of the rows, we will need to supplement the dataset with new columns.\n",
    "\n",
    "## Temporal Data\n",
    "Most of the temporal information will be lost when we collapse the rows, so we will need additional columns that summarize that info:\n",
    "\n",
    "- Start date (first load)\n",
    "- End date (most recent load)\n",
    "- Longevity (how long the driver has been employed, according to this dataset)\n",
    "- Trip Frequency (standard deviation or some measure of variance between trips)\n",
    "- Load Delta (some standard measure of how many days between each load)\n",
    "- Preferred weekday (the mode of the `weekday` column\n",
    "- Normal weekday (the mean or median of the `weekday` column\n",
    "- Weekday distribution (are the weekdays consistent?)\n",
    "\n",
    "## Location Data\n",
    "\n",
    "- Roaming (does the driver have more than one reported `home_base_city` or `home_base_state`?\n",
    "- Preferred Trip Distance (Possibly use `interested_in_dryage` and `carrier_trucks` to determine a measure of how far the driver prefers to drive)\n",
    "\n",
    "## Boolean Features\n",
    "\n",
    "- Indecision (did this person apply to become a driver more than once?)\n",
    "\n",
    "---\n",
    "\n",
    "# Transformation Methodology\n",
    "\n",
    "## Converting categoricals to boolean\n",
    "\n",
    "The following columns have only two unique values, which are easily turned into boolean features:\n",
    "\n",
    "- `dim_carrier_type` (**already implemented** corresponds to \"is this a self-owned driver?\", **0: Fleet, 1: Owner Operator**)\n",
    "- `interested_in_drayage` (**already implemented** corresponds to \"is this driver willing/able to complete drayage shipments?\", **0: not specified, 1: yes**)\n",
    "- `port_qualified` (**already implemented** corresponds to \"is this driver qualified to handle port shipments?\", **0: no, 1: yes**)\n",
    "- `signup_source` (**already implemented** corresponds to \"did this driver sign up on a mobile device?\", **0: Other, 1: Mobile**)\n",
    "- `driver_with_twic` (**already implemented** corresponds to \"does this driver have TWIC insurance?\" **0: no, 1: yes**)\n",
    "\n",
    "## New boolean columns\n",
    "- `dim_preferred_lanes` (**already implemented** corresponds to \"does this driver have a route preference?\" **0: null, 1: any**)\n",
    "\n",
    "## One Hot Encoding Categoricals\n",
    "\n",
    "The following columns have a limited number of unique categorical values that would work well with one-hot encoding\n",
    "\n",
    "- `carrier_trucks` (**already implemented** 16 unique arrangements of trucks)\n",
    "- `weekday` (**already implemented** -- pro: maintain all information for day of week, con: 7 extra columns, most of which will be sparse)\n",
    "- `dim_preferred_lanes` (**not implemented yet** -- 53 unique values -- pro: this might actually mean something, con: it might mean absolutely nothing and will double the number of columns)"
   ]
  },
  {
   "cell_type": "code",
   "execution_count": 1,
   "metadata": {},
   "outputs": [],
   "source": [
    "import numpy as np\n",
    "import pandas as pd\n",
    "import matplotlib\n",
    "import matplotlib.pyplot as plt\n",
    "import sklearn\n",
    "import seaborn as sn\n",
    "import datetime\n",
    "import random\n",
    "from datetime import date\n",
    "from pprint import pprint\n",
    "from sklearn.preprocessing import LabelEncoder, OneHotEncoder, OrdinalEncoder, StandardScaler\n",
    "from sklearn.impute import SimpleImputer\n",
    "import statistics \n",
    "from statistics import mode\n",
    "from sklearn.model_selection import train_test_split\n",
    "from sklearn.svm import SVC\n",
    "from sklearn.linear_model import LinearRegression, Ridge, Lasso, LogisticRegression\n",
    "from sklearn.metrics import r2_score, mean_squared_error\n",
    "from sklearn import linear_model\n",
    "from sklearn.ensemble import BaggingRegressor\n",
    "from scipy import stats as st\n",
    "from statsmodels.stats.outliers_influence import variance_inflation_factor"
   ]
  },
  {
   "cell_type": "code",
   "execution_count": 2,
   "metadata": {},
   "outputs": [],
   "source": [
    "def convert_strings_to_dates(dataframe):\n",
    "    frame = dataframe.copy()\n",
    "    frame.dt = [date.fromisoformat(d) for d in frame.dt]\n",
    "    frame.first_load_date = [date.fromisoformat(d) for d in frame.first_load_date]\n",
    "    frame.most_recent_load_date = [date.fromisoformat(d) for d in frame.most_recent_load_date]\n",
    "    frame.ts_signup = [datetime.datetime.strptime(d, '%Y-%m-%d %H:%M:%S+00:00') for d in frame.ts_signup]\n",
    "    frame.ts_signup = [date(year=d.year, month=d.month, day=d.day) for d in frame.ts_signup]\n",
    "    return frame"
   ]
  },
  {
   "cell_type": "code",
   "execution_count": 3,
   "metadata": {},
   "outputs": [],
   "source": [
    "def convert_date_to_int(dataframe):\n",
    "    frame = dataframe.copy()\n",
    "    conversion = lambda dt_time: 10000*dt_time.year + 100*dt_time.month + dt_time.day\n",
    "    frame.dt = [conversion(d) for d in frame.dt]\n",
    "    frame.ts_signup = [conversion(d) for d in frame.ts_signup]\n",
    "    frame.first_load_date = [conversion(d) for d in frame.first_load_date]\n",
    "    frame.most_recent_load_date = [conversion(d) for d in frame.most_recent_load_date]\n",
    "    return frame"
   ]
  },
  {
   "cell_type": "code",
   "execution_count": 4,
   "metadata": {},
   "outputs": [],
   "source": [
    "def aggregate_rows_by_driver_id(dataframe):\n",
    "    '''\n",
    "    Returns a new dataframe indexed by Driver ID using an optimal set of aggregations per column.\n",
    "    This method will return a dataframe that only contains the columns listed below.\n",
    "    Note: duplicate columns are inherently pruned (simply by not adding them below), so it is \n",
    "        safe to pass in the full dataframe and expect a pruned version in return. \n",
    "        Also note that the `id_driver` will now be the index of the dataframe and NOT its own column.\n",
    "    '''\n",
    "    minimum = 'min'\n",
    "    maximum = 'max'\n",
    "    median = 'median'\n",
    "    random_mode = lambda x: random.choice(pd.Series.mode(x if isinstance(x, list) else list(x)))\n",
    "    average = lambda x: pd.Series.mean(x)\n",
    "\n",
    "    aggregation = {\n",
    "        'dt': maximum,\n",
    "        'weekday': random_mode,\n",
    "        'dim_carrier_type': random_mode,\n",
    "        'carrier_trucks': mode,\n",
    "        'num_trucks': maximum,\n",
    "        'interested_in_drayage': random_mode,\n",
    "        'port_qualified': random_mode,\n",
    "        'signup_source': random_mode,\n",
    "        'ts_signup': maximum,\n",
    "        'days_signup_to_approval': maximum,\n",
    "        'driver_with_twic': mode,\n",
    "        'dim_preferred_lanes': mode,\n",
    "        'first_load_date': minimum,\n",
    "        'most_recent_load_date': maximum,\n",
    "        'loads': random_mode,\n",
    "        'marketplace_loads_otr': maximum,\n",
    "        'marketplace_loads_atlas': maximum,\n",
    "        'marketplace_loads': maximum,\n",
    "        'brokerage_loads_otr': maximum,\n",
    "        'brokerage_loads_atlas': maximum,\n",
    "        'brokerage_loads': maximum,\n",
    "        'label': random_mode\n",
    "    }\n",
    "\n",
    "    return dataframe.groupby(['id_driver']).agg(aggregation)"
   ]
  },
  {
   "cell_type": "code",
   "execution_count": 5,
   "metadata": {},
   "outputs": [],
   "source": [
    "def augment_boolean_columns(dataframe):\n",
    "    frame = dataframe.copy()\n",
    "    label_encoder = LabelEncoder()\n",
    "    \n",
    "    # Replacement (no new columns needed, just transform strings to 0 or 1)\n",
    "    frame['interested_in_drayage'] = label_encoder.fit_transform(frame.interested_in_drayage)\n",
    "    frame['port_qualified'] = label_encoder.fit_transform(frame.port_qualified)\n",
    "    frame['driver_with_twic'] = label_encoder.fit_transform(frame.driver_with_twic)\n",
    "    \n",
    "    # Create new columns with more appropriate names, delete the old columns\n",
    "    frame['self_owned'] = label_encoder.fit_transform(frame.dim_carrier_type)\n",
    "    frame['mobile_signup'] = np.logical_xor(label_encoder.fit_transform(frame.signup_source), 1).astype(int)\n",
    "    frame['has_route_preference'] = label_encoder.fit_transform(~frame.dim_preferred_lanes.isnull())\n",
    "    frame.drop(columns=['dim_carrier_type', 'signup_source', 'dim_preferred_lanes'], inplace=True)\n",
    "    \n",
    "    return frame"
   ]
  },
  {
   "cell_type": "code",
   "execution_count": 6,
   "metadata": {},
   "outputs": [],
   "source": [
    "def encode_categorical_columns(dataframe):\n",
    "    frame = dataframe.copy()\n",
    "\n",
    "    # Encode various truck types\n",
    "    trucks = pd.get_dummies(frame.carrier_trucks)\n",
    "    trucks.columns = ['truck-' + c.replace('[', '').replace(']', '').replace('\"', '').replace(',', '').replace(' ', '-') for c in trucks.columns]\n",
    "    \n",
    "    # Encode the 7 different days of the week\n",
    "    weekdays = pd.get_dummies(frame.weekday)\n",
    "    weekdays.columns = [f'prefers-{x}'.lower() for x in weekdays.columns]\n",
    "    \n",
    "    # Drop the originals since they are no longer needed.\n",
    "    frame.drop(columns=['carrier_trucks', 'weekday'], inplace=True)\n",
    "    \n",
    "    # Concatenate various new frames with the original and return\n",
    "    result = pd.concat([frame, trucks, weekdays], axis=1)\n",
    "    return result"
   ]
  },
  {
   "cell_type": "code",
   "execution_count": 7,
   "metadata": {},
   "outputs": [],
   "source": [
    "def generate_labels(dataframe, loads_percentile, most_recent_percentile):\n",
    "    label_encoder = LabelEncoder()\n",
    "    frame = dataframe.copy()\n",
    "    labels = (frame.total_loads >= loads_percentile) & (frame.most_recent_load_date >= most_recent_percentile)\n",
    "    frame['label'] = label_encoder.fit_transform(labels)\n",
    "#     frame.drop(columns=['total_loads', 'most_recent_load_date'], inplace=True)\n",
    "    return frame"
   ]
  },
  {
   "cell_type": "markdown",
   "metadata": {},
   "source": [
    "## Load CSV to DataFrame"
   ]
  },
  {
   "cell_type": "code",
   "execution_count": 8,
   "metadata": {},
   "outputs": [
    {
     "name": "stdout",
     "output_type": "stream",
     "text": [
      "<class 'pandas.core.frame.DataFrame'>\n",
      "RangeIndex: 83414 entries, 0 to 83413\n",
      "Data columns (total 31 columns):\n",
      " #   Column                    Non-Null Count  Dtype  \n",
      "---  ------                    --------------  -----  \n",
      " 0   Unnamed: 0                83414 non-null  int64  \n",
      " 1   dt                        83414 non-null  object \n",
      " 2   weekday                   83414 non-null  object \n",
      " 3   year                      83414 non-null  int64  \n",
      " 4   id_driver                 83414 non-null  int64  \n",
      " 5   id_carrier_number         83414 non-null  object \n",
      " 6   dim_carrier_type          83414 non-null  object \n",
      " 7   dim_carrier_company_name  83365 non-null  object \n",
      " 8   home_base_city            83369 non-null  object \n",
      " 9   home_base_state           83369 non-null  object \n",
      " 10  carrier_trucks            83414 non-null  object \n",
      " 11  num_trucks                83344 non-null  float64\n",
      " 12  interested_in_drayage     83414 non-null  object \n",
      " 13  port_qualified            83414 non-null  object \n",
      " 14  signup_source             83414 non-null  object \n",
      " 15  ts_signup                 83414 non-null  object \n",
      " 16  ts_first_approved         71124 non-null  object \n",
      " 17  days_signup_to_approval   71124 non-null  float64\n",
      " 18  driver_with_twic          83414 non-null  object \n",
      " 19  dim_preferred_lanes       3412 non-null   object \n",
      " 20  first_load_date           83414 non-null  object \n",
      " 21  most_recent_load_date     83414 non-null  object \n",
      " 22  load_day                  83414 non-null  object \n",
      " 23  loads                     83414 non-null  int64  \n",
      " 24  marketplace_loads_otr     83414 non-null  int64  \n",
      " 25  marketplace_loads_atlas   83414 non-null  int64  \n",
      " 26  marketplace_loads         83414 non-null  int64  \n",
      " 27  brokerage_loads_otr       83414 non-null  int64  \n",
      " 28  brokerage_loads_atlas     83414 non-null  int64  \n",
      " 29  brokerage_loads           83414 non-null  int64  \n",
      " 30  total_loads               83414 non-null  int64  \n",
      "dtypes: float64(2), int64(11), object(18)\n",
      "memory usage: 19.7+ MB\n"
     ]
    }
   ],
   "source": [
    "df = pd.read_csv('training_dataset_V3.csv')\n",
    "df.info()"
   ]
  },
  {
   "cell_type": "markdown",
   "metadata": {},
   "source": [
    "**Verify that no columns are duplicates**"
   ]
  },
  {
   "cell_type": "code",
   "execution_count": 9,
   "metadata": {},
   "outputs": [
    {
     "name": "stdout",
     "output_type": "stream",
     "text": [
      "dt is equal to load_day\n",
      "load_day is equal to dt\n"
     ]
    }
   ],
   "source": [
    "for (columnName1, columnData1) in df.iteritems():\n",
    "    for (columnName2, columnData2) in df.iteritems():\n",
    "        if columnData1.equals(columnData2) and columnName1 is not columnName2:\n",
    "            print(f'{columnName1} is equal to {columnName2}')"
   ]
  },
  {
   "cell_type": "markdown",
   "metadata": {},
   "source": [
    "**Drops duplicates and unwanted columns**"
   ]
  },
  {
   "cell_type": "code",
   "execution_count": 10,
   "metadata": {},
   "outputs": [],
   "source": [
    "df.drop(columns=['Unnamed: 0', 'load_day', 'ts_first_approved', 'dim_carrier_company_name', 'home_base_city', 'home_base_state', 'id_carrier_number', 'year'], inplace=True)\n",
    "df.dropna(subset=['days_signup_to_approval', 'num_trucks'], inplace=True)"
   ]
  },
  {
   "cell_type": "markdown",
   "metadata": {},
   "source": [
    "**Convert strings to dates for easier processing**"
   ]
  },
  {
   "cell_type": "code",
   "execution_count": 11,
   "metadata": {},
   "outputs": [],
   "source": [
    "df = convert_strings_to_dates(df)"
   ]
  },
  {
   "cell_type": "markdown",
   "metadata": {},
   "source": [
    "## Collapse DataFrame into single rows per driver"
   ]
  },
  {
   "cell_type": "code",
   "execution_count": 12,
   "metadata": {},
   "outputs": [],
   "source": [
    "df2 = df.groupby(['id_driver']).agg('max')"
   ]
  },
  {
   "cell_type": "code",
   "execution_count": 13,
   "metadata": {},
   "outputs": [
    {
     "name": "stdout",
     "output_type": "stream",
     "text": [
      "<class 'pandas.core.frame.DataFrame'>\n",
      "Int64Index: 3936 entries, 30 to 38125\n",
      "Data columns (total 22 columns):\n",
      " #   Column                   Non-Null Count  Dtype  \n",
      "---  ------                   --------------  -----  \n",
      " 0   dt                       3936 non-null   object \n",
      " 1   weekday                  3936 non-null   object \n",
      " 2   dim_carrier_type         3936 non-null   object \n",
      " 3   carrier_trucks           3936 non-null   object \n",
      " 4   num_trucks               3936 non-null   float64\n",
      " 5   interested_in_drayage    3936 non-null   object \n",
      " 6   port_qualified           3936 non-null   object \n",
      " 7   signup_source            3936 non-null   object \n",
      " 8   ts_signup                3936 non-null   object \n",
      " 9   days_signup_to_approval  3936 non-null   float64\n",
      " 10  driver_with_twic         3936 non-null   object \n",
      " 11  dim_preferred_lanes      175 non-null    object \n",
      " 12  first_load_date          3936 non-null   object \n",
      " 13  most_recent_load_date    3936 non-null   object \n",
      " 14  loads                    3936 non-null   int64  \n",
      " 15  marketplace_loads_otr    3936 non-null   int64  \n",
      " 16  marketplace_loads_atlas  3936 non-null   int64  \n",
      " 17  marketplace_loads        3936 non-null   int64  \n",
      " 18  brokerage_loads_otr      3936 non-null   int64  \n",
      " 19  brokerage_loads_atlas    3936 non-null   int64  \n",
      " 20  brokerage_loads          3936 non-null   int64  \n",
      " 21  total_loads              3936 non-null   int64  \n",
      "dtypes: float64(2), int64(8), object(12)\n",
      "memory usage: 707.2+ KB\n"
     ]
    }
   ],
   "source": [
    "df2.info()"
   ]
  },
  {
   "cell_type": "markdown",
   "metadata": {},
   "source": [
    "# Label Generation - Two Methods\n",
    "\n",
    "There are (at least) two methods we can use to generate the target labels. One would consider the data *before* it has been collapsed, and the other would consider the data *after* it has been collapsed.\n",
    "\n",
    "It seems to make sense to collapse the data before taking the 75th percentile of the `total_loads`, because otherwise you will be counting a bunch of drivers many times (as many times as they have rows in the dataset, since `total_loads` is cumulative, and the same value for each row for any given driver) and ignoring others.\n",
    "\n",
    "In my opinion, using `most_recent_load_date` to determine a high-performance driver doesn't make that much sense, since clearly a driver can perform well and not have delivered a load within the last week or so. If we look at the original dateset, the 75th percentile of `most_recent_load_date` is 2021-02-14, which is just three days before the latest date, 2021-02-17. This means if a person happened to take a few days off, they would not be considered high-performing. However, if we use the *collapsed* dataset, then we're looking at 2020-05-19 as the 75th percentile. This is also problematic because it means that a driver might not have driven for nearly 9 months but would still be considered high-performance.\n",
    "\n",
    "## 1 - Use the original dataset"
   ]
  },
  {
   "cell_type": "code",
   "execution_count": 14,
   "metadata": {},
   "outputs": [
    {
     "name": "stdout",
     "output_type": "stream",
     "text": [
      "The top 75th percentile of total_loads is >= 320.0\n"
     ]
    },
    {
     "data": {
      "image/png": "[encoded data removed]",
      "text/plain": [
       "<Figure size 864x288 with 1 Axes>"
      ]
     },
     "metadata": {
      "needs_background": "light"
     },
     "output_type": "display_data"
    }
   ],
   "source": [
    "plt.figure(figsize=(12,4))\n",
    "df.total_loads.hist(bins=100)\n",
    "plt.title('Total Loads Distribution from Original Dataset')\n",
    "top_loads = df.total_loads.quantile(0.75)\n",
    "print(f'The top 75th percentile of total_loads is >= {top_loads}')"
   ]
  },
  {
   "cell_type": "code",
   "execution_count": 15,
   "metadata": {},
   "outputs": [
    {
     "name": "stdout",
     "output_type": "stream",
     "text": [
      "The top 75th percentile of most_recent_load_date falls on 2021-02-16\n"
     ]
    },
    {
     "data": {
      "image/png": "[encoded data removed]",
      "text/plain": [
       "<Figure size 864x288 with 1 Axes>"
      ]
     },
     "metadata": {
      "needs_background": "light"
     },
     "output_type": "display_data"
    }
   ],
   "source": [
    "plt.figure(figsize=(12,4))\n",
    "df.most_recent_load_date.hist(bins=100)\n",
    "plt.title('Most Recent Load Date Distribution from Original Dataset')\n",
    "top_most_recent = df.most_recent_load_date.quantile(0.75)\n",
    "print(f'The top 75th percentile of most_recent_load_date falls on {top_most_recent}')"
   ]
  },
  {
   "cell_type": "markdown",
   "metadata": {},
   "source": [
    "## 2 - Use the collapsed dataset"
   ]
  },
  {
   "cell_type": "code",
   "execution_count": 16,
   "metadata": {},
   "outputs": [
    {
     "name": "stdout",
     "output_type": "stream",
     "text": [
      "The top 75th percentile of total_loads is >= 22.0\n"
     ]
    },
    {
     "data": {
      "image/png": "[encoded data removed]",
      "text/plain": [
       "<Figure size 864x288 with 1 Axes>"
      ]
     },
     "metadata": {
      "needs_background": "light"
     },
     "output_type": "display_data"
    }
   ],
   "source": [
    "plt.figure(figsize=(12,4))\n",
    "df2.total_loads.hist(bins=100)\n",
    "plt.title('Total Loads Distribution from Collapsed Dataset')\n",
    "top_loads = df2.total_loads.quantile(0.75)\n",
    "print(f'The top 75th percentile of total_loads is >= {top_loads}')"
   ]
  },
  {
   "cell_type": "code",
   "execution_count": 17,
   "metadata": {},
   "outputs": [
    {
     "name": "stdout",
     "output_type": "stream",
     "text": [
      "The top 75th percentile of most_recent_load_date falls on 2020-08-25\n"
     ]
    },
    {
     "data": {
      "image/png": "[encoded data removed]",
      "text/plain": [
       "<Figure size 864x288 with 1 Axes>"
      ]
     },
     "metadata": {
      "needs_background": "light"
     },
     "output_type": "display_data"
    }
   ],
   "source": [
    "plt.figure(figsize=(12,4))\n",
    "df2.most_recent_load_date.hist(bins=100)\n",
    "plt.title('Most Recent Load Date Distribution from Collapsed Dataset')\n",
    "top_most_recent = df2.most_recent_load_date.quantile(0.75)\n",
    "print(f'The top 75th percentile of most_recent_load_date falls on {top_most_recent}')"
   ]
  },
  {
   "cell_type": "markdown",
   "metadata": {},
   "source": [
    "# Let's run some tests...\n",
    "\n",
    "- Method 1: `total_loads` from original, `most_recent_load_date` from original\n",
    "- Method 2: `total_loads` from original, `most_recent_load_date` from collapsed\n",
    "- Method 3: `total_loads` from collapsed, `most_recent_load_date` from original\n",
    "- Method 4: `total_loads` from collapsed, `most_recent_load_date` from collapsed"
   ]
  },
  {
   "cell_type": "code",
   "execution_count": 18,
   "metadata": {},
   "outputs": [],
   "source": [
    "df2 = df.groupby('id_driver').agg('max')"
   ]
  },
  {
   "cell_type": "code",
   "execution_count": 19,
   "metadata": {},
   "outputs": [
    {
     "data": {
      "text/plain": [
       "(320.0, 22.0, datetime.date(2021, 2, 16), datetime.date(2020, 8, 25))"
      ]
     },
     "execution_count": 19,
     "metadata": {},
     "output_type": "execute_result"
    }
   ],
   "source": [
    "top_loads1 = df.total_loads.quantile(0.75)\n",
    "top_loads2 = df2.total_loads.quantile(0.75)\n",
    "\n",
    "top_most_recent1 = df.most_recent_load_date.quantile(0.75)\n",
    "top_most_recent2 = df2.most_recent_load_date.quantile(0.75)\n",
    "\n",
    "top_loads1, top_loads2, top_most_recent1, top_most_recent2"
   ]
  },
  {
   "cell_type": "code",
   "execution_count": 20,
   "metadata": {},
   "outputs": [],
   "source": [
    "top1 = df[(df.total_loads >= top_loads1) & (df.most_recent_load_date >= top_most_recent1)]\n",
    "top2 = df[(df.total_loads >= top_loads1) & (df.most_recent_load_date >= top_most_recent2)]\n",
    "top3 = df[(df.total_loads >= top_loads2) & (df.most_recent_load_date >= top_most_recent1)]\n",
    "top4 = df[(df.total_loads >= top_loads2) & (df.most_recent_load_date >= top_most_recent2)]"
   ]
  },
  {
   "cell_type": "code",
   "execution_count": 21,
   "metadata": {},
   "outputs": [
    {
     "name": "stdout",
     "output_type": "stream",
     "text": [
      "11.89% of samples considered high-performance using method 1 (8453 rows)\n",
      "20.79% of samples considered high-performance using method 2 (14774 rows)\n",
      "24.81% of samples considered high-performance using method 3 (17630 rows)\n",
      "53.27% of samples considered high-performance using method 4 (37858 rows)\n"
     ]
    }
   ],
   "source": [
    "n_datapoints = df.shape[0]\n",
    "data1, data2, data3, data4 = top1.shape[0], top2.shape[0], top3.shape[0], top4.shape[0]\n",
    "print(f'{(data1 / n_datapoints) * 100:.2f}% of samples considered high-performance using method 1 ({data1} rows)')\n",
    "print(f'{(data2 / n_datapoints) * 100:.2f}% of samples considered high-performance using method 2 ({data2} rows)')\n",
    "print(f'{(data3 / n_datapoints) * 100:.2f}% of samples considered high-performance using method 3 ({data3} rows)')\n",
    "print(f'{(data4 / n_datapoints) * 100:.2f}% of samples considered high-performance using method 4 ({data4} rows)')"
   ]
  },
  {
   "cell_type": "code",
   "execution_count": 22,
   "metadata": {},
   "outputs": [],
   "source": [
    "rows1 = top1.groupby(['id_driver']).agg('max').shape[0]\n",
    "rows2 = top2.groupby(['id_driver']).agg('max').shape[0]\n",
    "rows3 = top3.groupby(['id_driver']).agg('max').shape[0]\n",
    "rows4 = top4.groupby(['id_driver']).agg('max').shape[0]"
   ]
  },
  {
   "cell_type": "code",
   "execution_count": 23,
   "metadata": {},
   "outputs": [
    {
     "name": "stdout",
     "output_type": "stream",
     "text": [
      "1.19% of drivers considered high-performance using method 1 (47 drivers)\n",
      "2.13% of drivers considered high-performance using method 2 (84 drivers)\n",
      "6.17% of drivers considered high-performance using method 3 (243 drivers)\n",
      "14.51% of drivers considered high-performance using method 4 (571 drivers)\n"
     ]
    }
   ],
   "source": [
    "n_drivers = df2.shape[0]\n",
    "print(f'{(rows1 / n_drivers) * 100:.2f}% of drivers considered high-performance using method 1 ({rows1} drivers)')\n",
    "print(f'{(rows2 / n_drivers) * 100:.2f}% of drivers considered high-performance using method 2 ({rows2} drivers)')\n",
    "print(f'{(rows3 / n_drivers) * 100:.2f}% of drivers considered high-performance using method 3 ({rows3} drivers)')\n",
    "print(f'{(rows4 / n_drivers) * 100:.2f}% of drivers considered high-performance using method 4 ({rows4} drivers)')"
   ]
  },
  {
   "cell_type": "markdown",
   "metadata": {},
   "source": [
    "# Results\n",
    "\n",
    "- Method 1: Labels 12% of the data but only 1% of drivers\n",
    "- Method 2: Labels 21% of the data but only 2% of drivers\n",
    "- **Method 3: Labels 25% of the data and 6% of drivers**\n",
    "- Method 4: Labels 53% of the data and 14.5% of drivers"
   ]
  },
  {
   "cell_type": "markdown",
   "metadata": {},
   "source": [
    "---\n",
    "\n",
    "# 1 - Generate Labels and 4 - Pipeline\n",
    "\n",
    "`original_df` == Original data, labeled, with `total_loads` and `most_recent_load_date` removed.\n",
    "\n",
    "`collapsed_df` == `original_df` aggregated by Driver ID"
   ]
  },
  {
   "cell_type": "code",
   "execution_count": 24,
   "metadata": {},
   "outputs": [],
   "source": [
    "loads_75th_percentile = 22\n",
    "most_recent_75th_percentile = date(year=2021, month=2, day=10)\n",
    "scaler = StandardScaler()"
   ]
  },
  {
   "cell_type": "code",
   "execution_count": 25,
   "metadata": {},
   "outputs": [
    {
     "name": "stdout",
     "output_type": "stream",
     "text": [
      "(71072, 42)\n",
      "<class 'pandas.core.frame.DataFrame'>\n",
      "RangeIndex: 71072 entries, 0 to 71071\n",
      "Data columns (total 42 columns):\n",
      " #   Column                           Non-Null Count  Dtype  \n",
      "---  ------                           --------------  -----  \n",
      " 0   dt                               71072 non-null  float64\n",
      " 1   id_driver                        71072 non-null  float64\n",
      " 2   num_trucks                       71072 non-null  float64\n",
      " 3   interested_in_drayage            71072 non-null  float64\n",
      " 4   port_qualified                   71072 non-null  float64\n",
      " 5   ts_signup                        71072 non-null  float64\n",
      " 6   days_signup_to_approval          71072 non-null  float64\n",
      " 7   driver_with_twic                 71072 non-null  float64\n",
      " 8   first_load_date                  71072 non-null  float64\n",
      " 9   most_recent_load_date            71072 non-null  float64\n",
      " 10  loads                            71072 non-null  float64\n",
      " 11  marketplace_loads_otr            71072 non-null  float64\n",
      " 12  marketplace_loads_atlas          71072 non-null  float64\n",
      " 13  marketplace_loads                71072 non-null  float64\n",
      " 14  brokerage_loads_otr              71072 non-null  float64\n",
      " 15  brokerage_loads_atlas            71072 non-null  float64\n",
      " 16  brokerage_loads                  71072 non-null  float64\n",
      " 17  total_loads                      71072 non-null  float64\n",
      " 18  self_owned                       71072 non-null  float64\n",
      " 19  mobile_signup                    71072 non-null  float64\n",
      " 20  has_route_preference             71072 non-null  float64\n",
      " 21  truck-boxtruck                   71072 non-null  float64\n",
      " 22  truck-dryvan-boxtruck-poweronly  71072 non-null  float64\n",
      " 23  truck-dryvan-boxtruck            71072 non-null  float64\n",
      " 24  truck-dryvan-flatbed-poweronly   71072 non-null  float64\n",
      " 25  truck-dryvan-poweronly           71072 non-null  float64\n",
      " 26  truck-dryvan-reefer              71072 non-null  float64\n",
      " 27  truck-dryvan                     71072 non-null  float64\n",
      " 28  truck-flatbed                    71072 non-null  float64\n",
      " 29  truck-poweronly-boxtruck         71072 non-null  float64\n",
      " 30  truck-poweronly-dryvan           71072 non-null  float64\n",
      " 31  truck-poweronly                  71072 non-null  float64\n",
      " 32  truck-reefer-dryvan              71072 non-null  float64\n",
      " 33  truck-reefer-poweronly           71072 non-null  float64\n",
      " 34  truck-reefer                     71072 non-null  float64\n",
      " 35  prefers-friday                   71072 non-null  float64\n",
      " 36  prefers-monday                   71072 non-null  float64\n",
      " 37  prefers-saturday                 71072 non-null  float64\n",
      " 38  prefers-sunday                   71072 non-null  float64\n",
      " 39  prefers-thursday                 71072 non-null  float64\n",
      " 40  prefers-tuesday                  71072 non-null  float64\n",
      " 41  prefers-wednesday                71072 non-null  float64\n",
      "dtypes: float64(42)\n",
      "memory usage: 22.8 MB\n"
     ]
    }
   ],
   "source": [
    "original_df = generate_labels(df, top_loads2, top_most_recent1)\n",
    "original_df = augment_boolean_columns(original_df)\n",
    "original_df = encode_categorical_columns(original_df)\n",
    "original_df = convert_date_to_int(original_df)\n",
    "\n",
    "original_labels = original_df.label\n",
    "original_df_stats = original_df.copy()\n",
    "original_df.drop(columns=['label'], inplace=True)\n",
    "\n",
    "new_df = pd.DataFrame(scaler.fit_transform(original_df))\n",
    "new_df.columns = original_df.columns\n",
    "original_df = new_df\n",
    "\n",
    "print(original_df.shape)\n",
    "original_df.info()"
   ]
  },
  {
   "cell_type": "code",
   "execution_count": 26,
   "metadata": {},
   "outputs": [
    {
     "name": "stdout",
     "output_type": "stream",
     "text": [
      "(3936, 40)\n",
      "<class 'pandas.core.frame.DataFrame'>\n",
      "RangeIndex: 3936 entries, 0 to 3935\n",
      "Data columns (total 40 columns):\n",
      " #   Column                           Non-Null Count  Dtype  \n",
      "---  ------                           --------------  -----  \n",
      " 0   dt                               3936 non-null   float64\n",
      " 1   num_trucks                       3936 non-null   float64\n",
      " 2   interested_in_drayage            3936 non-null   float64\n",
      " 3   port_qualified                   3936 non-null   float64\n",
      " 4   ts_signup                        3936 non-null   float64\n",
      " 5   days_signup_to_approval          3936 non-null   float64\n",
      " 6   driver_with_twic                 3936 non-null   float64\n",
      " 7   first_load_date                  3936 non-null   float64\n",
      " 8   most_recent_load_date            3936 non-null   float64\n",
      " 9   loads                            3936 non-null   float64\n",
      " 10  marketplace_loads_otr            3936 non-null   float64\n",
      " 11  marketplace_loads_atlas          3936 non-null   float64\n",
      " 12  marketplace_loads                3936 non-null   float64\n",
      " 13  brokerage_loads_otr              3936 non-null   float64\n",
      " 14  brokerage_loads_atlas            3936 non-null   float64\n",
      " 15  brokerage_loads                  3936 non-null   float64\n",
      " 16  self_owned                       3936 non-null   float64\n",
      " 17  mobile_signup                    3936 non-null   float64\n",
      " 18  has_route_preference             3936 non-null   float64\n",
      " 19  truck-boxtruck                   3936 non-null   float64\n",
      " 20  truck-dryvan-boxtruck-poweronly  3936 non-null   float64\n",
      " 21  truck-dryvan-boxtruck            3936 non-null   float64\n",
      " 22  truck-dryvan-flatbed-poweronly   3936 non-null   float64\n",
      " 23  truck-dryvan-poweronly           3936 non-null   float64\n",
      " 24  truck-dryvan-reefer              3936 non-null   float64\n",
      " 25  truck-dryvan                     3936 non-null   float64\n",
      " 26  truck-flatbed                    3936 non-null   float64\n",
      " 27  truck-poweronly-boxtruck         3936 non-null   float64\n",
      " 28  truck-poweronly-dryvan           3936 non-null   float64\n",
      " 29  truck-poweronly                  3936 non-null   float64\n",
      " 30  truck-reefer-dryvan              3936 non-null   float64\n",
      " 31  truck-reefer-poweronly           3936 non-null   float64\n",
      " 32  truck-reefer                     3936 non-null   float64\n",
      " 33  prefers-friday                   3936 non-null   float64\n",
      " 34  prefers-monday                   3936 non-null   float64\n",
      " 35  prefers-saturday                 3936 non-null   float64\n",
      " 36  prefers-sunday                   3936 non-null   float64\n",
      " 37  prefers-thursday                 3936 non-null   float64\n",
      " 38  prefers-tuesday                  3936 non-null   float64\n",
      " 39  prefers-wednesday                3936 non-null   float64\n",
      "dtypes: float64(40)\n",
      "memory usage: 1.2 MB\n"
     ]
    }
   ],
   "source": [
    "driver_id_df = generate_labels(df, top_loads2, top_most_recent1)\n",
    "driver_id_df = aggregate_rows_by_driver_id(driver_id_df)\n",
    "driver_id_df = augment_boolean_columns(driver_id_df)\n",
    "driver_id_df = encode_categorical_columns(driver_id_df)\n",
    "driver_id_df = convert_date_to_int(driver_id_df)\n",
    "\n",
    "driver_id_labels = driver_id_df.label\n",
    "driver_id_stats = driver_id_df.copy()\n",
    "driver_id_df.drop(columns=['label'], inplace=True)\n",
    "\n",
    "new_df = pd.DataFrame(scaler.fit_transform(driver_id_df))\n",
    "new_df.columns = driver_id_df.columns\n",
    "driver_id_df = new_df\n",
    "\n",
    "print(driver_id_df.shape)\n",
    "driver_id_df.info()"
   ]
  },
  {
   "cell_type": "markdown",
   "metadata": {},
   "source": [
    "# 3 - Statistical Analysis"
   ]
  },
  {
   "cell_type": "code",
   "execution_count": 27,
   "metadata": {},
   "outputs": [
    {
     "data": {
      "text/html": [
       "<div>\n",
       "<style scoped>\n",
       "    .dataframe tbody tr th:only-of-type {\n",
       "        vertical-align: middle;\n",
       "    }\n",
       "\n",
       "    .dataframe tbody tr th {\n",
       "        vertical-align: top;\n",
       "    }\n",
       "\n",
       "    .dataframe thead th {\n",
       "        text-align: right;\n",
       "    }\n",
       "</style>\n",
       "<table border=\"1\" class=\"dataframe\">\n",
       "  <thead>\n",
       "    <tr style=\"text-align: right;\">\n",
       "      <th></th>\n",
       "      <th>dt</th>\n",
       "      <th>id_driver</th>\n",
       "      <th>num_trucks</th>\n",
       "      <th>interested_in_drayage</th>\n",
       "      <th>port_qualified</th>\n",
       "      <th>ts_signup</th>\n",
       "      <th>days_signup_to_approval</th>\n",
       "      <th>driver_with_twic</th>\n",
       "      <th>first_load_date</th>\n",
       "      <th>most_recent_load_date</th>\n",
       "      <th>...</th>\n",
       "      <th>truck-reefer-dryvan</th>\n",
       "      <th>truck-reefer-poweronly</th>\n",
       "      <th>truck-reefer</th>\n",
       "      <th>prefers-friday</th>\n",
       "      <th>prefers-monday</th>\n",
       "      <th>prefers-saturday</th>\n",
       "      <th>prefers-sunday</th>\n",
       "      <th>prefers-thursday</th>\n",
       "      <th>prefers-tuesday</th>\n",
       "      <th>prefers-wednesday</th>\n",
       "    </tr>\n",
       "  </thead>\n",
       "  <tbody>\n",
       "    <tr>\n",
       "      <th>count</th>\n",
       "      <td>7.107200e+04</td>\n",
       "      <td>71072.000000</td>\n",
       "      <td>71072.000000</td>\n",
       "      <td>71072.000000</td>\n",
       "      <td>71072.000000</td>\n",
       "      <td>7.107200e+04</td>\n",
       "      <td>71072.000000</td>\n",
       "      <td>71072.000000</td>\n",
       "      <td>7.107200e+04</td>\n",
       "      <td>7.107200e+04</td>\n",
       "      <td>...</td>\n",
       "      <td>71072.000000</td>\n",
       "      <td>71072.000000</td>\n",
       "      <td>71072.000000</td>\n",
       "      <td>71072.000000</td>\n",
       "      <td>71072.000000</td>\n",
       "      <td>71072.000000</td>\n",
       "      <td>71072.000000</td>\n",
       "      <td>71072.000000</td>\n",
       "      <td>71072.000000</td>\n",
       "      <td>71072.000000</td>\n",
       "    </tr>\n",
       "    <tr>\n",
       "      <th>mean</th>\n",
       "      <td>2.019318e+07</td>\n",
       "      <td>20423.051469</td>\n",
       "      <td>24.782559</td>\n",
       "      <td>0.499550</td>\n",
       "      <td>0.331889</td>\n",
       "      <td>2.018355e+07</td>\n",
       "      <td>298.888930</td>\n",
       "      <td>0.312486</td>\n",
       "      <td>2.018705e+07</td>\n",
       "      <td>2.020090e+07</td>\n",
       "      <td>...</td>\n",
       "      <td>0.000056</td>\n",
       "      <td>0.000324</td>\n",
       "      <td>0.002096</td>\n",
       "      <td>0.180127</td>\n",
       "      <td>0.139647</td>\n",
       "      <td>0.092273</td>\n",
       "      <td>0.041690</td>\n",
       "      <td>0.184362</td>\n",
       "      <td>0.179536</td>\n",
       "      <td>0.182364</td>\n",
       "    </tr>\n",
       "    <tr>\n",
       "      <th>std</th>\n",
       "      <td>1.171074e+04</td>\n",
       "      <td>11104.172039</td>\n",
       "      <td>51.990669</td>\n",
       "      <td>0.500003</td>\n",
       "      <td>0.470895</td>\n",
       "      <td>1.147555e+04</td>\n",
       "      <td>390.387994</td>\n",
       "      <td>0.463510</td>\n",
       "      <td>1.225097e+04</td>\n",
       "      <td>1.064035e+04</td>\n",
       "      <td>...</td>\n",
       "      <td>0.007502</td>\n",
       "      <td>0.017987</td>\n",
       "      <td>0.045739</td>\n",
       "      <td>0.384296</td>\n",
       "      <td>0.346623</td>\n",
       "      <td>0.289412</td>\n",
       "      <td>0.199881</td>\n",
       "      <td>0.387782</td>\n",
       "      <td>0.383803</td>\n",
       "      <td>0.386147</td>\n",
       "    </tr>\n",
       "    <tr>\n",
       "      <th>min</th>\n",
       "      <td>2.015102e+07</td>\n",
       "      <td>30.000000</td>\n",
       "      <td>1.000000</td>\n",
       "      <td>0.000000</td>\n",
       "      <td>0.000000</td>\n",
       "      <td>2.015102e+07</td>\n",
       "      <td>0.000000</td>\n",
       "      <td>0.000000</td>\n",
       "      <td>2.015102e+07</td>\n",
       "      <td>2.016012e+07</td>\n",
       "      <td>...</td>\n",
       "      <td>0.000000</td>\n",
       "      <td>0.000000</td>\n",
       "      <td>0.000000</td>\n",
       "      <td>0.000000</td>\n",
       "      <td>0.000000</td>\n",
       "      <td>0.000000</td>\n",
       "      <td>0.000000</td>\n",
       "      <td>0.000000</td>\n",
       "      <td>0.000000</td>\n",
       "      <td>0.000000</td>\n",
       "    </tr>\n",
       "    <tr>\n",
       "      <th>25%</th>\n",
       "      <td>2.019021e+07</td>\n",
       "      <td>12227.000000</td>\n",
       "      <td>1.000000</td>\n",
       "      <td>0.000000</td>\n",
       "      <td>0.000000</td>\n",
       "      <td>2.018031e+07</td>\n",
       "      <td>0.000000</td>\n",
       "      <td>0.000000</td>\n",
       "      <td>2.018081e+07</td>\n",
       "      <td>2.019112e+07</td>\n",
       "      <td>...</td>\n",
       "      <td>0.000000</td>\n",
       "      <td>0.000000</td>\n",
       "      <td>0.000000</td>\n",
       "      <td>0.000000</td>\n",
       "      <td>0.000000</td>\n",
       "      <td>0.000000</td>\n",
       "      <td>0.000000</td>\n",
       "      <td>0.000000</td>\n",
       "      <td>0.000000</td>\n",
       "      <td>0.000000</td>\n",
       "    </tr>\n",
       "    <tr>\n",
       "      <th>50%</th>\n",
       "      <td>2.019121e+07</td>\n",
       "      <td>19708.000000</td>\n",
       "      <td>4.000000</td>\n",
       "      <td>0.000000</td>\n",
       "      <td>0.000000</td>\n",
       "      <td>2.018123e+07</td>\n",
       "      <td>62.000000</td>\n",
       "      <td>0.000000</td>\n",
       "      <td>2.019050e+07</td>\n",
       "      <td>2.020111e+07</td>\n",
       "      <td>...</td>\n",
       "      <td>0.000000</td>\n",
       "      <td>0.000000</td>\n",
       "      <td>0.000000</td>\n",
       "      <td>0.000000</td>\n",
       "      <td>0.000000</td>\n",
       "      <td>0.000000</td>\n",
       "      <td>0.000000</td>\n",
       "      <td>0.000000</td>\n",
       "      <td>0.000000</td>\n",
       "      <td>0.000000</td>\n",
       "    </tr>\n",
       "    <tr>\n",
       "      <th>75%</th>\n",
       "      <td>2.020093e+07</td>\n",
       "      <td>31146.000000</td>\n",
       "      <td>15.000000</td>\n",
       "      <td>1.000000</td>\n",
       "      <td>1.000000</td>\n",
       "      <td>2.019072e+07</td>\n",
       "      <td>497.000000</td>\n",
       "      <td>1.000000</td>\n",
       "      <td>2.020021e+07</td>\n",
       "      <td>2.021022e+07</td>\n",
       "      <td>...</td>\n",
       "      <td>0.000000</td>\n",
       "      <td>0.000000</td>\n",
       "      <td>0.000000</td>\n",
       "      <td>0.000000</td>\n",
       "      <td>0.000000</td>\n",
       "      <td>0.000000</td>\n",
       "      <td>0.000000</td>\n",
       "      <td>0.000000</td>\n",
       "      <td>0.000000</td>\n",
       "      <td>0.000000</td>\n",
       "    </tr>\n",
       "    <tr>\n",
       "      <th>max</th>\n",
       "      <td>2.021022e+07</td>\n",
       "      <td>38125.000000</td>\n",
       "      <td>195.000000</td>\n",
       "      <td>1.000000</td>\n",
       "      <td>1.000000</td>\n",
       "      <td>2.021020e+07</td>\n",
       "      <td>1653.000000</td>\n",
       "      <td>1.000000</td>\n",
       "      <td>2.021022e+07</td>\n",
       "      <td>2.021022e+07</td>\n",
       "      <td>...</td>\n",
       "      <td>1.000000</td>\n",
       "      <td>1.000000</td>\n",
       "      <td>1.000000</td>\n",
       "      <td>1.000000</td>\n",
       "      <td>1.000000</td>\n",
       "      <td>1.000000</td>\n",
       "      <td>1.000000</td>\n",
       "      <td>1.000000</td>\n",
       "      <td>1.000000</td>\n",
       "      <td>1.000000</td>\n",
       "    </tr>\n",
       "  </tbody>\n",
       "</table>\n",
       "<p>8 rows × 43 columns</p>\n",
       "</div>"
      ],
      "text/plain": [
       "                 dt     id_driver    num_trucks  interested_in_drayage  \\\n",
       "count  7.107200e+04  71072.000000  71072.000000           71072.000000   \n",
       "mean   2.019318e+07  20423.051469     24.782559               0.499550   \n",
       "std    1.171074e+04  11104.172039     51.990669               0.500003   \n",
       "min    2.015102e+07     30.000000      1.000000               0.000000   \n",
       "25%    2.019021e+07  12227.000000      1.000000               0.000000   \n",
       "50%    2.019121e+07  19708.000000      4.000000               0.000000   \n",
       "75%    2.020093e+07  31146.000000     15.000000               1.000000   \n",
       "max    2.021022e+07  38125.000000    195.000000               1.000000   \n",
       "\n",
       "       port_qualified     ts_signup  days_signup_to_approval  \\\n",
       "count    71072.000000  7.107200e+04             71072.000000   \n",
       "mean         0.331889  2.018355e+07               298.888930   \n",
       "std          0.470895  1.147555e+04               390.387994   \n",
       "min          0.000000  2.015102e+07                 0.000000   \n",
       "25%          0.000000  2.018031e+07                 0.000000   \n",
       "50%          0.000000  2.018123e+07                62.000000   \n",
       "75%          1.000000  2.019072e+07               497.000000   \n",
       "max          1.000000  2.021020e+07              1653.000000   \n",
       "\n",
       "       driver_with_twic  first_load_date  most_recent_load_date  ...  \\\n",
       "count      71072.000000     7.107200e+04           7.107200e+04  ...   \n",
       "mean           0.312486     2.018705e+07           2.020090e+07  ...   \n",
       "std            0.463510     1.225097e+04           1.064035e+04  ...   \n",
       "min            0.000000     2.015102e+07           2.016012e+07  ...   \n",
       "25%            0.000000     2.018081e+07           2.019112e+07  ...   \n",
       "50%            0.000000     2.019050e+07           2.020111e+07  ...   \n",
       "75%            1.000000     2.020021e+07           2.021022e+07  ...   \n",
       "max            1.000000     2.021022e+07           2.021022e+07  ...   \n",
       "\n",
       "       truck-reefer-dryvan  truck-reefer-poweronly  truck-reefer  \\\n",
       "count         71072.000000            71072.000000  71072.000000   \n",
       "mean              0.000056                0.000324      0.002096   \n",
       "std               0.007502                0.017987      0.045739   \n",
       "min               0.000000                0.000000      0.000000   \n",
       "25%               0.000000                0.000000      0.000000   \n",
       "50%               0.000000                0.000000      0.000000   \n",
       "75%               0.000000                0.000000      0.000000   \n",
       "max               1.000000                1.000000      1.000000   \n",
       "\n",
       "       prefers-friday  prefers-monday  prefers-saturday  prefers-sunday  \\\n",
       "count    71072.000000    71072.000000      71072.000000    71072.000000   \n",
       "mean         0.180127        0.139647          0.092273        0.041690   \n",
       "std          0.384296        0.346623          0.289412        0.199881   \n",
       "min          0.000000        0.000000          0.000000        0.000000   \n",
       "25%          0.000000        0.000000          0.000000        0.000000   \n",
       "50%          0.000000        0.000000          0.000000        0.000000   \n",
       "75%          0.000000        0.000000          0.000000        0.000000   \n",
       "max          1.000000        1.000000          1.000000        1.000000   \n",
       "\n",
       "       prefers-thursday  prefers-tuesday  prefers-wednesday  \n",
       "count      71072.000000     71072.000000       71072.000000  \n",
       "mean           0.184362         0.179536           0.182364  \n",
       "std            0.387782         0.383803           0.386147  \n",
       "min            0.000000         0.000000           0.000000  \n",
       "25%            0.000000         0.000000           0.000000  \n",
       "50%            0.000000         0.000000           0.000000  \n",
       "75%            0.000000         0.000000           0.000000  \n",
       "max            1.000000         1.000000           1.000000  \n",
       "\n",
       "[8 rows x 43 columns]"
      ]
     },
     "execution_count": 27,
     "metadata": {},
     "output_type": "execute_result"
    }
   ],
   "source": [
    "original_df_stats.describe()"
   ]
  },
  {
   "cell_type": "code",
   "execution_count": 28,
   "metadata": {},
   "outputs": [
    {
     "data": {
      "text/html": [
       "<div>\n",
       "<style scoped>\n",
       "    .dataframe tbody tr th:only-of-type {\n",
       "        vertical-align: middle;\n",
       "    }\n",
       "\n",
       "    .dataframe tbody tr th {\n",
       "        vertical-align: top;\n",
       "    }\n",
       "\n",
       "    .dataframe thead th {\n",
       "        text-align: right;\n",
       "    }\n",
       "</style>\n",
       "<table border=\"1\" class=\"dataframe\">\n",
       "  <thead>\n",
       "    <tr style=\"text-align: right;\">\n",
       "      <th></th>\n",
       "      <th>dt</th>\n",
       "      <th>num_trucks</th>\n",
       "      <th>interested_in_drayage</th>\n",
       "      <th>port_qualified</th>\n",
       "      <th>ts_signup</th>\n",
       "      <th>days_signup_to_approval</th>\n",
       "      <th>driver_with_twic</th>\n",
       "      <th>first_load_date</th>\n",
       "      <th>most_recent_load_date</th>\n",
       "      <th>loads</th>\n",
       "      <th>...</th>\n",
       "      <th>truck-reefer-dryvan</th>\n",
       "      <th>truck-reefer-poweronly</th>\n",
       "      <th>truck-reefer</th>\n",
       "      <th>prefers-friday</th>\n",
       "      <th>prefers-monday</th>\n",
       "      <th>prefers-saturday</th>\n",
       "      <th>prefers-sunday</th>\n",
       "      <th>prefers-thursday</th>\n",
       "      <th>prefers-tuesday</th>\n",
       "      <th>prefers-wednesday</th>\n",
       "    </tr>\n",
       "  </thead>\n",
       "  <tbody>\n",
       "    <tr>\n",
       "      <th>count</th>\n",
       "      <td>3.936000e+03</td>\n",
       "      <td>3936.000000</td>\n",
       "      <td>3936.000000</td>\n",
       "      <td>3936.000000</td>\n",
       "      <td>3.936000e+03</td>\n",
       "      <td>3936.000000</td>\n",
       "      <td>3936.000000</td>\n",
       "      <td>3.936000e+03</td>\n",
       "      <td>3.936000e+03</td>\n",
       "      <td>3936.000000</td>\n",
       "      <td>...</td>\n",
       "      <td>3936.000000</td>\n",
       "      <td>3936.000000</td>\n",
       "      <td>3936.000000</td>\n",
       "      <td>3936.000000</td>\n",
       "      <td>3936.000000</td>\n",
       "      <td>3936.000000</td>\n",
       "      <td>3936.000000</td>\n",
       "      <td>3936.000000</td>\n",
       "      <td>3936.000000</td>\n",
       "      <td>3936.000000</td>\n",
       "    </tr>\n",
       "    <tr>\n",
       "      <th>mean</th>\n",
       "      <td>2.019268e+07</td>\n",
       "      <td>18.854675</td>\n",
       "      <td>0.471545</td>\n",
       "      <td>0.179116</td>\n",
       "      <td>2.018366e+07</td>\n",
       "      <td>291.028201</td>\n",
       "      <td>0.154217</td>\n",
       "      <td>2.018796e+07</td>\n",
       "      <td>2.019269e+07</td>\n",
       "      <td>1.181911</td>\n",
       "      <td>...</td>\n",
       "      <td>0.000508</td>\n",
       "      <td>0.003811</td>\n",
       "      <td>0.009146</td>\n",
       "      <td>0.210366</td>\n",
       "      <td>0.139482</td>\n",
       "      <td>0.052591</td>\n",
       "      <td>0.020833</td>\n",
       "      <td>0.202998</td>\n",
       "      <td>0.186738</td>\n",
       "      <td>0.186992</td>\n",
       "    </tr>\n",
       "    <tr>\n",
       "      <th>std</th>\n",
       "      <td>1.217907e+04</td>\n",
       "      <td>45.495848</td>\n",
       "      <td>0.499253</td>\n",
       "      <td>0.383498</td>\n",
       "      <td>1.095845e+04</td>\n",
       "      <td>368.231174</td>\n",
       "      <td>0.361203</td>\n",
       "      <td>1.156360e+04</td>\n",
       "      <td>1.217854e+04</td>\n",
       "      <td>0.684880</td>\n",
       "      <td>...</td>\n",
       "      <td>0.022539</td>\n",
       "      <td>0.061623</td>\n",
       "      <td>0.095210</td>\n",
       "      <td>0.407620</td>\n",
       "      <td>0.346493</td>\n",
       "      <td>0.223245</td>\n",
       "      <td>0.142844</td>\n",
       "      <td>0.402282</td>\n",
       "      <td>0.389750</td>\n",
       "      <td>0.389955</td>\n",
       "    </tr>\n",
       "    <tr>\n",
       "      <th>min</th>\n",
       "      <td>2.016012e+07</td>\n",
       "      <td>1.000000</td>\n",
       "      <td>0.000000</td>\n",
       "      <td>0.000000</td>\n",
       "      <td>2.015102e+07</td>\n",
       "      <td>0.000000</td>\n",
       "      <td>0.000000</td>\n",
       "      <td>2.015102e+07</td>\n",
       "      <td>2.016012e+07</td>\n",
       "      <td>1.000000</td>\n",
       "      <td>...</td>\n",
       "      <td>0.000000</td>\n",
       "      <td>0.000000</td>\n",
       "      <td>0.000000</td>\n",
       "      <td>0.000000</td>\n",
       "      <td>0.000000</td>\n",
       "      <td>0.000000</td>\n",
       "      <td>0.000000</td>\n",
       "      <td>0.000000</td>\n",
       "      <td>0.000000</td>\n",
       "      <td>0.000000</td>\n",
       "    </tr>\n",
       "    <tr>\n",
       "      <th>25%</th>\n",
       "      <td>2.018122e+07</td>\n",
       "      <td>1.000000</td>\n",
       "      <td>0.000000</td>\n",
       "      <td>0.000000</td>\n",
       "      <td>2.018032e+07</td>\n",
       "      <td>0.000000</td>\n",
       "      <td>0.000000</td>\n",
       "      <td>2.018081e+07</td>\n",
       "      <td>2.018122e+07</td>\n",
       "      <td>1.000000</td>\n",
       "      <td>...</td>\n",
       "      <td>0.000000</td>\n",
       "      <td>0.000000</td>\n",
       "      <td>0.000000</td>\n",
       "      <td>0.000000</td>\n",
       "      <td>0.000000</td>\n",
       "      <td>0.000000</td>\n",
       "      <td>0.000000</td>\n",
       "      <td>0.000000</td>\n",
       "      <td>0.000000</td>\n",
       "      <td>0.000000</td>\n",
       "    </tr>\n",
       "    <tr>\n",
       "      <th>50%</th>\n",
       "      <td>2.019111e+07</td>\n",
       "      <td>4.000000</td>\n",
       "      <td>0.000000</td>\n",
       "      <td>0.000000</td>\n",
       "      <td>2.018113e+07</td>\n",
       "      <td>108.000000</td>\n",
       "      <td>0.000000</td>\n",
       "      <td>2.019061e+07</td>\n",
       "      <td>2.019111e+07</td>\n",
       "      <td>1.000000</td>\n",
       "      <td>...</td>\n",
       "      <td>0.000000</td>\n",
       "      <td>0.000000</td>\n",
       "      <td>0.000000</td>\n",
       "      <td>0.000000</td>\n",
       "      <td>0.000000</td>\n",
       "      <td>0.000000</td>\n",
       "      <td>0.000000</td>\n",
       "      <td>0.000000</td>\n",
       "      <td>0.000000</td>\n",
       "      <td>0.000000</td>\n",
       "    </tr>\n",
       "    <tr>\n",
       "      <th>75%</th>\n",
       "      <td>2.020082e+07</td>\n",
       "      <td>12.000000</td>\n",
       "      <td>1.000000</td>\n",
       "      <td>0.000000</td>\n",
       "      <td>2.019080e+07</td>\n",
       "      <td>488.000000</td>\n",
       "      <td>0.000000</td>\n",
       "      <td>2.020020e+07</td>\n",
       "      <td>2.020082e+07</td>\n",
       "      <td>1.000000</td>\n",
       "      <td>...</td>\n",
       "      <td>0.000000</td>\n",
       "      <td>0.000000</td>\n",
       "      <td>0.000000</td>\n",
       "      <td>0.000000</td>\n",
       "      <td>0.000000</td>\n",
       "      <td>0.000000</td>\n",
       "      <td>0.000000</td>\n",
       "      <td>0.000000</td>\n",
       "      <td>0.000000</td>\n",
       "      <td>0.000000</td>\n",
       "    </tr>\n",
       "    <tr>\n",
       "      <th>max</th>\n",
       "      <td>2.021022e+07</td>\n",
       "      <td>195.000000</td>\n",
       "      <td>1.000000</td>\n",
       "      <td>1.000000</td>\n",
       "      <td>2.021020e+07</td>\n",
       "      <td>1653.000000</td>\n",
       "      <td>1.000000</td>\n",
       "      <td>2.021022e+07</td>\n",
       "      <td>2.021022e+07</td>\n",
       "      <td>15.000000</td>\n",
       "      <td>...</td>\n",
       "      <td>1.000000</td>\n",
       "      <td>1.000000</td>\n",
       "      <td>1.000000</td>\n",
       "      <td>1.000000</td>\n",
       "      <td>1.000000</td>\n",
       "      <td>1.000000</td>\n",
       "      <td>1.000000</td>\n",
       "      <td>1.000000</td>\n",
       "      <td>1.000000</td>\n",
       "      <td>1.000000</td>\n",
       "    </tr>\n",
       "  </tbody>\n",
       "</table>\n",
       "<p>8 rows × 41 columns</p>\n",
       "</div>"
      ],
      "text/plain": [
       "                 dt   num_trucks  interested_in_drayage  port_qualified  \\\n",
       "count  3.936000e+03  3936.000000            3936.000000     3936.000000   \n",
       "mean   2.019268e+07    18.854675               0.471545        0.179116   \n",
       "std    1.217907e+04    45.495848               0.499253        0.383498   \n",
       "min    2.016012e+07     1.000000               0.000000        0.000000   \n",
       "25%    2.018122e+07     1.000000               0.000000        0.000000   \n",
       "50%    2.019111e+07     4.000000               0.000000        0.000000   \n",
       "75%    2.020082e+07    12.000000               1.000000        0.000000   \n",
       "max    2.021022e+07   195.000000               1.000000        1.000000   \n",
       "\n",
       "          ts_signup  days_signup_to_approval  driver_with_twic  \\\n",
       "count  3.936000e+03              3936.000000       3936.000000   \n",
       "mean   2.018366e+07               291.028201          0.154217   \n",
       "std    1.095845e+04               368.231174          0.361203   \n",
       "min    2.015102e+07                 0.000000          0.000000   \n",
       "25%    2.018032e+07                 0.000000          0.000000   \n",
       "50%    2.018113e+07               108.000000          0.000000   \n",
       "75%    2.019080e+07               488.000000          0.000000   \n",
       "max    2.021020e+07              1653.000000          1.000000   \n",
       "\n",
       "       first_load_date  most_recent_load_date        loads  ...  \\\n",
       "count     3.936000e+03           3.936000e+03  3936.000000  ...   \n",
       "mean      2.018796e+07           2.019269e+07     1.181911  ...   \n",
       "std       1.156360e+04           1.217854e+04     0.684880  ...   \n",
       "min       2.015102e+07           2.016012e+07     1.000000  ...   \n",
       "25%       2.018081e+07           2.018122e+07     1.000000  ...   \n",
       "50%       2.019061e+07           2.019111e+07     1.000000  ...   \n",
       "75%       2.020020e+07           2.020082e+07     1.000000  ...   \n",
       "max       2.021022e+07           2.021022e+07    15.000000  ...   \n",
       "\n",
       "       truck-reefer-dryvan  truck-reefer-poweronly  truck-reefer  \\\n",
       "count          3936.000000             3936.000000   3936.000000   \n",
       "mean              0.000508                0.003811      0.009146   \n",
       "std               0.022539                0.061623      0.095210   \n",
       "min               0.000000                0.000000      0.000000   \n",
       "25%               0.000000                0.000000      0.000000   \n",
       "50%               0.000000                0.000000      0.000000   \n",
       "75%               0.000000                0.000000      0.000000   \n",
       "max               1.000000                1.000000      1.000000   \n",
       "\n",
       "       prefers-friday  prefers-monday  prefers-saturday  prefers-sunday  \\\n",
       "count     3936.000000     3936.000000       3936.000000     3936.000000   \n",
       "mean         0.210366        0.139482          0.052591        0.020833   \n",
       "std          0.407620        0.346493          0.223245        0.142844   \n",
       "min          0.000000        0.000000          0.000000        0.000000   \n",
       "25%          0.000000        0.000000          0.000000        0.000000   \n",
       "50%          0.000000        0.000000          0.000000        0.000000   \n",
       "75%          0.000000        0.000000          0.000000        0.000000   \n",
       "max          1.000000        1.000000          1.000000        1.000000   \n",
       "\n",
       "       prefers-thursday  prefers-tuesday  prefers-wednesday  \n",
       "count       3936.000000      3936.000000        3936.000000  \n",
       "mean           0.202998         0.186738           0.186992  \n",
       "std            0.402282         0.389750           0.389955  \n",
       "min            0.000000         0.000000           0.000000  \n",
       "25%            0.000000         0.000000           0.000000  \n",
       "50%            0.000000         0.000000           0.000000  \n",
       "75%            0.000000         0.000000           0.000000  \n",
       "max            1.000000         1.000000           1.000000  \n",
       "\n",
       "[8 rows x 41 columns]"
      ]
     },
     "execution_count": 28,
     "metadata": {},
     "output_type": "execute_result"
    }
   ],
   "source": [
    "driver_id_stats.describe()"
   ]
  },
  {
   "cell_type": "code",
   "execution_count": 29,
   "metadata": {
    "scrolled": true
   },
   "outputs": [],
   "source": [
    "# plt.figure(figsize=(30,25))\n",
    "# sn.heatmap(original_df_stats.corr(), annot=True, fmt=\".2f\")\n",
    "# plt.show()"
   ]
  },
  {
   "cell_type": "code",
   "execution_count": 30,
   "metadata": {},
   "outputs": [],
   "source": [
    "# plt.figure(figsize=(30,25))\n",
    "# sn.heatmap(driver_id_stats.corr(), annot=True, fmt=\".2f\")\n",
    "# plt.show()"
   ]
  },
  {
   "cell_type": "code",
   "execution_count": 31,
   "metadata": {},
   "outputs": [],
   "source": [
    "driver_id_df.drop(columns=['most_recent_load_date'], inplace=True)"
   ]
  },
  {
   "cell_type": "code",
   "execution_count": 32,
   "metadata": {},
   "outputs": [],
   "source": [
    "X_train_og, X_test_og, y_train_og, y_test_og = train_test_split(original_df, original_labels, test_size=0.20, random_state=42)\n",
    "X_train_driver, X_test_driver, y_train_driver, y_test_driver = train_test_split(driver_id_df, driver_id_labels, test_size=0.20, random_state=42)"
   ]
  },
  {
   "cell_type": "markdown",
   "metadata": {},
   "source": [
    "# 5 - Logistic Regression"
   ]
  },
  {
   "cell_type": "markdown",
   "metadata": {},
   "source": [
    "## Perform a logistic regression on all the variables"
   ]
  },
  {
   "cell_type": "code",
   "execution_count": 33,
   "metadata": {},
   "outputs": [
    {
     "name": "stdout",
     "output_type": "stream",
     "text": [
      "MSE of test data = 0.13978\n",
      "MSE of train data = 0.13768\n",
      "R^2 of Test = 0.86022\n",
      "R^2 of Train = 0.86232\n"
     ]
    },
    {
     "data": {
      "text/plain": [
       "<matplotlib.legend.Legend at 0x18c5fef2fd0>"
      ]
     },
     "execution_count": 33,
     "metadata": {},
     "output_type": "execute_result"
    },
    {
     "data": {
      "image/png": "[encoded data removed]",
      "text/plain": [
       "<Figure size 720x432 with 1 Axes>"
      ]
     },
     "metadata": {
      "needs_background": "light"
     },
     "output_type": "display_data"
    }
   ],
   "source": [
    "# train linear model\n",
    "clf = LogisticRegression(max_iter=200)\n",
    "clf.fit(X_train_og, y_train_og)\n",
    "pred = clf.predict(X_test_og)\n",
    "\n",
    "# report scores \n",
    "r2_test = clf.score(X_test_og, y_test_og)\n",
    "r2_train = clf.score(X_train_og, y_train_og)\n",
    "mse_test = mean_squared_error(pred, y_test_og)\n",
    "mse_train = mean_squared_error(y_train_og, clf.predict(X_train_og))\n",
    "\n",
    "print(f'MSE of test data = {mse_test:.5}')\n",
    "print(f'MSE of train data = {mse_train:.5}')\n",
    "print(f'R^2 of Test = {r2_test:.5}')\n",
    "print(f'R^2 of Train = {r2_train:.5}')\n",
    "\n",
    "# plotting the y versus the predicted y\n",
    "fig, ax = plt.subplots(1,1, figsize=(10,6))\n",
    "ax.plot(X_test_og.num_trucks, y_test_og, 'o', label=\"Real\", alpha=0.5)\n",
    "ax.plot(X_test_og.num_trucks, pred, 'o', label=\"Predictions\", alpha=0.01)\n",
    "ax.set_xlabel(\"Original Number of Trucks\")\n",
    "ax.set_ylabel(\"1 = High Performing Driver\")\n",
    "ax.set_title(\"Predicted vs Real Label\")\n",
    "ax.legend()"
   ]
  },
  {
   "cell_type": "code",
   "execution_count": 34,
   "metadata": {},
   "outputs": [
    {
     "name": "stdout",
     "output_type": "stream",
     "text": [
      "MSE of test data = 0.034264\n",
      "MSE of train data = 0.040661\n",
      "R^2 of Test = 0.96574\n",
      "R^2 of Train = 0.95934\n"
     ]
    },
    {
     "data": {
      "text/plain": [
       "<matplotlib.legend.Legend at 0x18c5d934bb0>"
      ]
     },
     "execution_count": 34,
     "metadata": {},
     "output_type": "execute_result"
    },
    {
     "data": {
      "image/png": "[encoded data removed]",
      "text/plain": [
       "<Figure size 720x432 with 1 Axes>"
      ]
     },
     "metadata": {
      "needs_background": "light"
     },
     "output_type": "display_data"
    }
   ],
   "source": [
    "clf = LogisticRegression(max_iter=200)\n",
    "clf.fit(X_train_driver, y_train_driver)\n",
    "pred = clf.predict(X_test_driver)\n",
    "\n",
    "# report scores \n",
    "r2_test = clf.score(X_test_driver, y_test_driver)\n",
    "r2_train = clf.score(X_train_driver, y_train_driver)\n",
    "mse_test = mean_squared_error(pred, y_test_driver)\n",
    "mse_train = mean_squared_error(y_train_driver, clf.predict(X_train_driver))\n",
    "\n",
    "print(f'MSE of test data = {mse_test:.5}')\n",
    "print(f'MSE of train data = {mse_train:.5}')\n",
    "print(f'R^2 of Test = {r2_test:.5}')\n",
    "print(f'R^2 of Train = {r2_train:.5}')\n",
    "\n",
    "# plotting the y versus the predicted y\n",
    "fig, ax = plt.subplots(1,1, figsize=(10,6))\n",
    "ax.plot(X_test_driver.num_trucks, y_test_driver, 'o', label=\"Real\", alpha=0.5)\n",
    "ax.plot(X_test_driver.num_trucks, pred, 'o', label=\"Predictions\", alpha=0.05)\n",
    "ax.set_xlabel(\"Pipelined Number of trucks\")\n",
    "ax.set_ylabel(\"1 = High Performing Driver\")\n",
    "ax.set_title(\"Predicted vs Real Labels\")\n",
    "ax.legend()"
   ]
  },
  {
   "cell_type": "markdown",
   "metadata": {},
   "source": [
    "## Perform a bootstrap with 150 samples to get a distribution of predictor coefficients"
   ]
  },
  {
   "cell_type": "code",
   "execution_count": 35,
   "metadata": {},
   "outputs": [
    {
     "data": {
      "text/plain": [
       "BaggingRegressor(base_estimator=LogisticRegression(max_iter=200),\n",
       "                 max_samples=3148, n_estimators=150)"
      ]
     },
     "execution_count": 35,
     "metadata": {},
     "output_type": "execute_result"
    }
   ],
   "source": [
    "n_estimators = 150\n",
    "sample_size = 3148\n",
    "model = BaggingRegressor(linear_model.LogisticRegression(max_iter=200), \n",
    "                         n_estimators=n_estimators,\n",
    "                         bootstrap=True, max_samples=sample_size)\n",
    "\n",
    "model.fit(X_train_driver, y_train_driver)"
   ]
  },
  {
   "cell_type": "code",
   "execution_count": 36,
   "metadata": {},
   "outputs": [
    {
     "name": "stdout",
     "output_type": "stream",
     "text": [
      "Intercept mean: -8.99                    std: 0.25\n",
      "Predictor 0 mean: 5.03                     std: 0.18\n",
      "Predictor 1 mean: 0.47                     std: 0.16\n",
      "Predictor 2 mean: 0.23                     std: 0.19\n",
      "Predictor 3 mean: 0.00                     std: 0.19\n",
      "Predictor 4 mean: 0.37                     std: 0.27\n",
      "Predictor 5 mean: 0.28                     std: 0.36\n",
      "Predictor 6 mean: 0.05                     std: 0.14\n",
      "Predictor 7 mean: -0.11                    std: 0.24\n",
      "Predictor 8 mean: 0.03                     std: 0.08\n",
      "Predictor 9 mean: 0.01                     std: 0.09\n",
      "Predictor 10 mean: 0.11                     std: 0.05\n",
      "Predictor 11 mean: 0.10                     std: 0.04\n",
      "Predictor 12 mean: 0.14                     std: 0.10\n",
      "Predictor 13 mean: 0.08                     std: 0.06\n",
      "Predictor 14 mean: 0.15                     std: 0.09\n",
      "Predictor 15 mean: 0.23                     std: 0.13\n",
      "Predictor 16 mean: 0.01                     std: 0.10\n",
      "Predictor 17 mean: 0.02                     std: 0.25\n",
      "Predictor 18 mean: -0.28                    std: 0.51\n",
      "Predictor 19 mean: -0.00                    std: 0.00\n",
      "Predictor 20 mean: 0.14                     std: 0.14\n",
      "Predictor 21 mean: -0.00                    std: 0.00\n",
      "Predictor 22 mean: -0.35                    std: 0.19\n",
      "Predictor 23 mean: -0.05                    std: 0.02\n",
      "Predictor 24 mean: 0.11                     std: 0.14\n",
      "Predictor 25 mean: -0.03                    std: 0.03\n",
      "Predictor 26 mean: 0.05                     std: 0.07\n",
      "Predictor 27 mean: 0.21                     std: 0.16\n",
      "Predictor 28 mean: 0.11                     std: 0.12\n",
      "Predictor 29 mean: 0.00                     std: 0.00\n",
      "Predictor 30 mean: -0.06                    std: 0.02\n",
      "Predictor 31 mean: -0.17                    std: 0.08\n",
      "Predictor 32 mean: -0.10                    std: 0.09\n",
      "Predictor 33 mean: -0.21                    std: 0.14\n",
      "Predictor 34 mean: -0.03                    std: 0.11\n",
      "Predictor 35 mean: 0.05                     std: 0.19\n",
      "Predictor 36 mean: -0.03                    std: 0.10\n",
      "Predictor 37 mean: 0.15                     std: 0.11\n",
      "Predictor 38 mean: 0.17                     std: 0.07\n"
     ]
    }
   ],
   "source": [
    "tot_columns = len(driver_id_df.columns)\n",
    "intercept=[]\n",
    "beta=[ [] for _ in range(tot_columns)]\n",
    "\n",
    "for m in model.estimators_:\n",
    "    intercept.append(m.intercept_)\n",
    "    for i in range(tot_columns):\n",
    "        beta[i].append(m.coef_[0][i])\n",
    "\n",
    "coef_mean = []\n",
    "coef_std = []\n",
    "\n",
    "print(f'Intercept mean: {np.mean(intercept):<25.2f}std: {np.std(intercept):.2f}')\n",
    "for i, b in enumerate(beta):\n",
    "    print(f'Predictor {i} mean: {np.mean(beta[i]):<25.2f}std: {np.std(beta[i]):.2f}')\n",
    "    coef_mean.append(np.mean(beta[i]))\n",
    "    coef_std.append(np.std(beta[i]))"
   ]
  },
  {
   "cell_type": "markdown",
   "metadata": {},
   "source": [
    "## Perform a t-test on all the predictors"
   ]
  },
  {
   "cell_type": "code",
   "execution_count": 37,
   "metadata": {},
   "outputs": [
    {
     "data": {
      "text/plain": [
       "{3: 0.40474053685754696,\n",
       " 9: 0.16779454465576688,\n",
       " 16: 0.0695250560211435,\n",
       " 17: 0.17512546090977416}"
      ]
     },
     "execution_count": 37,
     "metadata": {},
     "output_type": "execute_result"
    }
   ],
   "source": [
    "t_statistic = []\n",
    "p_val = []\n",
    "for i in range(tot_columns):\n",
    "    stats = st.ttest_1samp(beta[i], 0)\n",
    "    t_statistic.append(stats.statistic)\n",
    "    p_val.append(stats.pvalue/2)\n",
    "\n",
    "discard = {}\n",
    "for i,p in enumerate(p_val):\n",
    "    if p > 0.05:\n",
    "        discard[i] = p\n",
    "discard"
   ]
  },
  {
   "cell_type": "markdown",
   "metadata": {},
   "source": [
    "## Use p-values to determine which predictors are most significant and perform a VIF test on to see which predictors are highly correlated"
   ]
  },
  {
   "cell_type": "code",
   "execution_count": 38,
   "metadata": {},
   "outputs": [
    {
     "name": "stderr",
     "output_type": "stream",
     "text": [
      "C:\\Users\\myLaptop\\anaconda3\\lib\\site-packages\\statsmodels\\stats\\outliers_influence.py:193: RuntimeWarning: divide by zero encountered in double_scalars\n",
      "  vif = 1. / (1. - r_squared_i)\n"
     ]
    },
    {
     "name": "stdout",
     "output_type": "stream",
     "text": [
      "\n",
      "                             feature        VIF\n",
      "0                                dt   3.779559\n",
      "1                        num_trucks   3.136782\n",
      "2             interested_in_drayage   1.429549\n",
      "3                         ts_signup   6.932259\n",
      "4           days_signup_to_approval   4.740083\n",
      "5                  driver_with_twic   1.888207\n",
      "6                   first_load_date   5.566128\n",
      "7                             loads   1.319656\n",
      "8           marketplace_loads_atlas  11.653968\n",
      "9                 marketplace_loads  11.595876\n",
      "10              brokerage_loads_otr        inf\n",
      "11            brokerage_loads_atlas        inf\n",
      "12                  brokerage_loads        inf\n",
      "13                       self_owned   1.414474\n",
      "14                   truck-boxtruck        inf\n",
      "15  truck-dryvan-boxtruck-poweronly        inf\n",
      "16            truck-dryvan-boxtruck        inf\n",
      "17   truck-dryvan-flatbed-poweronly        inf\n",
      "18           truck-dryvan-poweronly        inf\n",
      "19              truck-dryvan-reefer        inf\n",
      "20                     truck-dryvan        inf\n",
      "21                    truck-flatbed        inf\n",
      "22         truck-poweronly-boxtruck        inf\n",
      "23           truck-poweronly-dryvan        inf\n",
      "24                  truck-poweronly        inf\n",
      "25              truck-reefer-dryvan        inf\n",
      "26           truck-reefer-poweronly        inf\n",
      "27                     truck-reefer        inf\n",
      "28                   prefers-friday        inf\n",
      "29                   prefers-monday        inf\n",
      "30                 prefers-saturday        inf\n",
      "31                   prefers-sunday        inf\n",
      "32                 prefers-thursday        inf\n",
      "33                  prefers-tuesday        inf\n",
      "34                prefers-wednesday        inf \n",
      "\n",
      "<class 'pandas.core.frame.DataFrame'>\n",
      "RangeIndex: 3936 entries, 0 to 3935\n",
      "Data columns (total 11 columns):\n",
      " #   Column                   Non-Null Count  Dtype  \n",
      "---  ------                   --------------  -----  \n",
      " 0   dt                       3936 non-null   float64\n",
      " 1   num_trucks               3936 non-null   float64\n",
      " 2   interested_in_drayage    3936 non-null   float64\n",
      " 3   ts_signup                3936 non-null   float64\n",
      " 4   days_signup_to_approval  3936 non-null   float64\n",
      " 5   driver_with_twic         3936 non-null   float64\n",
      " 6   first_load_date          3936 non-null   float64\n",
      " 7   loads                    3936 non-null   float64\n",
      " 8   marketplace_loads_atlas  3936 non-null   float64\n",
      " 9   marketplace_loads        3936 non-null   float64\n",
      " 10  self_owned               3936 non-null   float64\n",
      "dtypes: float64(11)\n",
      "memory usage: 338.4 KB\n"
     ]
    }
   ],
   "source": [
    "driver_id_sig_pred_df = driver_id_df.copy()\n",
    "driver_id_sig_pred_df.drop(driver_id_sig_pred_df.columns[list(discard.keys())],axis=1, inplace=True)\n",
    "  \n",
    "# VIF dataframe \n",
    "vif_data = pd.DataFrame() \n",
    "vif_data[\"feature\"] = driver_id_sig_pred_df.columns \n",
    "vif_data[\"VIF\"] = [variance_inflation_factor(driver_id_sig_pred_df.values, i) for i in range(len(driver_id_sig_pred_df.columns))]  \n",
    "print('\\n', vif_data, '\\n')\n",
    "\n",
    "vif_data.replace(np.inf, np.nan, inplace=True) \n",
    "vif_data.dropna(inplace=True) \n",
    "vif_data\n",
    "\n",
    "keep_columns = list(vif_data.feature)\n",
    "driver_id_sig_pred_df = driver_id_sig_pred_df[keep_columns]\n",
    "driver_id_sig_pred_df.info()"
   ]
  },
  {
   "cell_type": "markdown",
   "metadata": {},
   "source": [
    "## Select significant predictors based on results and build another linear regression model"
   ]
  },
  {
   "cell_type": "code",
   "execution_count": 39,
   "metadata": {},
   "outputs": [],
   "source": [
    "X_train_sig, X_test_sig, y_train_sig, y_test_sig = train_test_split(driver_id_sig_pred_df, driver_id_labels, test_size=0.20, random_state=42)"
   ]
  },
  {
   "cell_type": "code",
   "execution_count": 40,
   "metadata": {},
   "outputs": [
    {
     "name": "stdout",
     "output_type": "stream",
     "text": [
      "MSE of test data = 0.032995\n",
      "MSE of train data = 0.042567\n",
      "R^2 of Test = 0.96701\n",
      "R^2 of Train = 0.95743\n",
      "\n",
      "                    Feature  Coefficient\n",
      "0                 Intercept    -8.564507\n",
      "1                        dt     5.137250\n",
      "2                num_trucks     0.545036\n",
      "3     interested_in_drayage     0.279414\n",
      "4                 ts_signup     0.350084\n",
      "5   days_signup_to_approval     0.223653\n",
      "6          driver_with_twic     0.045459\n",
      "7           first_load_date    -0.249897\n",
      "8                     loads     0.102369\n",
      "9   marketplace_loads_atlas     0.074223\n",
      "10        marketplace_loads     0.123922\n",
      "11               self_owned     0.202252\n"
     ]
    },
    {
     "data": {
      "text/plain": [
       "<matplotlib.legend.Legend at 0x18c5d57fca0>"
      ]
     },
     "execution_count": 40,
     "metadata": {},
     "output_type": "execute_result"
    },
    {
     "data": {
      "image/png": "[encoded data removed]",
      "text/plain": [
       "<Figure size 720x432 with 1 Axes>"
      ]
     },
     "metadata": {
      "needs_background": "light"
     },
     "output_type": "display_data"
    }
   ],
   "source": [
    "# train logistic model\n",
    "clf = LogisticRegression(max_iter=200)\n",
    "clf.fit(X_train_sig, y_train_sig)\n",
    "pred = clf.predict(X_test_sig)\n",
    "\n",
    "# report scores \n",
    "r2_test = clf.score(X_test_sig, y_test_sig)\n",
    "r2_train = clf.score(X_train_sig, y_train_sig)\n",
    "mse_test = mean_squared_error(pred, y_test_sig)\n",
    "mse_train = mean_squared_error(y_train_sig, clf.predict(X_train_sig))\n",
    "\n",
    "print(f'MSE of test data = {mse_test:.5}')\n",
    "print(f'MSE of train data = {mse_train:.5}')\n",
    "print(f'R^2 of Test = {r2_test:.5}')\n",
    "print(f'R^2 of Train = {r2_train:.5}\\n')\n",
    "\n",
    "# coeffcients\n",
    "new_row = pd.DataFrame({'Feature':'Intercept', 'Coefficient': clf.intercept_}, index=[0]) \n",
    "predictors = pd.DataFrame() \n",
    "predictors[\"Feature\"] = driver_id_sig_pred_df.columns\n",
    "predictors[\"Coefficient\"] = clf.coef_[0]\n",
    "predictors = pd.concat([new_row, predictors]).reset_index(drop = True)\n",
    "print(predictors)\n",
    "\n",
    "# plotting the y versus the predicted y\n",
    "fig, ax = plt.subplots(1,1, figsize=(10,6))\n",
    "ax.plot(X_test_sig.num_trucks, y_test_sig, 'o', label=\"Real\", alpha=0.5)\n",
    "ax.plot(X_test_sig.num_trucks, pred, 'o', label=\"Predictions\", alpha=0.05)\n",
    "ax.set_xlabel(\"Significant Predictors Number of trucks\")\n",
    "ax.set_ylabel(\"1 = High Performing Driver\")\n",
    "ax.set_title(\"Predicted vs Real Labels\")\n",
    "ax.legend()"
   ]
  },
  {
   "cell_type": "markdown",
   "metadata": {},
   "source": [
    "# 6 - PCA"
   ]
  },
  {
   "cell_type": "code",
   "execution_count": null,
   "metadata": {},
   "outputs": [],
   "source": []
  },
  {
   "cell_type": "markdown",
   "metadata": {},
   "source": [
    "# 7 - Ensemble Method"
   ]
  },
  {
   "cell_type": "code",
   "execution_count": null,
   "metadata": {},
   "outputs": [],
   "source": []
  },
  {
   "cell_type": "markdown",
   "metadata": {},
   "source": [
    "# 8 - Neural Network"
   ]
  },
  {
   "cell_type": "code",
   "execution_count": null,
   "metadata": {},
   "outputs": [],
   "source": []
  },
  {
   "cell_type": "markdown",
   "metadata": {},
   "source": [
    "# 9 - Cross Validation"
   ]
  },
  {
   "cell_type": "code",
   "execution_count": null,
   "metadata": {},
   "outputs": [],
   "source": []
  },
  {
   "cell_type": "markdown",
   "metadata": {},
   "source": [
    "# 10 - Custom Model"
   ]
  },
  {
   "cell_type": "code",
   "execution_count": 41,
   "metadata": {},
   "outputs": [
    {
     "name": "stdout",
     "output_type": "stream",
     "text": [
      "0.9562434048540275\n"
     ]
    }
   ],
   "source": [
    "clf = SVC()\n",
    "clf.fit(X_train_og, y_train_og)\n",
    "pred = clf.predict(X_test_og)\n",
    "score = clf.score(X_test_og, y_test_og)\n",
    "print(score)"
   ]
  },
  {
   "cell_type": "code",
   "execution_count": 42,
   "metadata": {},
   "outputs": [
    {
     "name": "stdout",
     "output_type": "stream",
     "text": [
      "0.9670050761421319\n"
     ]
    }
   ],
   "source": [
    "clf = SVC()\n",
    "clf.fit(X_train_driver, y_train_driver)\n",
    "pred = clf.predict(X_test_driver)\n",
    "score = clf.score(X_test_driver, y_test_driver)\n",
    "print(score)"
   ]
  },
  {
   "cell_type": "code",
   "execution_count": null,
   "metadata": {},
   "outputs": [],
   "source": []
  }
 ],
 "metadata": {
  "kernelspec": {
   "display_name": "Python 3",
   "language": "python",
   "name": "python3"
  },
  "language_info": {
   "codemirror_mode": {
    "name": "ipython",
    "version": 3
   },
   "file_extension": ".py",
   "mimetype": "text/x-python",
   "name": "python",
   "nbconvert_exporter": "python",
   "pygments_lexer": "ipython3",
   "version": "3.8.3"
  }
 },
 "nbformat": 4,
 "nbformat_minor": 5
}
