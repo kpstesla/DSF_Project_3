{
 "cells": [
  {
   "cell_type": "code",
   "execution_count": 1,
   "metadata": {},
   "outputs": [],
   "source": [
    "import numpy as np\n",
    "import pandas as pd\n",
    "import matplotlib\n",
    "import matplotlib.pyplot as plt\n",
    "import sklearn\n",
    "import seaborn as sn\n",
    "import datetime\n",
    "import random\n",
    "from datetime import date\n",
    "from pprint import pprint\n",
    "from sklearn.preprocessing import LabelEncoder, OneHotEncoder, OrdinalEncoder, StandardScaler\n",
    "from sklearn.impute import SimpleImputer\n",
    "import statistics \n",
    "from statistics import mode\n",
    "from sklearn.model_selection import train_test_split\n",
    "from sklearn.svm import SVC\n",
    "from sklearn.linear_model import LinearRegression, Ridge, Lasso, RidgeClassifier, LogisticRegression\n",
    "from sklearn.metrics import r2_score, mean_squared_error\n",
    "from sklearn.ensemble import RandomForestClassifier, AdaBoostClassifier, BaggingRegressor\n",
    "from sklearn.naive_bayes import GaussianNB\n",
    "from sklearn.neural_network import MLPClassifier\n",
    "from sklearn.tree import DecisionTreeClassifier\n",
    "from scipy import stats as st\n",
    "from statsmodels.stats.outliers_influence import variance_inflation_factor"
   ]
  },
  {
   "cell_type": "code",
   "execution_count": 2,
   "metadata": {},
   "outputs": [],
   "source": [
    "def convert_strings_to_dates(dataframe, testset=False):\n",
    "    frame = dataframe.copy()\n",
    "    if testset:\n",
    "        frame.dt = [date.fromisoformat(d) for d in frame.dt]\n",
    "        frame.first_load_date = [date.fromisoformat(d) for d in frame.first_load_date]\n",
    "        frame.ts_signup = [datetime.datetime.strptime(d, '%Y-%m-%d %H:%M:%S+00:00') for d in frame.ts_signup]\n",
    "        frame.ts_signup = [date(year=d.year, month=d.month, day=d.day) for d in frame.ts_signup]\n",
    "    else:\n",
    "        frame.dt = [date.fromisoformat(d) for d in frame.dt]\n",
    "        frame.first_load_date = [date.fromisoformat(d) for d in frame.first_load_date]\n",
    "        frame.most_recent_load_date = [date.fromisoformat(d) for d in frame.most_recent_load_date]\n",
    "        frame.ts_signup = [datetime.datetime.strptime(d, '%Y-%m-%d %H:%M:%S+00:00') for d in frame.ts_signup]\n",
    "        frame.ts_signup = [date(year=d.year, month=d.month, day=d.day) for d in frame.ts_signup]\n",
    "    return frame"
   ]
  },
  {
   "cell_type": "code",
   "execution_count": 3,
   "metadata": {},
   "outputs": [],
   "source": [
    "def convert_date_to_int(dataframe, columns):\n",
    "    frame = dataframe.copy()\n",
    "    conversion = lambda dt_time: 10000*dt_time.year + 100*dt_time.month + dt_time.day\n",
    "    \n",
    "    for col in columns:\n",
    "        frame[f'{col}'] = [conversion(d) for d in frame[f'{col}']]\n",
    "\n",
    "    return frame"
   ]
  },
  {
   "cell_type": "code",
   "execution_count": 4,
   "metadata": {},
   "outputs": [],
   "source": [
    "def aggregate_rows_by_driver_id(dataframe):\n",
    "    '''\n",
    "    Returns a new dataframe indexed by Driver ID using an optimal set of aggregations per column.\n",
    "    This method will return a dataframe that only contains the columns listed below.\n",
    "    Note: duplicate columns are inherently pruned (simply by not adding them below), so it is \n",
    "        safe to pass in the full dataframe and expect a pruned version in return. \n",
    "        Also note that the `id_driver` will now be the index of the dataframe and NOT its own column.\n",
    "    '''\n",
    "    minimum = 'min'\n",
    "    maximum = 'max'\n",
    "    median = 'median'\n",
    "    random_mode = lambda x: random.choice(pd.Series.mode(x if isinstance(x, list) else list(x)))\n",
    "    average = lambda x: pd.Series.mean(x)\n",
    "\n",
    "    aggregation = {\n",
    "        'dt': maximum,\n",
    "        'weekday': random_mode,\n",
    "        'dim_carrier_type': random_mode,\n",
    "        'carrier_trucks': mode,\n",
    "        'num_trucks': maximum,\n",
    "        'interested_in_drayage': random_mode,\n",
    "        'port_qualified': random_mode,\n",
    "        'signup_source': random_mode,\n",
    "        'ts_signup': maximum,\n",
    "        'days_signup_to_approval': maximum,\n",
    "        'driver_with_twic': mode,\n",
    "        'dim_preferred_lanes': mode,\n",
    "        'first_load_date': minimum,\n",
    "        'loads': random_mode,\n",
    "        'marketplace_loads_otr': maximum,\n",
    "        'marketplace_loads_atlas': maximum,\n",
    "        'marketplace_loads': maximum,\n",
    "        'brokerage_loads_otr': maximum,\n",
    "        'brokerage_loads_atlas': maximum,\n",
    "        'brokerage_loads': maximum,\n",
    "        'label': random_mode\n",
    "    }\n",
    "\n",
    "    return dataframe.groupby(['id_driver']).agg(aggregation)"
   ]
  },
  {
   "cell_type": "code",
   "execution_count": 5,
   "metadata": {},
   "outputs": [],
   "source": [
    "def augment_boolean_columns(dataframe):\n",
    "    frame = dataframe.copy()\n",
    "    label_encoder = LabelEncoder()\n",
    "    \n",
    "    # Replacement (no new columns needed, just transform strings to 0 or 1)\n",
    "    frame['interested_in_drayage'] = label_encoder.fit_transform(frame.interested_in_drayage)\n",
    "    frame['port_qualified'] = label_encoder.fit_transform(frame.port_qualified)\n",
    "    frame['driver_with_twic'] = label_encoder.fit_transform(frame.driver_with_twic)\n",
    "    \n",
    "    # Create new columns with more appropriate names, delete the old columns\n",
    "    frame['self_owned'] = label_encoder.fit_transform(frame.dim_carrier_type)\n",
    "    frame['mobile_signup'] = np.logical_xor(label_encoder.fit_transform(frame.signup_source), 1).astype(int)\n",
    "    frame['has_route_preference'] = label_encoder.fit_transform(~frame.dim_preferred_lanes.isnull())\n",
    "    frame.drop(columns=['dim_carrier_type', 'signup_source', 'dim_preferred_lanes'], inplace=True)\n",
    "    \n",
    "    return frame"
   ]
  },
  {
   "cell_type": "code",
   "execution_count": 6,
   "metadata": {},
   "outputs": [],
   "source": [
    "def encode_categorical_columns(dataframe):\n",
    "    frame = dataframe.copy()\n",
    "\n",
    "    # Encode various truck types\n",
    "    trucks = pd.get_dummies(frame.carrier_trucks)\n",
    "    trucks.columns = ['truck-' + c.replace('[', '').replace(']', '').replace('\"', '').replace(',', '').replace(' ', '-') for c in trucks.columns]\n",
    "    \n",
    "    # Encode the 7 different days of the week\n",
    "    weekdays = pd.get_dummies(frame.weekday)\n",
    "    weekdays.columns = [f'prefers-{x}'.lower() for x in weekdays.columns]\n",
    "    \n",
    "    # Drop the originals since they are no longer needed.\n",
    "    frame.drop(columns=['carrier_trucks', 'weekday'], inplace=True)\n",
    "    \n",
    "    # Concatenate various new frames with the original and return\n",
    "    result = pd.concat([frame, trucks, weekdays], axis=1)\n",
    "    return result"
   ]
  },
  {
   "cell_type": "code",
   "execution_count": 7,
   "metadata": {},
   "outputs": [],
   "source": [
    "def standardize_numericals(dataframe, columns=None):    \n",
    "    scaler = StandardScaler()\n",
    "    frame = None\n",
    "    \n",
    "    if columns:\n",
    "        frame = dataframe[columns].copy()\n",
    "    else:\n",
    "        frame = dataframe.copy()\n",
    "    \n",
    "    x = scaler.fit_transform(frame)\n",
    "    scaled_df = pd.DataFrame(x)\n",
    "    scaled_df.columns = frame.columns\n",
    "\n",
    "    \n",
    "    if columns:\n",
    "        frame = dataframe.copy()\n",
    "        frame[columns] = scaled_df.values\n",
    "    else:\n",
    "        frame = scaled_df.copy()\n",
    "    \n",
    "    return frame"
   ]
  },
  {
   "cell_type": "code",
   "execution_count": 8,
   "metadata": {},
   "outputs": [],
   "source": [
    "def impute_numericals(dataframe, columns, strategy='most_frequent', testset=False):\n",
    "    frame = dataframe.copy()\n",
    "    imp = SimpleImputer(missing_values=np.nan, strategy=strategy)\n",
    "    \n",
    "    for col in columns:\n",
    "        imp.fit(frame[f'{col}'].values.reshape(-1, 1))\n",
    "        frame[f'{col}'] = imp.transform(frame[f'{col}'].values.reshape(-1, 1))\n",
    "    \n",
    "    return frame"
   ]
  },
  {
   "cell_type": "code",
   "execution_count": 9,
   "metadata": {},
   "outputs": [],
   "source": [
    "def generate_labels(dataframe, loads_percentile, most_recent_percentile):\n",
    "    label_encoder = LabelEncoder()\n",
    "    frame = dataframe.copy()\n",
    "    \n",
    "    labels = (frame.total_loads > loads_percentile) & (frame.most_recent_load_date > most_recent_percentile)\n",
    "    frame['label'] = label_encoder.fit_transform(labels)\n",
    "    frame.drop(columns=['total_loads', 'most_recent_load_date'], inplace=True)\n",
    "    \n",
    "    return frame"
   ]
  },
  {
   "cell_type": "code",
   "execution_count": 10,
   "metadata": {},
   "outputs": [],
   "source": [
    "def get_Xy(dataframe, aggregate=False, standardize=False, testdata=False):\n",
    "    frame = dataframe.copy()\n",
    "    scaler = StandardScaler()\n",
    "    if not testdata:\n",
    "        loads_75th_percentile = dataframe[\"total_loads\"].quantile(0.75)\n",
    "    most_recent_75th_percentile = date(year=2021, month=2, day=10)\n",
    "\n",
    "\n",
    "    if testdata:\n",
    "        frame = convert_strings_to_dates(frame, testset=True)\n",
    "        frame = augment_boolean_columns(frame)\n",
    "        frame = encode_categorical_columns(frame)\n",
    "        frame = convert_date_to_int(frame, columns=['dt', 'ts_signup', 'first_load_date'])\n",
    "\n",
    "        # The only columns not in the new frame should be booleans that are safely set to 0\n",
    "        for col in dataframe.columns:\n",
    "            if col not in frame.columns:\n",
    "                frame[f'{col}'] = 0\n",
    "\n",
    "        frame.drop(columns=['weekday'], inplace=True)\n",
    "        frame = impute_numericals(frame, ['days_signup_to_approval'])\n",
    "\n",
    "        if standardize:\n",
    "            frame = standardize_numericals(frame)\n",
    "\n",
    "        frame.sort_index(axis=1, inplace=True)\n",
    "        return frame, None\n",
    "    \n",
    "    \n",
    "    frame = convert_strings_to_dates(frame)\n",
    "    \n",
    "    if aggregate:\n",
    "        frame = generate_labels(frame, loads_75th_percentile, most_recent_75th_percentile)\n",
    "        frame = aggregate_rows_by_driver_id(frame)\n",
    "        frame = augment_boolean_columns(frame)\n",
    "        frame = encode_categorical_columns(frame)\n",
    "        frame = convert_date_to_int(frame, columns=['dt', 'ts_signup', 'first_load_date'])\n",
    "\n",
    "        labels = frame.label.copy()\n",
    "        frame.drop(columns=['label'], inplace=True)\n",
    "        \n",
    "        if standardize:\n",
    "            frame = standardize_numericals(frame)\n",
    "\n",
    "        frame.sort_index(axis=1, inplace=True)\n",
    "        \n",
    "        return frame, labels\n",
    "    else:\n",
    "        frame = generate_labels(frame, loads_75th_percentile, most_recent_75th_percentile)\n",
    "        frame = augment_boolean_columns(frame)\n",
    "        frame = encode_categorical_columns(frame)\n",
    "        frame = convert_date_to_int(frame, columns=['dt', 'ts_signup', 'first_load_date'])\n",
    "\n",
    "        labels = frame.label.copy()\n",
    "        frame.drop(columns=['label'], inplace=True)\n",
    "        \n",
    "        if standardize:\n",
    "            frame = standardize_numericals(frame)\n",
    "\n",
    "        frame.sort_index(axis=1, inplace=True)\n",
    "        \n",
    "        return frame, labels"
   ]
  },
  {
   "cell_type": "markdown",
   "metadata": {},
   "source": [
    "## Load CSV to DataFrame"
   ]
  },
  {
   "cell_type": "code",
   "execution_count": 11,
   "metadata": {},
   "outputs": [],
   "source": [
    "train_df = pd.read_csv('training_dataset_V3.csv')\n",
    "test_df = pd.read_csv('score_V3.csv')"
   ]
  },
  {
   "cell_type": "markdown",
   "metadata": {},
   "source": [
    "**Drops duplicates and unwanted columns**"
   ]
  },
  {
   "cell_type": "code",
   "execution_count": 12,
   "metadata": {},
   "outputs": [],
   "source": [
    "train_Ids = train_df['Unnamed: 0']\n",
    "train_df.drop(columns=['Unnamed: 0', 'load_day', 'ts_first_approved', 'dim_carrier_company_name', 'home_base_city', 'home_base_state', 'id_carrier_number', 'year'], inplace=True)\n",
    "train_df.dropna(subset=['days_signup_to_approval', 'num_trucks'], inplace=True)\n",
    "\n",
    "test_Ids = test_df['Unnamed: 0']\n",
    "test_df.drop(columns=['Unnamed: 0', 'load_day', 'ts_first_approved', 'dim_carrier_company_name', 'home_base_city', 'home_base_state', 'id_carrier_number', 'year'], inplace=True)"
   ]
  },
  {
   "cell_type": "markdown",
   "metadata": {},
   "source": [
    "---\n",
    "\n",
    "# 1 - Generate Labels and 4 - Pipeline"
   ]
  },
  {
   "cell_type": "code",
   "execution_count": 13,
   "metadata": {},
   "outputs": [],
   "source": [
    "# Use this when you want to generate output for Kaggle\n",
    "X_train, y_train = get_Xy(train_df, standardize=True, aggregate=False, testdata=False)\n",
    "X_test, _ = get_Xy(test_df, standardize=True, aggregate=False, testdata=True)"
   ]
  },
  {
   "cell_type": "code",
   "execution_count": 14,
   "metadata": {},
   "outputs": [
    {
     "data": {
      "text/plain": [
       "0.1519867176947321"
      ]
     },
     "execution_count": 14,
     "metadata": {},
     "output_type": "execute_result"
    }
   ],
   "source": [
    "# testing the number of labels\n",
    "np.sum(np.array(y_train)) / len(y_train)"
   ]
  },
  {
   "cell_type": "code",
   "execution_count": 15,
   "metadata": {},
   "outputs": [],
   "source": [
    "# Use this for training/testing your model\n",
    "X, y = get_Xy(train_df, standardize=True, aggregate=False, testdata=False)\n",
    "X_train, X_test, y_train, y_test = train_test_split(X, y, test_size=0.20, random_state=42)"
   ]
  },
  {
   "cell_type": "code",
   "execution_count": 16,
   "metadata": {},
   "outputs": [
    {
     "data": {
      "text/plain": [
       "((56857, 40), (56857,))"
      ]
     },
     "execution_count": 16,
     "metadata": {},
     "output_type": "execute_result"
    }
   ],
   "source": [
    "X_train.shape, y_train.shape"
   ]
  },
  {
   "cell_type": "code",
   "execution_count": 17,
   "metadata": {},
   "outputs": [
    {
     "data": {
      "text/plain": [
       "((14215, 40), (14215,))"
      ]
     },
     "execution_count": 17,
     "metadata": {},
     "output_type": "execute_result"
    }
   ],
   "source": [
    "X_test.shape, y_test.shape"
   ]
  },
  {
   "cell_type": "markdown",
   "metadata": {},
   "source": [
    "# 5 - Linear Regression"
   ]
  },
  {
   "cell_type": "markdown",
   "metadata": {},
   "source": [
    "## Perform a logistic regression on all the variables"
   ]
  },
  {
   "cell_type": "code",
   "execution_count": 18,
   "metadata": {},
   "outputs": [
    {
     "name": "stdout",
     "output_type": "stream",
     "text": [
      "MSE of test data = 0.078016\n",
      "MSE of train data = 0.074608\n",
      "R^2 of Test = 0.92198\n",
      "R^2 of Train = 0.92539\n"
     ]
    },
    {
     "data": {
      "text/plain": [
       "<matplotlib.legend.Legend at 0x23aa76e3fd0>"
      ]
     },
     "execution_count": 18,
     "metadata": {},
     "output_type": "execute_result"
    },
    {
     "data": {
      "image/png": "[encoded data removed]",
      "text/plain": [
       "<Figure size 720x432 with 1 Axes>"
      ]
     },
     "metadata": {
      "needs_background": "light"
     },
     "output_type": "display_data"
    }
   ],
   "source": [
    "clf = LogisticRegression(max_iter=200)\n",
    "clf.fit(X_train, y_train)\n",
    "pred = clf.predict(X_test)\n",
    "\n",
    "# report scores \n",
    "r2_test = clf.score(X_test, y_test)\n",
    "r2_train = clf.score(X_train, y_train)\n",
    "mse_test = mean_squared_error(pred, y_test)\n",
    "mse_train = mean_squared_error(y_train, clf.predict(X_train))\n",
    "\n",
    "print(f'MSE of test data = {mse_test:.5}')\n",
    "print(f'MSE of train data = {mse_train:.5}')\n",
    "print(f'R^2 of Test = {r2_test:.5}')\n",
    "print(f'R^2 of Train = {r2_train:.5}')\n",
    "\n",
    "# plotting the y versus the predicted y\n",
    "fig, ax = plt.subplots(1,1, figsize=(10,6))\n",
    "ax.plot(X_test.num_trucks, y_test, 'o', label=\"Real\", alpha=0.5)\n",
    "ax.plot(X_test.num_trucks, pred, 'o', label=\"Predictions\", alpha=0.05)\n",
    "ax.set_xlabel(\"Pipelined Number of trucks\")\n",
    "ax.set_ylabel(\"1 = High Performing Driver\")\n",
    "ax.set_title(\"Predicted vs Real Labels\")\n",
    "ax.legend()"
   ]
  },
  {
   "cell_type": "markdown",
   "metadata": {},
   "source": [
    "## Perform a bootstrap with 150 samples to get a distribution of predictor coefficients"
   ]
  },
  {
   "cell_type": "code",
   "execution_count": 19,
   "metadata": {},
   "outputs": [
    {
     "data": {
      "text/plain": [
       "BaggingRegressor(base_estimator=LogisticRegression(max_iter=200),\n",
       "                 max_samples=3148, n_estimators=100)"
      ]
     },
     "execution_count": 19,
     "metadata": {},
     "output_type": "execute_result"
    }
   ],
   "source": [
    "n_estimators = 100\n",
    "sample_size = 3148\n",
    "model = BaggingRegressor(LogisticRegression(max_iter=200), \n",
    "                         n_estimators=n_estimators,\n",
    "                         bootstrap=True, max_samples=sample_size)\n",
    "\n",
    "model.fit(X_train, y_train)"
   ]
  },
  {
   "cell_type": "code",
   "execution_count": 20,
   "metadata": {},
   "outputs": [
    {
     "name": "stdout",
     "output_type": "stream",
     "text": [
      "Intercept mean: -5.43                    std: 0.18\n",
      "Predictor 0 mean: 1.64                     std: 0.12\n",
      "Predictor 1 mean: 0.27                     std: 0.07\n",
      "Predictor 2 mean: 1.60                     std: 0.12\n",
      "Predictor 3 mean: -0.00                    std: 0.16\n",
      "Predictor 4 mean: 0.16                     std: 0.11\n",
      "Predictor 5 mean: 1.13                     std: 0.14\n",
      "Predictor 6 mean: 0.27                     std: 0.17\n",
      "Predictor 7 mean: -0.61                    std: 0.03\n",
      "Predictor 8 mean: 0.27                     std: 0.24\n",
      "Predictor 9 mean: -0.02                    std: 0.11\n",
      "Predictor 10 mean: -0.24                    std: 0.08\n",
      "Predictor 11 mean: 0.80                     std: 0.06\n",
      "Predictor 12 mean: 0.84                     std: 0.07\n",
      "Predictor 13 mean: 0.07                     std: 0.08\n",
      "Predictor 14 mean: -0.16                    std: 0.07\n",
      "Predictor 15 mean: -4.87                    std: 0.36\n",
      "Predictor 16 mean: -0.40                    std: 0.18\n",
      "Predictor 17 mean: -0.03                    std: 0.07\n",
      "Predictor 18 mean: -0.03                    std: 0.07\n",
      "Predictor 19 mean: 0.03                     std: 0.07\n",
      "Predictor 20 mean: 0.00                     std: 0.07\n",
      "Predictor 21 mean: 0.01                     std: 0.06\n",
      "Predictor 22 mean: 0.01                     std: 0.06\n",
      "Predictor 23 mean: 0.00                     std: 0.06\n",
      "Predictor 24 mean: 0.30                     std: 0.10\n",
      "Predictor 25 mean: -0.24                    std: 0.08\n",
      "Predictor 26 mean: 0.34                     std: 0.08\n",
      "Predictor 27 mean: 0.47                     std: 0.04\n",
      "Predictor 28 mean: -0.09                    std: 0.02\n",
      "Predictor 29 mean: 0.00                     std: 0.00\n",
      "Predictor 30 mean: 0.11                     std: 0.09\n",
      "Predictor 31 mean: -0.03                    std: 0.03\n",
      "Predictor 32 mean: -0.04                    std: 0.02\n",
      "Predictor 33 mean: 0.15                     std: 0.06\n",
      "Predictor 34 mean: -0.18                    std: 0.02\n",
      "Predictor 35 mean: -0.96                    std: 0.09\n",
      "Predictor 36 mean: -0.08                    std: 0.02\n",
      "Predictor 37 mean: -0.00                    std: 0.01\n",
      "Predictor 38 mean: -0.03                    std: 0.02\n",
      "Predictor 39 mean: 0.30                     std: 0.27\n"
     ]
    }
   ],
   "source": [
    "tot_columns = len(X_train.columns)\n",
    "intercept=[]\n",
    "beta=[ [] for _ in range(tot_columns)]\n",
    "\n",
    "for m in model.estimators_:\n",
    "    intercept.append(m.intercept_)\n",
    "    for i in range(tot_columns):\n",
    "        beta[i].append(m.coef_[0][i])\n",
    "\n",
    "coef_mean = []\n",
    "coef_std = []\n",
    "\n",
    "print(f'Intercept mean: {np.mean(intercept):<25.2f}std: {np.std(intercept):.2f}')\n",
    "for i, b in enumerate(beta):\n",
    "    print(f'Predictor {i} mean: {np.mean(beta[i]):<25.2f}std: {np.std(beta[i]):.2f}')\n",
    "    coef_mean.append(np.mean(beta[i]))\n",
    "    coef_std.append(np.std(beta[i]))"
   ]
  },
  {
   "cell_type": "markdown",
   "metadata": {},
   "source": [
    "## Perform a t-test on all the predictors, and use p-values to determine which predictors are most significant. Perform a VIF test on to see which predictors are highly correlated"
   ]
  },
  {
   "cell_type": "code",
   "execution_count": 21,
   "metadata": {},
   "outputs": [
    {
     "data": {
      "text/plain": [
       "{3: 0.421202925756515,\n",
       " 20: 0.29369704933130736,\n",
       " 23: 0.25216255422558803,\n",
       " 29: 0.13270295638269491,\n",
       " 37: 0.35676712863764704}"
      ]
     },
     "execution_count": 21,
     "metadata": {},
     "output_type": "execute_result"
    }
   ],
   "source": [
    "t_statistic = []\n",
    "p_val = []\n",
    "for i in range(tot_columns):\n",
    "    stats = st.ttest_1samp(beta[i], 0)\n",
    "    t_statistic.append(stats.statistic)\n",
    "    p_val.append(stats.pvalue/2)\n",
    "\n",
    "discard = {}\n",
    "for i,p in enumerate(p_val):\n",
    "    if p > 0.05:\n",
    "        discard[i] = p\n",
    "discard"
   ]
  },
  {
   "cell_type": "code",
   "execution_count": 22,
   "metadata": {},
   "outputs": [
    {
     "name": "stderr",
     "output_type": "stream",
     "text": [
      "C:\\Users\\myLaptop\\anaconda3\\lib\\site-packages\\statsmodels\\stats\\outliers_influence.py:193: RuntimeWarning: divide by zero encountered in double_scalars\n",
      "  vif = 1. / (1. - r_squared_i)\n"
     ]
    },
    {
     "name": "stdout",
     "output_type": "stream",
     "text": [
      "\n",
      "                             feature           VIF\n",
      "0                   brokerage_loads           inf\n",
      "1             brokerage_loads_atlas           inf\n",
      "2               brokerage_loads_otr           inf\n",
      "3                  driver_with_twic  4.351993e+00\n",
      "4                                dt  3.050112e+00\n",
      "5                   first_load_date  9.184203e+00\n",
      "6              has_route_preference  1.074831e+00\n",
      "7                         id_driver  1.016668e+01\n",
      "8             interested_in_drayage  2.014082e+00\n",
      "9                             loads  1.415320e+00\n",
      "10                marketplace_loads  4.784352e+07\n",
      "11          marketplace_loads_atlas  6.450426e+07\n",
      "12            marketplace_loads_otr  6.193921e+11\n",
      "13                    mobile_signup  1.460149e+00\n",
      "14                       num_trucks  3.865098e+00\n",
      "15                   port_qualified  6.104266e+00\n",
      "16                   prefers-friday  1.480515e+00\n",
      "17                   prefers-monday  1.403242e+00\n",
      "18                 prefers-saturday  1.285238e+00\n",
      "19                 prefers-thursday  1.487844e+00\n",
      "20                  prefers-tuesday  1.479948e+00\n",
      "21                       self_owned  2.002093e+00\n",
      "22                   truck-boxtruck  4.971978e+02\n",
      "23                     truck-dryvan  3.264557e+03\n",
      "24            truck-dryvan-boxtruck  2.409978e+02\n",
      "25  truck-dryvan-boxtruck-poweronly  1.720718e+01\n",
      "26           truck-dryvan-poweronly  1.254631e+03\n",
      "27              truck-dryvan-reefer  2.197107e+01\n",
      "28                    truck-flatbed  1.579182e+01\n",
      "29                  truck-poweronly  3.405384e+03\n",
      "30         truck-poweronly-boxtruck  6.962352e+01\n",
      "31           truck-poweronly-dryvan  1.102221e+03\n",
      "32                     truck-reefer  3.075595e+01\n",
      "33           truck-reefer-poweronly  5.602986e+00\n",
      "34                        ts_signup  6.973840e+00 \n",
      "\n",
      "<class 'pandas.core.frame.DataFrame'>\n",
      "RangeIndex: 71072 entries, 0 to 71071\n",
      "Data columns (total 32 columns):\n",
      " #   Column                           Non-Null Count  Dtype  \n",
      "---  ------                           --------------  -----  \n",
      " 0   driver_with_twic                 71072 non-null  float64\n",
      " 1   dt                               71072 non-null  float64\n",
      " 2   first_load_date                  71072 non-null  float64\n",
      " 3   has_route_preference             71072 non-null  float64\n",
      " 4   id_driver                        71072 non-null  float64\n",
      " 5   interested_in_drayage            71072 non-null  float64\n",
      " 6   loads                            71072 non-null  float64\n",
      " 7   marketplace_loads                71072 non-null  float64\n",
      " 8   marketplace_loads_atlas          71072 non-null  float64\n",
      " 9   marketplace_loads_otr            71072 non-null  float64\n",
      " 10  mobile_signup                    71072 non-null  float64\n",
      " 11  num_trucks                       71072 non-null  float64\n",
      " 12  port_qualified                   71072 non-null  float64\n",
      " 13  prefers-friday                   71072 non-null  float64\n",
      " 14  prefers-monday                   71072 non-null  float64\n",
      " 15  prefers-saturday                 71072 non-null  float64\n",
      " 16  prefers-thursday                 71072 non-null  float64\n",
      " 17  prefers-tuesday                  71072 non-null  float64\n",
      " 18  self_owned                       71072 non-null  float64\n",
      " 19  truck-boxtruck                   71072 non-null  float64\n",
      " 20  truck-dryvan                     71072 non-null  float64\n",
      " 21  truck-dryvan-boxtruck            71072 non-null  float64\n",
      " 22  truck-dryvan-boxtruck-poweronly  71072 non-null  float64\n",
      " 23  truck-dryvan-poweronly           71072 non-null  float64\n",
      " 24  truck-dryvan-reefer              71072 non-null  float64\n",
      " 25  truck-flatbed                    71072 non-null  float64\n",
      " 26  truck-poweronly                  71072 non-null  float64\n",
      " 27  truck-poweronly-boxtruck         71072 non-null  float64\n",
      " 28  truck-poweronly-dryvan           71072 non-null  float64\n",
      " 29  truck-reefer                     71072 non-null  float64\n",
      " 30  truck-reefer-poweronly           71072 non-null  float64\n",
      " 31  ts_signup                        71072 non-null  float64\n",
      "dtypes: float64(32)\n",
      "memory usage: 17.4 MB\n"
     ]
    }
   ],
   "source": [
    "X_sig_pred = X.copy()\n",
    "X_sig_pred.drop(X_sig_pred.columns[list(discard.keys())],axis=1, inplace=True)\n",
    "  \n",
    "# VIF dataframe \n",
    "vif_data = pd.DataFrame() \n",
    "vif_data[\"feature\"] = X_sig_pred.columns \n",
    "vif_data[\"VIF\"] = [variance_inflation_factor(X_sig_pred.values, i) for i in range(len(X_sig_pred.columns))]  \n",
    "print('\\n', vif_data, '\\n')\n",
    "\n",
    "vif_data.replace(np.inf, np.nan, inplace=True) \n",
    "vif_data.dropna(inplace=True) \n",
    "vif_data\n",
    "\n",
    "keep_columns = list(vif_data.feature)\n",
    "X_sig_pred = X_sig_pred[keep_columns]\n",
    "X_sig_pred.info()"
   ]
  },
  {
   "cell_type": "markdown",
   "metadata": {},
   "source": [
    "## Select significant predictors based on results and build another linear regression model"
   ]
  },
  {
   "cell_type": "code",
   "execution_count": 23,
   "metadata": {},
   "outputs": [],
   "source": [
    "X_train_sig, X_test_sig, y_train_sig, y_test_sig = train_test_split(X_sig_pred, y, test_size=0.20, random_state=42)"
   ]
  },
  {
   "cell_type": "code",
   "execution_count": 24,
   "metadata": {},
   "outputs": [
    {
     "name": "stdout",
     "output_type": "stream",
     "text": [
      "MSE of test data = 0.10798\n",
      "MSE of train data = 0.10985\n",
      "R^2 of Test = 0.89202\n",
      "R^2 of Train = 0.89015\n",
      "\n",
      "                            Feature  Coefficient\n",
      "0                         Intercept    -4.349690\n",
      "1                  driver_with_twic    -0.150627\n",
      "2                                dt     1.088362\n",
      "3                   first_load_date    -0.229214\n",
      "4              has_route_preference    -1.284125\n",
      "5                         id_driver    -0.552902\n",
      "6             interested_in_drayage     0.160826\n",
      "7                             loads     0.361578\n",
      "8                 marketplace_loads     0.655462\n",
      "9           marketplace_loads_atlas     0.703758\n",
      "10            marketplace_loads_otr     0.032786\n",
      "11                    mobile_signup     0.002639\n",
      "12                       num_trucks    -2.935999\n",
      "13                   port_qualified    -0.380272\n",
      "14                   prefers-friday    -0.033735\n",
      "15                   prefers-monday     0.019253\n",
      "16                 prefers-saturday     0.028795\n",
      "17                 prefers-thursday     0.008901\n",
      "18                  prefers-tuesday    -0.007128\n",
      "19                       self_owned    -0.044867\n",
      "20                   truck-boxtruck     0.436028\n",
      "21                     truck-dryvan     0.329785\n",
      "22            truck-dryvan-boxtruck     0.390150\n",
      "23  truck-dryvan-boxtruck-poweronly    -0.161377\n",
      "24           truck-dryvan-poweronly     0.269283\n",
      "25              truck-dryvan-reefer    -0.178558\n",
      "26                    truck-flatbed    -0.165942\n",
      "27                  truck-poweronly     0.232617\n",
      "28         truck-poweronly-boxtruck    -0.450881\n",
      "29           truck-poweronly-dryvan    -1.496970\n",
      "30                     truck-reefer    -0.234672\n",
      "31           truck-reefer-poweronly    -0.103054\n",
      "32                        ts_signup     0.782604\n"
     ]
    },
    {
     "data": {
      "text/plain": [
       "<matplotlib.legend.Legend at 0x23aab284b20>"
      ]
     },
     "execution_count": 24,
     "metadata": {},
     "output_type": "execute_result"
    },
    {
     "data": {
      "image/png": "[encoded data removed]",
      "text/plain": [
       "<Figure size 720x432 with 1 Axes>"
      ]
     },
     "metadata": {
      "needs_background": "light"
     },
     "output_type": "display_data"
    }
   ],
   "source": [
    "# train logistic model\n",
    "clf = LogisticRegression(max_iter=200)\n",
    "clf.fit(X_train_sig, y_train_sig)\n",
    "pred = clf.predict(X_test_sig)\n",
    "\n",
    "# report scores \n",
    "r2_test = clf.score(X_test_sig, y_test_sig)\n",
    "r2_train = clf.score(X_train_sig, y_train_sig)\n",
    "mse_test = mean_squared_error(pred, y_test_sig)\n",
    "mse_train = mean_squared_error(y_train_sig, clf.predict(X_train_sig))\n",
    "\n",
    "print(f'MSE of test data = {mse_test:.5}')\n",
    "print(f'MSE of train data = {mse_train:.5}')\n",
    "print(f'R^2 of Test = {r2_test:.5}')\n",
    "print(f'R^2 of Train = {r2_train:.5}\\n')\n",
    "\n",
    "# coeffcients\n",
    "new_row = pd.DataFrame({'Feature':'Intercept', 'Coefficient': clf.intercept_}, index=[0]) \n",
    "predictors = pd.DataFrame() \n",
    "predictors[\"Feature\"] = X_sig_pred.columns\n",
    "predictors[\"Coefficient\"] = clf.coef_[0]\n",
    "predictors = pd.concat([new_row, predictors]).reset_index(drop = True)\n",
    "print(predictors)\n",
    "\n",
    "# plotting the y versus the predicted y\n",
    "fig, ax = plt.subplots(1,1, figsize=(10,6))\n",
    "ax.plot(X_test_sig.num_trucks, y_test_sig, 'o', label=\"Real\", alpha=0.5)\n",
    "ax.plot(X_test_sig.num_trucks, pred, 'o', label=\"Predictions\", alpha=0.05)\n",
    "ax.set_xlabel(\"Significant Predictors Number of trucks\")\n",
    "ax.set_ylabel(\"1 = High Performing Driver\")\n",
    "ax.set_title(\"Predicted vs Real Labels\")\n",
    "ax.legend()"
   ]
  },
  {
   "cell_type": "markdown",
   "metadata": {},
   "source": [
    "# 6 - PCA"
   ]
  },
  {
   "cell_type": "code",
   "execution_count": null,
   "metadata": {},
   "outputs": [],
   "source": []
  },
  {
   "cell_type": "markdown",
   "metadata": {},
   "source": [
    "# 7 - Ensemble Method"
   ]
  },
  {
   "cell_type": "code",
   "execution_count": null,
   "metadata": {},
   "outputs": [],
   "source": []
  },
  {
   "cell_type": "markdown",
   "metadata": {},
   "source": [
    "# 8 - Neural Network"
   ]
  },
  {
   "cell_type": "code",
   "execution_count": null,
   "metadata": {},
   "outputs": [],
   "source": []
  },
  {
   "cell_type": "markdown",
   "metadata": {},
   "source": [
    "# 9 - Cross Validation"
   ]
  },
  {
   "cell_type": "code",
   "execution_count": null,
   "metadata": {},
   "outputs": [],
   "source": []
  },
  {
   "cell_type": "markdown",
   "metadata": {},
   "source": [
    "# 10 - Custom Model"
   ]
  },
  {
   "cell_type": "code",
   "execution_count": null,
   "metadata": {},
   "outputs": [],
   "source": []
  },
  {
   "cell_type": "code",
   "execution_count": 25,
   "metadata": {},
   "outputs": [
    {
     "data": {
      "text/plain": [
       "1.0"
      ]
     },
     "execution_count": 25,
     "metadata": {},
     "output_type": "execute_result"
    }
   ],
   "source": [
    "clf = MLPClassifier()\n",
    "clf.fit(X_train, y_train)\n",
    "clf.score(X_test, y_test)"
   ]
  },
  {
   "cell_type": "code",
   "execution_count": null,
   "metadata": {},
   "outputs": [],
   "source": []
  }
 ],
 "metadata": {
  "kernelspec": {
   "display_name": "Python 3",
   "language": "python",
   "name": "python3"
  },
  "language_info": {
   "codemirror_mode": {
    "name": "ipython",
    "version": 3
   },
   "file_extension": ".py",
   "mimetype": "text/x-python",
   "name": "python",
   "nbconvert_exporter": "python",
   "pygments_lexer": "ipython3",
   "version": "3.9.2"
  }
 },
 "nbformat": 4,
 "nbformat_minor": 5
}
